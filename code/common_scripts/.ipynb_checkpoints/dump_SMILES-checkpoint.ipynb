{
 "cells": [
  {
   "cell_type": "code",
   "execution_count": 4,
   "id": "31fbd4ba-7414-465c-9b5c-3bbd5d7e8cfd",
   "metadata": {},
   "outputs": [],
   "source": [
    "from pathlib import Path\n",
    "import pandas as pd\n",
    "\n",
    "drug_df = pd.read_csv(\"../../data/mined_data/DDI_subset.csv\")\n",
    "\n",
    "drug_id_name = {}\n",
    "sample_id = 0\n",
    "for row in drug_df.itertuples():\n",
    "    if (row.drug_1_name, row.drug_1_SMILES) not in drug_id_name:\n",
    "        drug_id_name[(row.drug_1_name, row.drug_1_SMILES)] = sample_id\n",
    "        sample_id += 1\n",
    "    \n",
    "    if (row.drug_2_name, row.drug_2_SMILES) not in drug_id_name:\n",
    "        drug_id_name[(row.drug_2_name, row.drug_2_SMILES)] = sample_id\n",
    "        sample_id += 1\n",
    "\n",
    "for key, val in drug_id_name.items():\n",
    "    with Path(f\"../../data/background_information_data/drug_data/SMILES/{val}.txt\").open(\"w\") as file:\n",
    "        file.write(f\"DRUG NAME: {key[0]}\\nDRUG SMILES: {key[1]}\")"
   ]
  }
 ],
 "metadata": {
  "kernelspec": {
   "display_name": "Python 3 (ipykernel)",
   "language": "python",
   "name": "python3"
  },
  "language_info": {
   "codemirror_mode": {
    "name": "ipython",
    "version": 3
   },
   "file_extension": ".py",
   "mimetype": "text/x-python",
   "name": "python",
   "nbconvert_exporter": "python",
   "pygments_lexer": "ipython3",
   "version": "3.12.3"
  }
 },
 "nbformat": 4,
 "nbformat_minor": 5
}
