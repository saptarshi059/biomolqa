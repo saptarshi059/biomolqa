{
 "cells": [
  {
   "cell_type": "code",
   "execution_count": 1,
   "metadata": {},
   "outputs": [
    {
     "data": {
      "text/html": [
       "<div>\n",
       "<style scoped>\n",
       "    .dataframe tbody tr th:only-of-type {\n",
       "        vertical-align: middle;\n",
       "    }\n",
       "\n",
       "    .dataframe tbody tr th {\n",
       "        vertical-align: top;\n",
       "    }\n",
       "\n",
       "    .dataframe thead th {\n",
       "        text-align: right;\n",
       "    }\n",
       "</style>\n",
       "<table border=\"1\" class=\"dataframe\">\n",
       "  <thead>\n",
       "    <tr style=\"text-align: right;\">\n",
       "      <th></th>\n",
       "      <th>Entities</th>\n",
       "      <th>Question_Background</th>\n",
       "      <th>Question</th>\n",
       "      <th>Answer</th>\n",
       "      <th>Label</th>\n",
       "    </tr>\n",
       "  </thead>\n",
       "  <tbody>\n",
       "    <tr>\n",
       "      <th>0</th>\n",
       "      <td>Candesartan-Citalopram-Fluphenazine-Histamine ...</td>\n",
       "      <td>DRUG 1 NAME: Candesartan\\nDRUG 1 BACKGROUND IN...</td>\n",
       "      <td>Consider a high-affinity phenothiazine antipsy...</td>\n",
       "      <td>Histamine H1 receptor</td>\n",
       "      <td>8</td>\n",
       "    </tr>\n",
       "    <tr>\n",
       "      <th>1</th>\n",
       "      <td>Lamotrigine-Oxaprozin-Sildenafil</td>\n",
       "      <td>DRUG 1 NAME: Lamotrigine\\nDRUG 1 SMILES: C1=CC...</td>\n",
       "      <td>Which drug, whose structure features a pyrazol...</td>\n",
       "      <td>Sildenafil</td>\n",
       "      <td>4</td>\n",
       "    </tr>\n",
       "    <tr>\n",
       "      <th>2</th>\n",
       "      <td>Ranitidine-Sibutramine-Zolpidem</td>\n",
       "      <td>DRUG 1 NAME: Ranitidine\\nDRUG 1 SMILES: CNC(=C...</td>\n",
       "      <td>Which drug, containing an imidazopyridine core...</td>\n",
       "      <td>Zolpidem</td>\n",
       "      <td>4</td>\n",
       "    </tr>\n",
       "    <tr>\n",
       "      <th>3</th>\n",
       "      <td>Cetirizine-Dipyridamole-Sildenafil-Zaleplon</td>\n",
       "      <td>DRUG 1 NAME: Cetirizine\\nDRUG 1 BACKGROUND INF...</td>\n",
       "      <td>A selective PDE5 inhibitor used primarily for ...</td>\n",
       "      <td>Zaleplon</td>\n",
       "      <td>2</td>\n",
       "    </tr>\n",
       "    <tr>\n",
       "      <th>4</th>\n",
       "      <td>Alprazolam-Bumetanide-Fenofibrate-Modafinil</td>\n",
       "      <td>DRUG 1 NAME: Alprazolam\\nDRUG 1 SMILES: CC1=NN...</td>\n",
       "      <td>Which drug, characterized by a sulfinyl-linked...</td>\n",
       "      <td>Modafinil</td>\n",
       "      <td>5</td>\n",
       "    </tr>\n",
       "  </tbody>\n",
       "</table>\n",
       "</div>"
      ],
      "text/plain": [
       "                                            Entities  \\\n",
       "0  Candesartan-Citalopram-Fluphenazine-Histamine ...   \n",
       "1                   Lamotrigine-Oxaprozin-Sildenafil   \n",
       "2                    Ranitidine-Sibutramine-Zolpidem   \n",
       "3        Cetirizine-Dipyridamole-Sildenafil-Zaleplon   \n",
       "4        Alprazolam-Bumetanide-Fenofibrate-Modafinil   \n",
       "\n",
       "                                 Question_Background  \\\n",
       "0  DRUG 1 NAME: Candesartan\\nDRUG 1 BACKGROUND IN...   \n",
       "1  DRUG 1 NAME: Lamotrigine\\nDRUG 1 SMILES: C1=CC...   \n",
       "2  DRUG 1 NAME: Ranitidine\\nDRUG 1 SMILES: CNC(=C...   \n",
       "3  DRUG 1 NAME: Cetirizine\\nDRUG 1 BACKGROUND INF...   \n",
       "4  DRUG 1 NAME: Alprazolam\\nDRUG 1 SMILES: CC1=NN...   \n",
       "\n",
       "                                            Question                 Answer  \\\n",
       "0  Consider a high-affinity phenothiazine antipsy...  Histamine H1 receptor   \n",
       "1  Which drug, whose structure features a pyrazol...             Sildenafil   \n",
       "2  Which drug, containing an imidazopyridine core...               Zolpidem   \n",
       "3  A selective PDE5 inhibitor used primarily for ...               Zaleplon   \n",
       "4  Which drug, characterized by a sulfinyl-linked...              Modafinil   \n",
       "\n",
       "   Label  \n",
       "0      8  \n",
       "1      4  \n",
       "2      4  \n",
       "3      2  \n",
       "4      5  "
      ]
     },
     "execution_count": 1,
     "metadata": {},
     "output_type": "execute_result"
    }
   ],
   "source": [
    "import json\n",
    "import pandas as pd\n",
    "test_df = pd.read_csv(\"../../dataset_for_hf/test.csv\")\n",
    "test_df.head()\n"
   ]
  },
  {
   "cell_type": "code",
   "execution_count": 2,
   "metadata": {},
   "outputs": [
    {
     "name": "stdout",
     "output_type": "stream",
     "text": [
      "DRUG 1 NAME: Candesartan\n",
      "DRUG 1 BACKGROUND INFORMATION: Candesartan is an angiotensin receptor blocker used mainly for the treatment of high blood pressure and congestive heart failure. Candesartan has a very low maintenance dose. Like olmesartan, the metabolism of the drug is unusual as it is a cascading prodrug. Candesartan has good bioavailibility and is the most potent by weight of the AT-1 receptor antagonists.\n",
      "It was patented in 1990 and approved for medical use in 1997.\n",
      "\n",
      "DRUG 2 NAME: Citalopram\n",
      "DRUG 2 BACKGROUND INFORMATION: Citalopram, a chiral bicyclic phthalane derivative and selective serotonin reuptake inhibitor (SSRI), is primarily employed in the pharmacotherapy of major depressive disorder, obsessive-compulsive disorder, panic disorder, and social phobia through modulation of serotonergic neurotransmission. The therapeutic latency ranges from one to four weeks post-administration. It is predominantly administered orally, though parenteral administration via intravenous injection is utilized in specific regions to expedite therapeutic onset. The pharmacokinetic profile of citalopram encompasses hepatic metabolism predominantly via CYP2C19, CYP3A4, and CYP2D6, yielding demethylated metabolites. It is imperative to monitor for adverse reactions, including, but not limited to, gastrointestinal disturbances, insomnia, sexual dysfunction, tremors, somnolence, hyperhidrosis, serotonin toxicity, and cardiotoxicity as manifested by QT interval prolongation. Contraindications entail concurrent MAO inhibitor therapy due to risk of serotonin syndrome and potential teratogenicity warrants cautious use in pregnancy. The potential for exacerbating suicidality in individuals under 25 necessitates vigilant monitoring. Citalopram's clinical prominence is evidenced by its inclusion in the WHO's List of Essential Medicines and its extensive prescribing frequency in the United States, underscoring its integral role in psychiatric treatment regimens.\n",
      "\n",
      "DRUG 3 NAME: Fluphenazine\n",
      "DRUG 3 BACKGROUND INFORMATION: Fluphenazine is a high-affinity typical antipsychotic of the phenothiazine cohort primarily prescribed for chronic psychotic disorders such as schizophrenia, offering efficacy comparable to chlorpromazine. Administered via oral, intramuscular, subcutaneous routes—or as a long-acting depot, fluphenazine decanoate—this compound exhibits prolonged dopaminergic antagonism with an extended half-life conducive to monthly dosing regimens. Notably contraindicated in severe depressive states, its pharmacological action is ascribed to dopamine receptor blockade, though precision in its mechanism remains indeterminate. The pharmacodynamic profile of fluphenazine entails extrapyramidal symptoms, somnolence, depressive mood alterations, and metabolic side effects, with grave adverse events encompassing neuroleptic malignant syndrome, agranulocytosis, and irreversible tardive dyskinesia. Moreover, in the geriatric cohort with dementia-related psychoses, mortality risk is potentiated. Prolactin secretion perturbations may elicit galactorrhea, gynecomastia, erectile dysfunction, and amenorrhea, with teratogenic safety in gestation unresolved. Chronic administration associates with hepatocellular enzyme elevation in a substantial patient subset. Despite its broad utilization reflected in its inclusion on the World Health Organization's Essential Medicines list, its production cessation in some regions underscores its dynamic availability landscape.\n",
      "\n",
      "PROTEIN NAME: Histamine H1 receptor\n",
      "PROTEIN BACKGROUND INFORMATION: The H1 receptor is a histamine receptor belonging to the family of rhodopsin-like G-protein-coupled receptors. This receptor is activated by the biogenic amine histamine. It is expressed in smooth muscles, on vascular endothelial cells, in the heart, and in the central nervous system. The H1 receptor is linked to an intracellular G-protein (Gq) that activates phospholipase C and the inositol triphosphate (IP3) signalling pathway. Antihistamines, which act on this receptor, are used as anti-allergy drugs. The crystal structure of the receptor has been determined (shown on the right/below) and used to discover new histamine H1 receptor ligands in structure-based virtual screening studies.\n",
      "\n",
      "DRUG 1 - DRUG 2 INTERACTION TRIPLE (subject-predicate-object): Candesartan-myelodysplasia-Citalopram\n",
      "DRUG 2 - DRUG 3 INTERACTION TRIPLE (subject-predicate-object): Citalopram-cholecystitis-Fluphenazine\n",
      "DRUG 3 - PROTEIN INTERACTION TRIPLE (subject-predicate-object): Fluphenazine-binding and inhibition-Histamine H1 receptor\n"
     ]
    }
   ],
   "source": [
    "print(test_df['Question_Background'][0])\n"
   ]
  },
  {
   "cell_type": "code",
   "execution_count": 3,
   "metadata": {},
   "outputs": [],
   "source": [
    "\n",
    "# Generate FlashRAG-compatible test.jsonl\n",
    "test_output_path = \"../../../FlashRAG/data/flashrag_test.jsonl\"\n",
    "\n",
    "with open(test_output_path, \"w\") as f:\n",
    "    for i, row in test_df.iterrows():\n",
    "        example = {\n",
    "            \"id\": f\"{row['Entities']}_{row['Label']}\",\n",
    "            \"question\": row['Question'],\n",
    "            \"golden_answers\": [row['Answer']]\n",
    "        }\n",
    "        f.write(json.dumps(example) + \"\\n\")\n"
   ]
  },
  {
   "cell_type": "code",
   "execution_count": 4,
   "metadata": {},
   "outputs": [],
   "source": [
    "\n",
    "# Generate FlashRAG-compatible corpus.jsonl from Question_Background\n",
    "corpus_output_path = \"../../../FlashRAG/data/flashrag_corpus.jsonl\"\n",
    "\n",
    "with open(corpus_output_path, \"w\") as f:\n",
    "    for i, row in test_df.iterrows():\n",
    "        doc = {\n",
    "            \"id\": f\"doc{i}\",\n",
    "            \"contents\": row['Question_Background'].replace(\"\\\\n\", \" \").strip()\n",
    "        }\n",
    "        f.write(json.dumps(doc) + \"\\n\")\n"
   ]
  },
  {
   "cell_type": "code",
   "execution_count": null,
   "metadata": {},
   "outputs": [],
   "source": []
  }
 ],
 "metadata": {
  "kernelspec": {
   "display_name": "RAG",
   "language": "python",
   "name": "python3"
  },
  "language_info": {
   "codemirror_mode": {
    "name": "ipython",
    "version": 3
   },
   "file_extension": ".py",
   "mimetype": "text/x-python",
   "name": "python",
   "nbconvert_exporter": "python",
   "pygments_lexer": "ipython3",
   "version": "3.10.16"
  },
  "orig_nbformat": 4
 },
 "nbformat": 4,
 "nbformat_minor": 2
}
