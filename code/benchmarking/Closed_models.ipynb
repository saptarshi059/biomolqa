{
 "cells": [
  {
   "cell_type": "code",
   "execution_count": null,
   "id": "b64378de-7d10-48e4-a482-4235e6be3838",
   "metadata": {},
   "outputs": [],
   "source": [
    "import sys\n",
    "sys.path.append(\"../common_scripts/\")\n",
    "\n",
    "from common_functions import save_batch, print_sample, count_tokens, create_formatted_samples_for_eval\n",
    "from eval_prompts import *\n",
    "from pathlib import Path\n",
    "import pandas as pd\n",
    "import json\n",
    "\n",
    "from anthropic.types.message_create_params import MessageCreateParamsNonStreaming\n",
    "from anthropic.types.messages.batch_create_params import Request\n",
    "import anthropic\n",
    "\n",
    "claude_client = anthropic.Anthropic()\n",
    "\n",
    "from datetime import datetime\n",
    "import time\n",
    "\n",
    "import fsspec\n",
    "from google import genai\n",
    "from google.genai.types import CreateBatchJobConfig\n",
    "import os\n",
    "\n",
    "test_df = pd.read_csv(\"../../dataset_for_hf/test.csv\")"
   ]
  },
  {
   "cell_type": "markdown",
   "id": "1775da8d-bc46-4fcd-b8e3-569954b1aae9",
   "metadata": {
    "jp-MarkdownHeadingCollapsed": true
   },
   "source": [
    "# Zero Shot"
   ]
  },
  {
   "cell_type": "markdown",
   "id": "9979bb2a-60a1-4c91-a828-aa909fb22c58",
   "metadata": {
    "jp-MarkdownHeadingCollapsed": true
   },
   "source": [
    "## o4-mini"
   ]
  },
  {
   "cell_type": "code",
   "execution_count": null,
   "id": "96333b19-781d-49ce-bdb0-70ea6e26e3bd",
   "metadata": {},
   "outputs": [],
   "source": [
    "# Batch Create\n",
    "def create_formatted_inputs_for_zero_shot_eval(row):\n",
    "    # Adding label for ID since there are d-d questions with both bio & mol interactions.\n",
    "    return {\"custom_id\": f\"{row.Entities}_{row.Label}:zero_shot\",\n",
    "            \"method\": \"POST\", \n",
    "            \"url\": \"/v1/chat/completions\", \n",
    "            \"body\": {\"model\": \"o4-mini\", \n",
    "                     \"messages\": [\n",
    "                                     {\"role\": \"developer\", \"content\": SYSTEM_PROMPT_ZERO_SHOT},\n",
    "                                     {\"role\": \"user\", \"content\": USER_PROMPT_ZERO_SHOT.format(row.Question)}\n",
    "                                 ]\n",
    "                    }\n",
    "           }\n",
    "\n",
    "formatted_samples = [create_formatted_inputs_for_zero_shot_eval(row) for row in test_df.itertuples()]\n",
    "save_batch(formatted_samples, \"../../samples_for_eval/zero_shot/o4-mini/batch_input.jsonl\")"
   ]
  },
  {
   "cell_type": "code",
   "execution_count": null,
   "id": "f522c9de-8f77-4292-8970-906bb214c54d",
   "metadata": {},
   "outputs": [],
   "source": [
    "# Eval\n",
    "predictions = pd.read_json(\"../../samples_for_eval/zero_shot/o4-mini/batch_output.jsonl\", lines=True)\n",
    "predictions.rename(columns={\"custom_id\": \"Entities\"}, inplace=True)\n",
    "\n",
    "test_df[\"Entities\"] = test_df[\"Entities\"] + \"_\" + test_df[\"Label\"].astype(str) + \":zero_shot\"\n",
    "merged_df = pd.merge(predictions, test_df)\n",
    "\n",
    "create_formatted_samples_for_eval(merged_df, \"../../samples_for_eval/zero_shot/o4-mini/eval_lists.pkl\", \"OAI\")"
   ]
  },
  {
   "cell_type": "markdown",
   "id": "0eae0d34-08de-42d7-ad2c-567b54181815",
   "metadata": {
    "jp-MarkdownHeadingCollapsed": true
   },
   "source": [
    "## Claude 3.7 Sonnet"
   ]
  },
  {
   "cell_type": "code",
   "execution_count": null,
   "id": "87468cc2-f678-48fe-8ccc-81dc709a1b99",
   "metadata": {},
   "outputs": [],
   "source": [
    "# Batch Create\n",
    "def create_batch_request(df):\n",
    "    requests = []\n",
    "    for row in df.itertuples():\n",
    "        requests.append(Request(\n",
    "            custom_id=f\"{row.Entities[:60].replace(\" \", \"-\")}-{row.Label}\", # Have to do this - their naming convention.\n",
    "            params=MessageCreateParamsNonStreaming(\n",
    "                model=\"claude-3-7-sonnet-20250219\",\n",
    "                max_tokens=512,\n",
    "                system= [{\"type\": \"text\", \"text\": SYSTEM_PROMPT_ZERO_SHOT, \"cache_control\": {\"type\": \"ephemeral\"}}],\n",
    "                messages=[{\"role\": \"user\",\n",
    "                           \"content\": USER_PROMPT_ZERO_SHOT.format(row.Question)}])))\n",
    "    return requests\n",
    "\n",
    "formatted_requests = create_batch_request(test_df)\n",
    "save_batch(formatted_requests, \"../../samples_for_eval/zero_shot/claude-3.7-sonnet/batch_input.jsonl\")\n",
    "\n",
    "message_batch = claude_client.messages.batches.create(requests=formatted_requests)\n",
    "print(message_batch)"
   ]
  },
  {
   "cell_type": "code",
   "execution_count": null,
   "id": "a3c47e56-7ab1-45b0-89f6-dec2cba8440c",
   "metadata": {},
   "outputs": [],
   "source": [
    "# Eval\n",
    "predictions = pd.read_json(\"../../samples_for_eval/zero_shot/claude-3.7-sonnet/batch_results.jsonl\", lines=True)\n",
    "predictions.rename(columns={\"custom_id\": \"Entities\"}, inplace=True)\n",
    "test_df[\"Entities\"] = test_df[\"Entities\"].str.replace(\" \", \"-\").str[:60] + \"-\" + test_df[\"Label\"].astype(str)\n",
    "merged_df = pd.merge(predictions, test_df)\n",
    "create_formatted_samples_for_eval(merged_df, \"../../samples_for_eval/zero_shot/claude-3.7-sonnet/eval_lists.pkl\", \"Anthropic\")"
   ]
  },
  {
   "cell_type": "markdown",
   "id": "497eff70-eac8-4f50-bdfc-a0ef14ac4454",
   "metadata": {
    "jp-MarkdownHeadingCollapsed": true
   },
   "source": [
    "## Gemini 2.0 Flash"
   ]
  },
  {
   "cell_type": "code",
   "execution_count": null,
   "id": "6ddb60ae-6f25-41eb-a9d0-d85e939923ac",
   "metadata": {},
   "outputs": [],
   "source": [
    "def create_batch_request(row):\n",
    "    return {\"systemInstruction\": SYSTEM_PROMPT_ZERO_SHOT,\n",
    "            \"request\":{\"contents\": [{\"role\": \"user\", \"parts\": [{\"text\": USER_PROMPT_ZERO_SHOT.format(row.Question)}]}]}}\n",
    "\n",
    "formatted_samples = [create_batch_request(row) for row in test_df.itertuples()]\n",
    "save_batch(formatted_samples, \"../../samples_for_eval/zero_shot/gemini-2.0-flash/batch_input.jsonl\")"
   ]
  },
  {
   "cell_type": "code",
   "execution_count": null,
   "id": "723b154f-df0a-4ceb-83e4-fad4a98feb10",
   "metadata": {},
   "outputs": [],
   "source": [
    "PROJECT_ID = \"striped-torus-458820-q6\"  # @param {type: \"string\", placeholder: \"[your-project-id]\", isTemplate: true}\n",
    "LOCATION = os.environ.get(\"GOOGLE_CLOUD_REGION\", \"us-central1\")\n",
    "\n",
    "client = genai.Client(vertexai=True, project=PROJECT_ID, location=LOCATION)\n",
    "\n",
    "MODEL_ID = \"gemini-2.0-flash-001\"\n",
    "INPUT_DATA = \"gs://zeroshot/batch_input.jsonl\"\n",
    "BUCKET_URI = \"zeroshot\"\n",
    "TIMESTAMP = datetime.now().strftime(\"%Y%m%d%H%M%S\")\n",
    "BUCKET_URI = f\"gs://{PROJECT_ID}-{TIMESTAMP}\"\n",
    "\n",
    "! gsutil mb -l {LOCATION} -p {PROJECT_ID} {BUCKET_URI}\n",
    "\n",
    "gcs_batch_job = client.batches.create(\n",
    "    model=MODEL_ID,\n",
    "    src=INPUT_DATA,\n",
    "    config=CreateBatchJobConfig(dest=BUCKET_URI),\n",
    ")\n",
    "gcs_batch_job.name"
   ]
  },
  {
   "cell_type": "markdown",
   "id": "f121aa34-d6be-4dbd-97ef-802397ed3fb3",
   "metadata": {},
   "source": [
    "# Upper Bound"
   ]
  },
  {
   "cell_type": "markdown",
   "id": "2d09983b-d89f-4522-8bbd-0a0be400cd71",
   "metadata": {
    "jp-MarkdownHeadingCollapsed": true
   },
   "source": [
    "## o4-mini"
   ]
  },
  {
   "cell_type": "code",
   "execution_count": null,
   "id": "8c6be762-0143-4de9-9e8e-400371137195",
   "metadata": {},
   "outputs": [],
   "source": [
    "# Batch Create\n",
    "def create_formatted_inputs_for_upper_bound_eval(row):\n",
    "    # Adding label for ID since there are d-d questions with both bio & mol interactions.\n",
    "    return {\"custom_id\": f\"{row.Entities}_{row.Label}:upper_bound\",\n",
    "            \"method\": \"POST\", \n",
    "            \"url\": \"/v1/chat/completions\",\n",
    "            \"body\": {\"model\": \"o4-mini\",\n",
    "                     \"messages\": [\n",
    "                                     {\"role\": \"developer\", \"content\": SYSTEM_PROMPT_UPPER_BOUND},\n",
    "                                     {\"role\": \"user\", \"content\": USER_PROMPT_UPPER_BOUND.format(row.Question_Background, row.Question)}\n",
    "                                 ]\n",
    "                    }\n",
    "           }\n",
    "\n",
    "formatted_samples = [create_formatted_inputs_for_upper_bound_eval(row) for row in test_df.itertuples()]\n",
    "save_batch(formatted_samples, \"../../samples_for_eval/upper_bound/o4-mini/batch_input.jsonl\")"
   ]
  },
  {
   "cell_type": "markdown",
   "id": "fe0253c3-f5c4-4fe6-b7d8-916dfbe079d3",
   "metadata": {
    "jp-MarkdownHeadingCollapsed": true
   },
   "source": [
    "## Claude 3.7 Sonnet"
   ]
  },
  {
   "cell_type": "code",
   "execution_count": null,
   "id": "19978d55-f49c-49c6-bb83-902434f2053f",
   "metadata": {},
   "outputs": [],
   "source": [
    "# Batch Create\n",
    "def create_batch_request(df):\n",
    "    requests = []\n",
    "    for row in df.itertuples():\n",
    "        requests.append(Request(\n",
    "            custom_id=f\"{row.Entities[:60].replace(\" \", \"-\")}-{row.Label}\", # Have to do this - their naming convention.\n",
    "            params=MessageCreateParamsNonStreaming(\n",
    "                model=\"claude-3-7-sonnet-20250219\",\n",
    "                max_tokens=512,\n",
    "                system= [{\"type\": \"text\", \"text\": SYSTEM_PROMPT_UPPER_BOUND, \"cache_control\": {\"type\": \"ephemeral\"}}],\n",
    "                messages=[{\"role\": \"user\",\n",
    "                           \"content\": USER_PROMPT_UPPER_BOUND.format(row.Question_Background, row.Question)}])))\n",
    "    return requests\n",
    "\n",
    "formatted_requests = create_batch_request(test_df)\n",
    "save_batch(formatted_requests, \"../../samples_for_eval/upper_bound/claude-3.7-sonnet/batch_input.jsonl\")\n",
    "\n",
    "message_batch = claude_client.messages.batches.create(requests=formatted_requests)\n",
    "print(message_batch)"
   ]
  },
  {
   "cell_type": "code",
   "execution_count": null,
   "id": "8c7b3840-edb6-4cd3-9ba0-23309cff3262",
   "metadata": {},
   "outputs": [],
   "source": [
    "# Eval\n",
    "predictions = pd.read_json(\"../../samples_for_eval/upper_bound/claude-3.7-sonnet/batch_results.jsonl\", lines=True)\n",
    "predictions.rename(columns={\"custom_id\": \"Entities\"}, inplace=True)\n",
    "test_df[\"Entities\"] = test_df[\"Entities\"].str.replace(\" \", \"-\").str[:60] + \"-\" + test_df[\"Label\"].astype(str)\n",
    "merged_df = pd.merge(predictions, test_df)\n",
    "create_formatted_samples_for_eval(merged_df, \"../../samples_for_eval/upper_bound/claude-3.7-sonnet/eval_lists.pkl\", \"Anthropic\")"
   ]
  }
 ],
 "metadata": {
  "kernelspec": {
   "display_name": "Python 3 (ipykernel)",
   "language": "python",
   "name": "python3"
  },
  "language_info": {
   "codemirror_mode": {
    "name": "ipython",
    "version": 3
   },
   "file_extension": ".py",
   "mimetype": "text/x-python",
   "name": "python",
   "nbconvert_exporter": "python",
   "pygments_lexer": "ipython3",
   "version": "3.12.3"
  }
 },
 "nbformat": 4,
 "nbformat_minor": 5
}
