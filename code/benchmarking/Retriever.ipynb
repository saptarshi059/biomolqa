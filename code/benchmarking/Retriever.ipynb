{
 "cells": [
  {
   "cell_type": "code",
   "execution_count": null,
   "id": "4b961774-dacb-4c77-af9a-67d3172601f8",
   "metadata": {},
   "outputs": [],
   "source": [
    "from pathlib import Path\n",
    "import pandas as pd\n",
    "import numpy as np\n",
    "import bm25s\n",
    "import re\n",
    "\n",
    "test_df = pd.read_csv(\"../../dataset_for_hf/test.csv\")"
   ]
  },
  {
   "cell_type": "code",
   "execution_count": null,
   "id": "0a9a48e6-06bf-4997-aa86-7adbef66dd8c",
   "metadata": {},
   "outputs": [],
   "source": [
    "def create_corpus(folder):\n",
    "    corpus = []\n",
    "    for file in folder.iterdir():\n",
    "        with Path(file).open(\"r\") as f:\n",
    "            corpus.append(f.read())\n",
    "    return corpus\n",
    "\n",
    "corpus = create_corpus(Path(\"../../data/background_information_data/drug_data/Wiki/\")) + \\\n",
    "         create_corpus(Path(\"../../data/background_information_data/drug_data/Wiki_complexified/\")) + \\\n",
    "         create_corpus(Path(\"../../data/background_information_data/drug_data/SMILES/\")) + \\\n",
    "         create_corpus(Path(\"../../data/background_information_data/protein_data/Wiki/\"))\n",
    "\n",
    "corpus_tokens = bm25s.tokenize(corpus)\n",
    "retriever = bm25s.BM25(corpus=corpus)\n",
    "retriever.index(corpus_tokens, )\n",
    "retriever.save(\"bm25s_index\")"
   ]
  },
  {
   "cell_type": "code",
   "execution_count": null,
   "id": "73e10a2e-dc8c-428b-bf67-ca08b0b2b8f9",
   "metadata": {},
   "outputs": [],
   "source": [
    "top_k = 5\n",
    "hits = []\n",
    "recall = []\n",
    "mrr = []\n",
    "\n",
    "retriever = bm25s.BM25.load(\"bm25s_index\", load_corpus=True)\n",
    "\n",
    "def hits_k(gold_list, retrieved_list):\n",
    "    if set(gold_list).issubset(set(retrieved_list)):\n",
    "        return 1\n",
    "    else:\n",
    "        return 0\n",
    "\n",
    "def recall_k(gold_list, retrieved_list):\n",
    "    return len(set(gold_list).intersection(set(retrieved_list)))/len(retrieved_list)\n",
    "\n",
    "def mrr_k(gold_list, retrieved_list):\n",
    "    for idx, item in enumerate(retrieved_list):\n",
    "        if item in gold_list:\n",
    "            return 1/(idx+1)\n",
    "    return 0\n",
    "\n",
    "for row in test_df.itertuples():\n",
    "    # Querying\n",
    "    query_tokens = bm25s.tokenize(row.Question)\n",
    "    retrieved_docs, _ = retriever.retrieve(query_tokens, k=top_k)\n",
    "    retrieved_docs = [x[\"text\"] for x in retrieved_docs[0]]\n",
    "\n",
    "    # Processing Gold data\n",
    "    gold_docs = set()\n",
    "    if \"SMILES\" in row.Question_Background:\n",
    "        split = row.Question_Background.split(\"\\n\")\n",
    "        for i in range(0, len(split), 3):\n",
    "            if \"INTERACTION\" not in split[i]:\n",
    "                gold_docs.add(f\"{split[i]}\\n{split[i+1]}\")\n",
    "    else:\n",
    "        gold_docs = [x.strip() for x in re.findall(r\"BACKGROUND INFORMATION:(.*?)(?=DRUG|PROTEIN|\\Z)\", row.Question_Background, re.DOTALL)]\n",
    "\n",
    "    # Metrics\n",
    "    hits.append(hits_k(gold_docs, retrieved_docs))\n",
    "    recall.append(recall_k(gold_docs, retrieved_docs))\n",
    "    mrr.append(mrr_k(gold_docs, retrieved_docs))\n",
    "\n",
    "print(f\"Hits@{top_k}: {np.round(np.array(hits).mean(),2)}\")\n",
    "print(f\"Recall@{top_k}: {np.round(np.array(recall).mean(),2)}\")\n",
    "print(f\"MRR@{top_k}: {np.round(np.array(mrr).mean(),2)}\")"
   ]
  }
 ],
 "metadata": {
  "kernelspec": {
   "display_name": "Python 3 (ipykernel)",
   "language": "python",
   "name": "python3"
  },
  "language_info": {
   "codemirror_mode": {
    "name": "ipython",
    "version": 3
   },
   "file_extension": ".py",
   "mimetype": "text/x-python",
   "name": "python",
   "nbconvert_exporter": "python",
   "pygments_lexer": "ipython3",
   "version": "3.12.3"
  }
 },
 "nbformat": 4,
 "nbformat_minor": 5
}
