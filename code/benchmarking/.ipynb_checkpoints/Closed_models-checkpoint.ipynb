{
 "cells": [
  {
   "cell_type": "code",
   "execution_count": null,
   "id": "b64378de-7d10-48e4-a482-4235e6be3838",
   "metadata": {},
   "outputs": [],
   "source": [
    "import sys\n",
    "sys.path.append(\"../common_scripts/\")\n",
    "\n",
    "from common_functions import save_batch, print_sample, count_tokens, create_formatted_samples_for_eval\n",
    "from eval_prompts import SYSTEM_PROMPT_ZERO_SHOT, USER_PROMPT_ZERO_SHOT\n",
    "from pathlib import Path\n",
    "import pandas as pd\n",
    "import json\n",
    "\n",
    "from anthropic.types.message_create_params import MessageCreateParamsNonStreaming\n",
    "from anthropic.types.messages.batch_create_params import Request\n",
    "import anthropic\n",
    "\n",
    "claude_client = anthropic.Anthropic()\n",
    "\n",
    "test_df = pd.read_csv(\"../../dataset_for_hf/test.csv\")"
   ]
  },
  {
   "cell_type": "markdown",
   "id": "1775da8d-bc46-4fcd-b8e3-569954b1aae9",
   "metadata": {},
   "source": [
    "# Zero Shot"
   ]
  },
  {
   "cell_type": "markdown",
   "id": "9979bb2a-60a1-4c91-a828-aa909fb22c58",
   "metadata": {
    "jp-MarkdownHeadingCollapsed": true
   },
   "source": [
    "## o4-mini"
   ]
  },
  {
   "cell_type": "code",
   "execution_count": null,
   "id": "96333b19-781d-49ce-bdb0-70ea6e26e3bd",
   "metadata": {},
   "outputs": [],
   "source": [
    "# Batch Create\n",
    "def create_formatted_inputs_for_zero_shot_eval(row):\n",
    "    # Adding label for ID since there are d-d questions with both bio & mol interactions.\n",
    "    return {\"custom_id\": f\"{row.Entities}_{row.Label}:zero_shot\",\n",
    "            \"method\": \"POST\", \n",
    "            \"url\": \"/v1/chat/completions\", \n",
    "            \"body\": {\"model\": \"o4-mini\", \n",
    "                     \"messages\": [\n",
    "                                     {\"role\": \"developer\", \"content\": SYSTEM_PROMPT_ZERO_SHOT},\n",
    "                                     {\"role\": \"user\", \"content\": USER_PROMPT_ZERO_SHOT.format(row.Question)}\n",
    "                                 ]\n",
    "                    }\n",
    "           }\n",
    "\n",
    "formatted_samples = [create_formatted_inputs_for_zero_shot_eval(row) for row in test_df.itertuples()]\n",
    "save_batch(formatted_samples, \"../../samples_for_eval/zero_shot/o4-mini/batch_input.jsonl\")"
   ]
  },
  {
   "cell_type": "code",
   "execution_count": null,
   "id": "f522c9de-8f77-4292-8970-906bb214c54d",
   "metadata": {},
   "outputs": [],
   "source": [
    "# Eval\n",
    "predictions = pd.read_json(\"../../samples_for_eval/zero_shot/o4-mini/batch_output.jsonl\", lines=True)\n",
    "predictions.rename(columns={\"custom_id\": \"Entities\"}, inplace=True)\n",
    "\n",
    "test_df[\"Entities\"] = test_df[\"Entities\"] + \"_\" + test_df[\"Label\"].astype(str) + \":zero_shot\"\n",
    "merged_df = pd.merge(predictions, test_df)\n",
    "\n",
    "create_formatted_samples_for_eval(merged_df, \"../../samples_for_eval/zero_shot/o4-mini/eval_lists.pkl\", \"OAI\")"
   ]
  },
  {
   "cell_type": "markdown",
   "id": "0eae0d34-08de-42d7-ad2c-567b54181815",
   "metadata": {
    "jp-MarkdownHeadingCollapsed": true
   },
   "source": [
    "## Claude 3.7 Sonnet"
   ]
  },
  {
   "cell_type": "code",
   "execution_count": null,
   "id": "87468cc2-f678-48fe-8ccc-81dc709a1b99",
   "metadata": {},
   "outputs": [],
   "source": [
    "# Batch Create\n",
    "def create_batch_request(df):\n",
    "    requests = []\n",
    "    for row in df.itertuples():\n",
    "        requests.append(Request(\n",
    "            custom_id=f\"{row.Entities[:60].replace(\" \", \"-\")}-{row.Label}\", # Have to do this - their naming convention.\n",
    "            params=MessageCreateParamsNonStreaming(\n",
    "                model=\"claude-3-7-sonnet-20250219\",\n",
    "                max_tokens=512,\n",
    "                system= [{\"type\": \"text\", \"text\": SYSTEM_PROMPT_ZERO_SHOT, \"cache_control\": {\"type\": \"ephemeral\"}}],\n",
    "                messages=[{\"role\": \"user\",\n",
    "                           \"content\": USER_PROMPT_ZERO_SHOT.format(row.Question)}])))\n",
    "    return requests\n",
    "\n",
    "formatted_requests = create_batch_request(test_df)\n",
    "save_batch(formatted_requests, \"../../samples_for_eval/zero_shot/claude-3.7-sonnet/batch_input.jsonl\")\n",
    "\n",
    "message_batch = claude_client.messages.batches.create(requests=formatted_requests)\n",
    "print(message_batch)"
   ]
  },
  {
   "cell_type": "code",
   "execution_count": null,
   "id": "a3c47e56-7ab1-45b0-89f6-dec2cba8440c",
   "metadata": {},
   "outputs": [],
   "source": [
    "# Eval\n",
    "predictions = pd.read_json(\"../../samples_for_eval/zero_shot/claude-3.7-sonnet/batch_results.jsonl\", lines=True)\n",
    "predictions.rename(columns={\"custom_id\": \"Entities\"}, inplace=True)\n",
    "test_df[\"Entities\"] = test_df[\"Entities\"].str.replace(\" \", \"-\")[:60] + \"-\" + test_df[\"Label\"].astype(str)\n",
    "merged_df = pd.merge(predictions, test_df)\n",
    "\n",
    "create_formatted_samples_for_eval(merged_df, \"../../samples_for_eval/zero_shot/claude-3.7-sonnet/eval_lists.pkl\", \"Anthropic\")"
   ]
  }
 ],
 "metadata": {
  "kernelspec": {
   "display_name": "Python 3 (ipykernel)",
   "language": "python",
   "name": "python3"
  },
  "language_info": {
   "codemirror_mode": {
    "name": "ipython",
    "version": 3
   },
   "file_extension": ".py",
   "mimetype": "text/x-python",
   "name": "python",
   "nbconvert_exporter": "python",
   "pygments_lexer": "ipython3",
   "version": "3.12.3"
  }
 },
 "nbformat": 4,
 "nbformat_minor": 5
}
