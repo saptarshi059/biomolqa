{
 "cells": [
  {
   "cell_type": "code",
   "execution_count": null,
   "id": "b64378de-7d10-48e4-a482-4235e6be3838",
   "metadata": {},
   "outputs": [],
   "source": [
    "import sys\n",
    "sys.path.append(\"../common_scripts/\")\n",
    "\n",
    "from eval_prompts import SYSTEM_PROMPT_ZERO_SHOT, USER_PROMPT_ZERO_SHOT\n",
    "from common_functions import save_batch, print_sample, count_tokens\n",
    "import pandas as pd\n",
    "\n",
    "test_df = pd.read_csv(\"../../dataset_for_hf/test.csv\")"
   ]
  },
  {
   "cell_type": "code",
   "execution_count": null,
   "id": "96333b19-781d-49ce-bdb0-70ea6e26e3bd",
   "metadata": {},
   "outputs": [],
   "source": [
    "def create_formatted_inputs_for_zero_shot_eval(row):\n",
    "    # Adding label for ID since there are d-d questions with both bio & mol interactions.\n",
    "    return {\"custom_id\": f\"{row.Entities}_{row.Label}:zero_shot\",\n",
    "            \"method\": \"POST\", \n",
    "            \"url\": \"/v1/chat/completions\", \n",
    "            \"body\": {\"model\": \"o4-mini\", \n",
    "                     \"messages\": [\n",
    "                                     {\"role\": \"developer\", \"content\": SYSTEM_PROMPT_ZERO_SHOT},\n",
    "                                     {\"role\": \"user\", \"content\": USER_PROMPT_ZERO_SHOT.format(row.Question)}\n",
    "                                 ]\n",
    "                    }\n",
    "           }\n",
    "\n",
    "formatted_samples = [create_formatted_inputs_for_zero_shot_eval(row) for row in test_df.itertuples()]\n",
    "save_batch(formatted_samples, \"../../samples_for_eval/zero_shot/o4-mini/batch_input.jsonl\")"
   ]
  }
 ],
 "metadata": {
  "kernelspec": {
   "display_name": "Python 3 (ipykernel)",
   "language": "python",
   "name": "python3"
  },
  "language_info": {
   "codemirror_mode": {
    "name": "ipython",
    "version": 3
   },
   "file_extension": ".py",
   "mimetype": "text/x-python",
   "name": "python",
   "nbconvert_exporter": "python",
   "pygments_lexer": "ipython3",
   "version": "3.12.3"
  }
 },
 "nbformat": 4,
 "nbformat_minor": 5
}
