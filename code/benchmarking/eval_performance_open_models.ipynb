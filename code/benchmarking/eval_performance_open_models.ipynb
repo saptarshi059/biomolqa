{
 "cells": [
  {
   "cell_type": "code",
   "execution_count": 1,
   "metadata": {},
   "outputs": [],
   "source": [
    "import json\n",
    "import re\n",
    "from sklearn.metrics import precision_score, recall_score, f1_score\n",
    "from bert_score import score as bertscore\n",
    "from collections import Counter"
   ]
  },
  {
   "cell_type": "code",
   "execution_count": 2,
   "metadata": {},
   "outputs": [],
   "source": [
    "import pandas as pd\n",
    "test_df = pd.read_csv(\"../../dataset_for_hf/test.csv\")\n",
    "#test_df\n"
   ]
  },
  {
   "cell_type": "markdown",
   "metadata": {},
   "source": [
    "## calculate tokens"
   ]
  },
  {
   "cell_type": "code",
   "execution_count": 3,
   "metadata": {},
   "outputs": [
    {
     "name": "stdout",
     "output_type": "stream",
     "text": [
      "Total input tokens (all 168 samples): 34563\n",
      "Average tokens per sample: 205.73\n"
     ]
    }
   ],
   "source": [
    "import json\n",
    "import tiktoken\n",
    "\n",
    "# Choose a tokenizer (gpt-3.5-turbo is similar to deepseek-chat)\n",
    "enc = tiktoken.encoding_for_model(\"gpt-3.5-turbo\")\n",
    "\n",
    "total_tokens = 0\n",
    "input_tokens_per_sample = []\n",
    "\n",
    "with open(\"../../samples_for_eval/zero_shot/deepseek/batch_input.jsonl\", \"r\") as f:\n",
    "    for line in f:\n",
    "        sample = json.loads(line.strip())\n",
    "        messages = sample[\"body\"][\"messages\"]\n",
    "\n",
    "        # For chat messages, tokenize each message's content\n",
    "        num_tokens = 0\n",
    "        for msg in messages:\n",
    "            # Add extra token for role + structure, approx. ~4 tokens per message\n",
    "            num_tokens += 4\n",
    "            num_tokens += len(enc.encode(msg[\"content\"]))\n",
    "\n",
    "        # Account for message formatting overhead\n",
    "        num_tokens += 2  # ChatML priming\n",
    "        total_tokens += num_tokens\n",
    "        input_tokens_per_sample.append(num_tokens)\n",
    "\n",
    "print(f\"Total input tokens (all 168 samples): {total_tokens}\")\n",
    "print(f\"Average tokens per sample: {total_tokens / len(input_tokens_per_sample):.2f}\")\n"
   ]
  },
  {
   "cell_type": "markdown",
   "metadata": {},
   "source": [
    "## eval functions"
   ]
  },
  {
   "cell_type": "code",
   "execution_count": 3,
   "metadata": {},
   "outputs": [],
   "source": [
    "def normalize_text(text):\n",
    "    \"\"\"Lowercase, remove punctuation and extra spaces.\"\"\"\n",
    "    text = text.lower()\n",
    "    text = re.sub(r\"[^\\w\\s]\", \"\", text)\n",
    "    return text.strip()\n",
    "\n",
    "def exact_match(pred, gold):\n",
    "    return int(normalize_text(pred) == normalize_text(gold))\n",
    "\n",
    "def lexical_f1(pred, gold):\n",
    "    pred_tokens = normalize_text(pred).split()\n",
    "    gold_tokens = normalize_text(gold).split()\n",
    "    common = Counter(pred_tokens) & Counter(gold_tokens)\n",
    "    num_same = sum(common.values())\n",
    "    if num_same == 0:\n",
    "        return 0.0\n",
    "    precision = num_same / len(pred_tokens)\n",
    "    recall = num_same / len(gold_tokens)\n",
    "    return 2 * precision * recall / (precision + recall)"
   ]
  },
  {
   "cell_type": "code",
   "execution_count": 4,
   "metadata": {},
   "outputs": [],
   "source": [
    "\n",
    "def evaluate_all(pred_path, gold_dict):\n",
    "    preds = []\n",
    "    golds = []\n",
    "    ems = []\n",
    "    f1s = []\n",
    "\n",
    "    with open(pred_path, 'r') as f:\n",
    "        for line in f:\n",
    "            obj = json.loads(line)\n",
    "            pred = obj['response']\n",
    "            cid = obj['custom_id']\n",
    "            # Assume answer format is:\n",
    "            # \"REASON: ... \\nANSWER: <answer>\"\n",
    "            match = re.search(r'ANSWER:\\s*(.+)', pred, re.IGNORECASE)\n",
    "            pred_answer = match.group(1).strip() if match else \"\"\n",
    "            gold_answer = gold_dict.get(cid, \"\").strip()\n",
    "\n",
    "            if gold_answer:\n",
    "                preds.append(pred_answer)\n",
    "                golds.append(gold_answer)\n",
    "                ems.append(exact_match(pred_answer, gold_answer))\n",
    "                f1s.append(lexical_f1(pred_answer, gold_answer))\n",
    "\n",
    "    # Compute BERTScore\n",
    "    P, R, F1_bert = bertscore(preds, golds, lang='en', verbose=False)\n",
    "\n",
    "    print(f\"Lexical Exact Match: {sum(ems) / len(ems):.4f}\")\n",
    "    print(f\"Lexical F1 Score:    {sum(f1s) / len(f1s):.4f}\")\n",
    "    print(f\"BERTScore F1:        {F1_bert.mean().item():.4f}\")"
   ]
  },
  {
   "cell_type": "markdown",
   "metadata": {},
   "source": [
    "## zero-shot"
   ]
  },
  {
   "cell_type": "code",
   "execution_count": 6,
   "metadata": {},
   "outputs": [
    {
     "name": "stderr",
     "output_type": "stream",
     "text": [
      "Some weights of RobertaModel were not initialized from the model checkpoint at roberta-large and are newly initialized: ['pooler.dense.bias', 'pooler.dense.weight']\n",
      "You should probably TRAIN this model on a down-stream task to be able to use it for predictions and inference.\n"
     ]
    },
    {
     "name": "stdout",
     "output_type": "stream",
     "text": [
      "Lexical Exact Match: 0.0161\n",
      "Lexical F1 Score:    0.0650\n",
      "BERTScore F1:        0.7974\n"
     ]
    }
   ],
   "source": [
    "\n",
    "gold_dict_zs = {\n",
    "    f\"{row.Entities}-{row.Label}\": row.Answer.strip()\n",
    "    for row in test_df.itertuples()\n",
    "}\n",
    "evaluate_all(\"../../samples_for_eval/zero_shot/mistral/batch_results.jsonl\", gold_dict_zs)\n"
   ]
  },
  {
   "cell_type": "code",
   "execution_count": 7,
   "metadata": {},
   "outputs": [
    {
     "name": "stderr",
     "output_type": "stream",
     "text": [
      "Some weights of RobertaModel were not initialized from the model checkpoint at roberta-large and are newly initialized: ['pooler.dense.bias', 'pooler.dense.weight']\n",
      "You should probably TRAIN this model on a down-stream task to be able to use it for predictions and inference.\n"
     ]
    },
    {
     "name": "stdout",
     "output_type": "stream",
     "text": [
      "Lexical Exact Match: 0.0484\n",
      "Lexical F1 Score:    0.3457\n",
      "BERTScore F1:        0.8445\n"
     ]
    },
    {
     "name": "stderr",
     "output_type": "stream",
     "text": [
      "Warning: Empty candidate sentence detected; setting raw BERTscores to 0.\n"
     ]
    }
   ],
   "source": [
    "evaluate_all(\"../../samples_for_eval/upper_bound/mistral/batch_results.jsonl\", gold_dict_zs)"
   ]
  },
  {
   "cell_type": "code",
   "execution_count": 9,
   "metadata": {},
   "outputs": [],
   "source": [
    "\n",
    "gold_dict_zs = {\n",
    "    f\"{row.Entities}_{row.Label}:zero_shot\": row.Answer.strip()\n",
    "    for row in test_df.itertuples()\n",
    "}"
   ]
  },
  {
   "cell_type": "code",
   "execution_count": 10,
   "metadata": {},
   "outputs": [
    {
     "name": "stderr",
     "output_type": "stream",
     "text": [
      "Some weights of RobertaModel were not initialized from the model checkpoint at roberta-large and are newly initialized: ['pooler.dense.bias', 'pooler.dense.weight']\n",
      "You should probably TRAIN this model on a down-stream task to be able to use it for predictions and inference.\n"
     ]
    },
    {
     "name": "stdout",
     "output_type": "stream",
     "text": [
      "Lexical Exact Match: 0.0714\n",
      "Lexical F1 Score:    0.1514\n",
      "BERTScore F1:        0.7622\n"
     ]
    },
    {
     "name": "stderr",
     "output_type": "stream",
     "text": [
      "Warning: Empty candidate sentence detected; setting raw BERTscores to 0.\n",
      "Warning: Empty candidate sentence detected; setting raw BERTscores to 0.\n",
      "Warning: Empty candidate sentence detected; setting raw BERTscores to 0.\n"
     ]
    }
   ],
   "source": [
    "evaluate_all(\"../../samples_for_eval/zero_shot/txgemma/responses_new.jsonl\", gold_dict_zs)\n"
   ]
  },
  {
   "cell_type": "code",
   "execution_count": 9,
   "metadata": {},
   "outputs": [
    {
     "name": "stderr",
     "output_type": "stream",
     "text": [
      "Some weights of RobertaModel were not initialized from the model checkpoint at roberta-large and are newly initialized: ['pooler.dense.bias', 'pooler.dense.weight']\n",
      "You should probably TRAIN this model on a down-stream task to be able to use it for predictions and inference.\n"
     ]
    },
    {
     "name": "stdout",
     "output_type": "stream",
     "text": [
      "Lexical Exact Match: 0.0179\n",
      "Lexical F1 Score:    0.1298\n",
      "BERTScore F1:        0.7730\n"
     ]
    },
    {
     "name": "stderr",
     "output_type": "stream",
     "text": [
      "Warning: Empty candidate sentence detected; setting raw BERTscores to 0.\n",
      "Warning: Empty candidate sentence detected; setting raw BERTscores to 0.\n",
      "Warning: Empty candidate sentence detected; setting raw BERTscores to 0.\n"
     ]
    }
   ],
   "source": [
    "evaluate_all(\"../../samples_for_eval/zero_shot/txgemma/responses.jsonl\", gold_dict_zs)\n"
   ]
  },
  {
   "cell_type": "code",
   "execution_count": 10,
   "metadata": {},
   "outputs": [
    {
     "name": "stderr",
     "output_type": "stream",
     "text": [
      "Some weights of RobertaModel were not initialized from the model checkpoint at roberta-large and are newly initialized: ['pooler.dense.bias', 'pooler.dense.weight']\n",
      "You should probably TRAIN this model on a down-stream task to be able to use it for predictions and inference.\n"
     ]
    },
    {
     "name": "stdout",
     "output_type": "stream",
     "text": [
      "Lexical Exact Match: 0.3333\n",
      "Lexical F1 Score:    0.3998\n",
      "BERTScore F1:        0.8771\n"
     ]
    }
   ],
   "source": [
    "evaluate_all(\"../../samples_for_eval/zero_shot/deepseek/responses_r1.jsonl\", gold_dict_zs)\n"
   ]
  },
  {
   "cell_type": "code",
   "execution_count": 13,
   "metadata": {},
   "outputs": [
    {
     "name": "stderr",
     "output_type": "stream",
     "text": [
      "Some weights of RobertaModel were not initialized from the model checkpoint at roberta-large and are newly initialized: ['pooler.dense.bias', 'pooler.dense.weight']\n",
      "You should probably TRAIN this model on a down-stream task to be able to use it for predictions and inference.\n"
     ]
    },
    {
     "name": "stdout",
     "output_type": "stream",
     "text": [
      "Lexical Exact Match: 0.2151\n",
      "Lexical F1 Score:    0.2498\n",
      "BERTScore F1:        0.5142\n"
     ]
    },
    {
     "name": "stderr",
     "output_type": "stream",
     "text": [
      "Warning: Empty candidate sentence detected; setting raw BERTscores to 0.\n",
      "Warning: Empty candidate sentence detected; setting raw BERTscores to 0.\n",
      "Warning: Empty candidate sentence detected; setting raw BERTscores to 0.\n"
     ]
    }
   ],
   "source": [
    "evaluate_all(\"../../samples_for_eval/zero_shot/qwen/responses_new.jsonl\", gold_dict_zs)\n"
   ]
  },
  {
   "cell_type": "code",
   "execution_count": 11,
   "metadata": {},
   "outputs": [
    {
     "name": "stderr",
     "output_type": "stream",
     "text": [
      "Some weights of RobertaModel were not initialized from the model checkpoint at roberta-large and are newly initialized: ['pooler.dense.bias', 'pooler.dense.weight']\n",
      "You should probably TRAIN this model on a down-stream task to be able to use it for predictions and inference.\n"
     ]
    },
    {
     "name": "stdout",
     "output_type": "stream",
     "text": [
      "Lexical Exact Match: 0.0893\n",
      "Lexical F1 Score:    0.1116\n",
      "BERTScore F1:        0.2366\n"
     ]
    },
    {
     "name": "stderr",
     "output_type": "stream",
     "text": [
      "Warning: Empty candidate sentence detected; setting raw BERTscores to 0.\n",
      "Warning: Empty candidate sentence detected; setting raw BERTscores to 0.\n",
      "Warning: Empty candidate sentence detected; setting raw BERTscores to 0.\n"
     ]
    }
   ],
   "source": [
    "evaluate_all(\"../../samples_for_eval/zero_shot/qwen/responses.jsonl\", gold_dict_zs)\n"
   ]
  },
  {
   "cell_type": "code",
   "execution_count": 11,
   "metadata": {},
   "outputs": [
    {
     "name": "stderr",
     "output_type": "stream",
     "text": [
      "Some weights of RobertaModel were not initialized from the model checkpoint at roberta-large and are newly initialized: ['pooler.dense.bias', 'pooler.dense.weight']\n",
      "You should probably TRAIN this model on a down-stream task to be able to use it for predictions and inference.\n"
     ]
    },
    {
     "name": "stdout",
     "output_type": "stream",
     "text": [
      "Lexical Exact Match: 0.2500\n",
      "Lexical F1 Score:    0.3180\n",
      "BERTScore F1:        0.8569\n"
     ]
    }
   ],
   "source": [
    "evaluate_all(\"../../samples_for_eval/zero_shot/deepseek/responses.jsonl\", gold_dict)\n"
   ]
  },
  {
   "cell_type": "code",
   "execution_count": 6,
   "metadata": {},
   "outputs": [
    {
     "name": "stderr",
     "output_type": "stream",
     "text": [
      "Some weights of RobertaModel were not initialized from the model checkpoint at roberta-large and are newly initialized: ['pooler.dense.bias', 'pooler.dense.weight']\n",
      "You should probably TRAIN this model on a down-stream task to be able to use it for predictions and inference.\n"
     ]
    },
    {
     "name": "stdout",
     "output_type": "stream",
     "text": [
      "Lexical Exact Match: 0.2738\n",
      "Lexical F1 Score:    0.3433\n",
      "BERTScore F1:        0.8548\n"
     ]
    },
    {
     "name": "stderr",
     "output_type": "stream",
     "text": [
      "Warning: Empty candidate sentence detected; setting raw BERTscores to 0.\n"
     ]
    }
   ],
   "source": [
    "evaluate_all(\"../../samples_for_eval/zero_shot/llama/responses.jsonl\", gold_dict)\n"
   ]
  },
  {
   "cell_type": "markdown",
   "metadata": {},
   "source": [
    "## upper_bound\n"
   ]
  },
  {
   "cell_type": "code",
   "execution_count": 6,
   "metadata": {},
   "outputs": [],
   "source": [
    "\n",
    "gold_dict = {\n",
    "    f\"{row.Entities}_{row.Label}:gold_injected\": row.Answer.strip() #f\"{row.Entities}_{row.Label}:upper_bound\": row.Answer.strip()\n",
    "    for row in test_df.itertuples()\n",
    "}"
   ]
  },
  {
   "cell_type": "code",
   "execution_count": 11,
   "metadata": {},
   "outputs": [
    {
     "name": "stderr",
     "output_type": "stream",
     "text": [
      "Some weights of RobertaModel were not initialized from the model checkpoint at roberta-large and are newly initialized: ['pooler.dense.bias', 'pooler.dense.weight']\n",
      "You should probably TRAIN this model on a down-stream task to be able to use it for predictions and inference.\n"
     ]
    },
    {
     "name": "stdout",
     "output_type": "stream",
     "text": [
      "Lexical Exact Match: 0.1369\n",
      "Lexical F1 Score:    0.1479\n",
      "BERTScore F1:        0.2909\n"
     ]
    },
    {
     "name": "stderr",
     "output_type": "stream",
     "text": [
      "Warning: Empty candidate sentence detected; setting raw BERTscores to 0.\n",
      "Warning: Empty candidate sentence detected; setting raw BERTscores to 0.\n",
      "Warning: Empty candidate sentence detected; setting raw BERTscores to 0.\n"
     ]
    }
   ],
   "source": [
    "evaluate_all(\"../../samples_for_eval/upper_bound/txgemma/responses_new.jsonl\", gold_dict)\n"
   ]
  },
  {
   "cell_type": "code",
   "execution_count": 12,
   "metadata": {},
   "outputs": [
    {
     "name": "stderr",
     "output_type": "stream",
     "text": [
      "Some weights of RobertaModel were not initialized from the model checkpoint at roberta-large and are newly initialized: ['pooler.dense.bias', 'pooler.dense.weight']\n",
      "You should probably TRAIN this model on a down-stream task to be able to use it for predictions and inference.\n"
     ]
    },
    {
     "name": "stdout",
     "output_type": "stream",
     "text": [
      "Lexical Exact Match: 0.9048\n",
      "Lexical F1 Score:    0.9048\n",
      "BERTScore F1:        0.9779\n"
     ]
    }
   ],
   "source": [
    "evaluate_all(\"../../samples_for_eval/upper_bound/deepseek/responses_r1.jsonl\", gold_dict)\n"
   ]
  },
  {
   "cell_type": "code",
   "execution_count": 16,
   "metadata": {},
   "outputs": [
    {
     "name": "stderr",
     "output_type": "stream",
     "text": [
      "Some weights of RobertaModel were not initialized from the model checkpoint at roberta-large and are newly initialized: ['pooler.dense.bias', 'pooler.dense.weight']\n",
      "You should probably TRAIN this model on a down-stream task to be able to use it for predictions and inference.\n"
     ]
    },
    {
     "name": "stdout",
     "output_type": "stream",
     "text": [
      "Lexical Exact Match: 0.7976\n",
      "Lexical F1 Score:    0.7976\n",
      "BERTScore F1:        0.8794\n"
     ]
    },
    {
     "name": "stderr",
     "output_type": "stream",
     "text": [
      "Warning: Empty candidate sentence detected; setting raw BERTscores to 0.\n",
      "Warning: Empty candidate sentence detected; setting raw BERTscores to 0.\n",
      "Warning: Empty candidate sentence detected; setting raw BERTscores to 0.\n"
     ]
    }
   ],
   "source": [
    "evaluate_all(\"../../samples_for_eval/upper_bound/qwen/responses.jsonl\", gold_dict)\n"
   ]
  },
  {
   "cell_type": "code",
   "execution_count": 9,
   "metadata": {},
   "outputs": [
    {
     "name": "stderr",
     "output_type": "stream",
     "text": [
      "Some weights of RobertaModel were not initialized from the model checkpoint at roberta-large and are newly initialized: ['pooler.dense.bias', 'pooler.dense.weight']\n",
      "You should probably TRAIN this model on a down-stream task to be able to use it for predictions and inference.\n"
     ]
    },
    {
     "name": "stdout",
     "output_type": "stream",
     "text": [
      "Lexical Exact Match: 0.7143\n",
      "Lexical F1 Score:    0.7143\n",
      "BERTScore F1:        0.9319\n"
     ]
    }
   ],
   "source": [
    "evaluate_all(\"../../samples_for_eval/upper_bound/llama/responses.jsonl\", gold_dict)\n"
   ]
  }
 ],
 "metadata": {
  "kernelspec": {
   "display_name": "RAG",
   "language": "python",
   "name": "python3"
  },
  "language_info": {
   "codemirror_mode": {
    "name": "ipython",
    "version": 3
   },
   "file_extension": ".py",
   "mimetype": "text/x-python",
   "name": "python",
   "nbconvert_exporter": "python",
   "pygments_lexer": "ipython3",
   "version": "3.10.16"
  },
  "orig_nbformat": 4
 },
 "nbformat": 4,
 "nbformat_minor": 2
}
