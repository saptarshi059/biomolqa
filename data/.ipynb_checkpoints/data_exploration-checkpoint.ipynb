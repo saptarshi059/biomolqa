{
 "cells": [
  {
   "cell_type": "markdown",
   "id": "43ce5a6e-96eb-4014-b523-6e43b41dd0ac",
   "metadata": {},
   "source": [
    "#### Import Libraries"
   ]
  },
  {
   "cell_type": "code",
   "execution_count": 2,
   "id": "f50c219d-d163-431f-9759-4607bb3bf7c9",
   "metadata": {},
   "outputs": [],
   "source": [
    "from collections import defaultdict\n",
    "import pubchempy as pcp\n",
    "from Bio import Entrez\n",
    "from tqdm import tqdm\n",
    "import pandas as pd\n",
    "import numpy as np\n",
    "import requests\n",
    "import re"
   ]
  },
  {
   "cell_type": "code",
   "execution_count": null,
   "id": "b0ebd858-1986-4849-ba0c-8f21b8efd4b8",
   "metadata": {},
   "outputs": [],
   "source": [
    "def CID_information(CID: int):\n",
    "    cleaned_cid = int(re.sub(r\"CID[m|s]*0*\", \"\", CID))\n",
    "    compound = pcp.Compound.from_cid(cleaned_cid)\n",
    "    try:\n",
    "        compound_name = compound.synonyms[0]\n",
    "    except:\n",
    "        compound_name = compound.iupac_name\n",
    "    return (compound_name, compound.canonical_smiles)"
   ]
  },
  {
   "cell_type": "markdown",
   "id": "35e0ce48-1932-4829-8fec-627c0134602f",
   "metadata": {
    "jp-MarkdownHeadingCollapsed": true
   },
   "source": [
    "#### Extra code - might use later. This is to retrieve info from the gene db."
   ]
  },
  {
   "cell_type": "code",
   "execution_count": null,
   "id": "1bdcdb34-62dc-44c3-94f4-3e6f83f1cd17",
   "metadata": {},
   "outputs": [],
   "source": [
    "#bAckgr\n",
    "\n",
    "from Bio import Entrez, Medline\n",
    "\n",
    "# Set your email address (required for NCBI API usage)\n",
    "Entrez.email = 'your_email@example.com'\n",
    "\n",
    "# Define the drug name (e.g., \"Aspirin\")\n",
    "drug_name = '\"alendronic acid\" AND hasabstract'\n",
    "\n",
    "handle = Entrez.esearch(db='pubmed', term=drug_name, retmax=5)\n",
    "paper_list = Entrez.read(handle)[\"IdList\"]\n",
    "handle.close()\n",
    "\n",
    "handle = Entrez.efetch(db='pubmed', rettype='medline', retmode=\"text\", id=paper_list)\n",
    "d = Medline.parse(handle)\n",
    "\n",
    "s = []\n",
    "for r in d:\n",
    "    s.append(r)\n",
    "\n",
    "s[0]\n",
    "\n",
    "d[\"PubmedArticle\"][1][\"MedlineCitation\"][\"Article\"][\"Abstract\"][\"AbstractText\"][0]\n",
    "\n",
    "from bs4 import BeautifulSoup\n",
    "\n",
    "abstract_text = d[\"PubmedArticle\"][3][\"MedlineCitation\"][\"Article\"][\"Abstract\"][\"AbstractText\"][0]\n",
    "soup = BeautifulSoup(abstract_text, 'html.parser')\n",
    "cleaned_text = soup.get_text()\n",
    "print(cleaned_text)"
   ]
  },
  {
   "cell_type": "code",
   "execution_count": null,
   "id": "b9996c2a-129a-4b63-b689-313fa5b36a1a",
   "metadata": {},
   "outputs": [],
   "source": [
    "def get_protein_info(record):\n",
    "    return f\"{record[0]['Entrezgene_gene']['Gene-ref']['Gene-ref_locus']} ({record[0]['Entrezgene_gene']['Gene-ref']['Gene-ref_desc']})\",\\\n",
    "    record[0][\"Entrezgene_summary\"],\\\n",
    "    record[0][\"Entrezgene_prot\"]\n",
    "\n",
    "cleaned_gene_id = int(re.sub(\"9606.ENSP0*\", \"\", gene))\n",
    "Entrez.email = \"sample_email@example.org\" #Doesn't really matter\n",
    "handle = Entrez.efetch(db=\"gene\", id=cleaned_gene_id, rettype=\"gb\", retmode=\"xml\")\n",
    "record = Entrez.read(handle)\n",
    "\n",
    "try:\n",
    "    all_information[\"gene name\"], all_information[\"gene summary\"], all_information[\"proteins from gene\"] = get_protein_info(record)\n",
    "except:\n",
    "    continue\n",
    "\n",
    "Entrez.email = \"sample_email@example.org\" #Doesn't really matter\n",
    "handle = Entrez.efetch(db=\"gene\", id=7448, rettype=\"gb\", retmode=\"xml\")\n",
    "record = Entrez.read(handle)\n",
    "\n",
    "all_information = {}\n",
    "all_information[\"gene name\"] = f\"{record[0]['Entrezgene_gene']['Gene-ref']['Gene-ref_locus']} ({record[0]['Entrezgene_gene']['Gene-ref']['Gene-ref_desc']})\"\n",
    "all_information[\"gene summary\"] = record[0][\"Entrezgene_summary\"]\n",
    "all_information[\"proteins from gene\"] = record[0][\"Entrezgene_prot\"]\n",
    "all_information"
   ]
  },
  {
   "cell_type": "markdown",
   "id": "fa38b2ff-e4f7-48b9-9d5b-89419d13f298",
   "metadata": {
    "jp-MarkdownHeadingCollapsed": true
   },
   "source": [
    "#### DDI sampling"
   ]
  },
  {
   "cell_type": "code",
   "execution_count": null,
   "id": "126409d1-63e7-4d08-8111-e1a44efe4d45",
   "metadata": {},
   "outputs": [],
   "source": [
    "ddi = pd.read_csv(\"bio-decagon-combo.csv\")"
   ]
  },
  {
   "cell_type": "code",
   "execution_count": null,
   "id": "e336fb2d-05bc-4e9f-854f-0a4361bde42b",
   "metadata": {},
   "outputs": [],
   "source": [
    "all_information = defaultdict(list)\n",
    "\n",
    "for _ in tqdm(range(100)):\n",
    "    while True:\n",
    "        sampled_ddi = ddi.sample(n=1)\n",
    "        drug_1_CID = sampled_ddi[\"STITCH 1\"].to_list()[0]\n",
    "        drug_2_CID = sampled_ddi[\"STITCH 2\"].to_list()[0]\n",
    "        relationship = sampled_ddi[\"Side Effect Name\"].to_list()[0]\n",
    "        \n",
    "        drug_1_info = CID_information(drug_1_CID)\n",
    "        drug_2_info = CID_information(drug_2_CID)\n",
    "    \n",
    "        # I want the drug name to not include any numbers or brackets, i.e., only keep regular words.\n",
    "        try:\n",
    "            if not (re.search(r\"[\\W\\d]\", drug_1_info[0]) or re.search(r\"[\\W\\d]\", drug_2_info[0])):\n",
    "                break\n",
    "        except:\n",
    "            continue\n",
    "\n",
    "    all_information[\"drug_1_CID\"].append(drug_1_CID)\n",
    "    all_information[\"drug_1_name\"].append(drug_1_info[0])\n",
    "    all_information[\"drug_1_SMILES\"].append(drug_1_info[1])\n",
    "    all_information[\"relationship\"].append(relationship)\n",
    "    all_information[\"drug_2_CID\"].append(drug_2_CID)\n",
    "    all_information[\"drug_2_name\"].append(drug_2_info[0])\n",
    "    all_information[\"drug_2_SMILES\"].append(drug_2_info[1])\n",
    "    \n",
    "    \"\"\"print(f\"Natural Language Triple: {drug_1_info[0]} -- {relationship} -- {drug_2_info[0]}\")\n",
    "    print(f\"{drug_1_info[0]} SMILES: {drug_1_info[1]}\")\n",
    "    print(f\"{drug_2_info[0]} SMILES: {drug_2_info[1]}\")\"\"\"\n",
    "\n",
    "# I might see certain elements appearing more than once. However, they all have different relationships with drug 2.\n",
    "pd.DataFrame(all_information).to_csv(\"DDI_subset.csv\", index=False)"
   ]
  },
  {
   "cell_type": "markdown",
   "id": "bfc674f5-5335-4ec4-a642-03313518c635",
   "metadata": {
    "jp-MarkdownHeadingCollapsed": true
   },
   "source": [
    "#### DPI sampling"
   ]
  },
  {
   "cell_type": "code",
   "execution_count": null,
   "id": "6f695d8d-6edc-4421-94c7-6690101d9d41",
   "metadata": {},
   "outputs": [],
   "source": [
    "ddi_subset = pd.read_csv(\"DDI_subset.csv\")\n",
    "dpi = pd.read_csv(\"bio-decagon-targets-all.csv\")\n",
    "actions = pd.read_csv(\"9606.actions.v5.0.tsv\", sep=\"\\t\")\n",
    "\n",
    "all_drugs_CID = set(ddi_subset[\"drug_1_CID\"].to_list() + ddi_subset[\"drug_2_CID\"].to_list())\n",
    "\n",
    "# The query returns A LOT of DPIs. We need only a subset of them. Thus, randomly sampling from them.\n",
    "dpi_subset = dpi.query(\"STITCH in @all_drugs_CID\").sample(n=100, random_state=77)\n",
    "\n",
    "# Converting PubChem CID to STITCH CIDs (singular element) (https://www.biostars.org/p/155342/)\n",
    "dpi_subset['STITCH'] = dpi_subset['STITCH'].str.replace('CID0', 'CIDs')"
   ]
  },
  {
   "cell_type": "code",
   "execution_count": null,
   "id": "7a4c75c4-6fdb-471c-b5c6-16d509ef4337",
   "metadata": {},
   "outputs": [],
   "source": [
    "search_list = []\n",
    "for row in tqdm(dpi_subset.itertuples()):  \n",
    "    # Retrieving protein data from the given gene ID\n",
    "    url = f\"https://string-db.org/api/json/get_string_ids?identifiers={row.Gene}&species=9606\"\n",
    "    try:\n",
    "        response = requests.get(url).json()[0]\n",
    "        string_id = (response[\"stringId\"], response[\"preferredName\"], response[\"annotation\"], row.Gene)\n",
    "    except:\n",
    "        continue\n",
    "\n",
    "    search_list.append((row.STITCH, string_id))"
   ]
  },
  {
   "cell_type": "code",
   "execution_count": null,
   "id": "a8d1f014-59d0-4e25-85c5-5a4e973f1dea",
   "metadata": {},
   "outputs": [],
   "source": [
    "\"\"\"\n",
    "NOTES/OBSERVATIONS:\n",
    "\n",
    "1. I decided to do a_is_acting == 't' as otherwise, we would get matches like this which, imo, doesn't really make sense, i.e., \n",
    "what does a protein \"acting\" on a drug mean? - drug acting on a protein makes more sense.\n",
    "\n",
    "8063 \t9606.ENSP00000320025 \tCIDs00003333 \tinhibition \tinhibition \tf \t991\n",
    "8064 \tCIDs00003333 \t9606.ENSP00000320025 \tinhibition \tinhibition \tt \t991\n",
    "\n",
    "2. In theory, actions.query(\"(item_id_a in @l1) and (item_id_b in @l2)\") should return 100 rows for each interaction. However, there are \n",
    "certain dpi's like below that have different interaction scores, whether a acts on b, etc. Thus, we filter out those with our conditions.\n",
    "\n",
    "21666299 \tCIDs00060795 \t9606.ENSP00000289753 \tinhibition \tinhibition \tt \t958\n",
    "21666301 \tCIDs00060795 \t9606.ENSP00000289753 \tbinding \tNaN \tt \t800\n",
    "\n",
    "3. There are certain pairs like, ('CIDs00002435', '9606.ENSP00000398832') that do not have an entry in the database either as\n",
    "(item_id_a, item_id_b) or (item_id_b, item_id_a) - This in turn reduces the number of samples.\n",
    "\n",
    "4. I am bound to see more a_is_acting = f since it is the major element in the actions db by about 30 times more than t.\n",
    "a_is_acting\n",
    "f    21078378\n",
    "t      695113.\n",
    "\n",
    "5. Even if I consider a->b and b->a relationships, I'm getting certain useless pairs such as the following which doesn't really give me any\n",
    "additional information.\n",
    "1448204 \t9606.ENSP00000241256 \tCIDs00002477 \tbinding \tNaN \tf \t894\n",
    "1448205 \tCIDs00002477 \t9606.ENSP00000241256 \tbinding \tNaN \tf \t894\n",
    "\n",
    "6. This will return a lower number than the rows in r since there can be multiple relationships between the same drug-protein pair.\n",
    "r = actions.query(\"item_id_a in @l1\")\n",
    "r = r[r.apply(lambda x: (x[\"item_id_a\"], x[\"item_id_b\"]) in target_pairs, axis=1)]\n",
    "len(set([(x.item_id_a, x.item_id_b) for x in r.itertuples()]))\n",
    "\n",
    "7. Out of 200 possible (a,b) and (b,a) combinations, 154 exist in the database.\n",
    "r = actions.query(\"item_id_a in @l1 or item_id_b in @l1\")\n",
    "len(set(target_pairs).intersection(set([(x.item_id_a, x.item_id_b) for x in r.itertuples()]).union(set([(x.item_id_b, x.item_id_a) for x in r.itertuples()]))))\n",
    "\"\"\""
   ]
  },
  {
   "cell_type": "code",
   "execution_count": null,
   "id": "31891efa-9fa3-4640-91b7-14a42abe28ee",
   "metadata": {},
   "outputs": [],
   "source": [
    "target_pairs = list(zip([x[0] for x in search_list], [x[1][0] for x in search_list]))\n",
    "l1 = [x[0] for x in target_pairs]"
   ]
  },
  {
   "cell_type": "code",
   "execution_count": null,
   "id": "8cd3653c-db5a-4548-add0-5c444af57486",
   "metadata": {},
   "outputs": [],
   "source": [
    "'''\n",
    "I'm only searching one column (item_id_a) with the CID's. All of my CID's WILL be present in that column, since each CID is mentioned once\n",
    "in item_id_a and another in item_id_b.\n",
    "'''\n",
    "r = actions.query(\"item_id_a in @l1\")\n",
    "'''\n",
    "1. I can do the following check since if (a, b) does not exist in the db, (b, a) also wont.\n",
    "2. I'm not bothered about the \"action\" since that is directional. (a,b) and (b,a) WILL have the SAME \"mode\", i.e., relationship.\n",
    "That's why I'm just doing (a, b).\n",
    "'''\n",
    "r = r[r.apply(lambda x: (x[\"item_id_a\"], x[\"item_id_b\"]) in set(target_pairs), axis=1)]"
   ]
  },
  {
   "cell_type": "code",
   "execution_count": null,
   "id": "e827523a-24ec-462b-880d-943bba169e72",
   "metadata": {},
   "outputs": [],
   "source": [
    "search_df = pd.DataFrame({\"cid\": [x[0] for x in search_list],\n",
    "\"protein_number\": [x[1][0] for x in search_list],\n",
    "\"protein_name\": [x[1][1] for x in search_list], \n",
    "\"protein_desc\": [x[1][2] for x in search_list],\n",
    "\"gene\": [x[1][3] for x in search_list]})"
   ]
  },
  {
   "cell_type": "code",
   "execution_count": null,
   "id": "3bc394c2-3a9f-462e-bd50-7e1a94702b46",
   "metadata": {},
   "outputs": [],
   "source": [
    "r = pd.merge(r, search_df, left_on=[\"item_id_a\", \"item_id_b\"], \n",
    "             right_on=[\"cid\", \"protein_number\"], how=\"inner\").drop(columns=[\"item_id_a\", \"item_id_b\", \"action\", \"a_is_acting\", \"score\"])\n",
    "\n",
    "r[\"cid\"] = r[\"cid\"].str.replace(\"CIDs\", \"CID0\") # Going back to PubChem CID to be compatible with other DDI\n",
    "r.to_csv(\"DPI_subset.csv\", index=False)"
   ]
  },
  {
   "cell_type": "markdown",
   "id": "a867a1cf-1a96-40fd-abc6-5cbdea5a4ca2",
   "metadata": {
    "jp-MarkdownHeadingCollapsed": true
   },
   "source": [
    "#### PPI sampling"
   ]
  },
  {
   "cell_type": "code",
   "execution_count": null,
   "id": "52ce8f1e-6073-4025-a858-7ecc57b20862",
   "metadata": {},
   "outputs": [],
   "source": [
    "ppi = pd.read_csv(\"bio-decagon-ppi.csv\")\n",
    "dpi_subset = pd.read_csv(\"DPI_subset.csv\")"
   ]
  },
  {
   "cell_type": "code",
   "execution_count": null,
   "id": "ad733780-8bec-46c0-be35-c06a5c2b7324",
   "metadata": {},
   "outputs": [],
   "source": [
    "all_genes = set(dpi_subset[\"gene\"].to_list())"
   ]
  },
  {
   "cell_type": "code",
   "execution_count": null,
   "id": "3f362858-eb13-4bd6-8928-f28dc311577b",
   "metadata": {},
   "outputs": [],
   "source": [
    "# I use this condition since I don't want to introduce new genes as a part of the dataset.\n",
    "r = ppi[ppi[\"Gene 1\"].isin(all_genes) & ppi[\"Gene 2\"].isin(all_genes)].sample(n=100, random_state=77)"
   ]
  },
  {
   "cell_type": "code",
   "execution_count": null,
   "id": "76bf922b-e522-4950-a489-8c0c7ffb1a37",
   "metadata": {},
   "outputs": [],
   "source": [
    "'''\n",
    "nscore - neighborhood score, (computed from the inter-gene nucleotide count).\n",
    "fscore - fusion score (derived from fused proteins in other species).\n",
    "pscore - cooccurence score of the phyletic profile (derived from similar absence/presence patterns of genes).\n",
    "ascore - coexpression score (derived from similar pattern of mRNA expression measured by DNA arrays and similar technologies).\n",
    "escore - experimental score (derived from experimental data, such as, affinity chromatography).\n",
    "dscore - database score (derived from curated data of various databases).\n",
    "tscore - textmining score (derived from the co-occurrence of gene/protein names in abstracts).\n",
    "'''\n",
    "all_res = []\n",
    "for row in tqdm(r.itertuples()):    \n",
    "    # I'm passing the gene ID directly since STRING maps these ID's automatically to the gene's main protein.\n",
    "    # species 9606 = human.\n",
    "    url = f\"https://string-db.org/api/json/network?identifiers={'%0d'.join([str(row._1), str(row._2)])}&species=9606\"\n",
    "    try:\n",
    "        response = requests.get(url).json()\n",
    "        response[0][\"Gene 1\"] = row._1\n",
    "        response[0][\"Gene 2\"] = row._2\n",
    "        all_res.append(response[0])\n",
    "    except:\n",
    "        continue"
   ]
  },
  {
   "cell_type": "code",
   "execution_count": null,
   "id": "965bdd50-aa25-4e90-8a92-ee4325fc9184",
   "metadata": {},
   "outputs": [],
   "source": [
    "'''\n",
    "My interpretation of the scores (after reading a bit online):\n",
    "nscore - How close the 2 genes are in the genome (the entire set of organism DNA)\n",
    "fscore - Evidence of whether the 2 genes fuse together to form a hybrid gene\n",
    "pscore - Evidence of whether the 2 genes have a common ancestor (homologous)\n",
    "ascore - Evidence of whether the 2 genes are simultaneously activated or not.\n",
    "escore - Evidence of whether the 2 genes have been shown to interact through lab experiments.\n",
    "dscore - Degree of presence in existing datasbases.\n",
    "tscore - Evidence of reporting in literature.\n",
    "'''\n",
    "def return_edge_label(pair: dict):\n",
    "    pair_scores = {'nscore': pair['nscore'], 'fscore': pair['fscore'], 'pscore': pair['pscore'], 'ascore': pair['ascore'], \n",
    "                   'escore': pair['escore'], 'dscore': pair['dscore'], 'tscore': pair['tscore']}\n",
    "    best_evidence = max(pair_scores.items(), key=lambda x: x[1])\n",
    "    if best_evidence[0] == 'nscore':\n",
    "        return \"neighborhood_evidence\"\n",
    "    elif best_evidence[0] == 'fscore':\n",
    "        return \"fusion_evidence\"\n",
    "    elif best_evidence[0] == 'pscore':\n",
    "        return \"homologous_evidence\"\n",
    "    elif best_evidence[0] == 'ascore':\n",
    "        return \"co-expression_evidence\"\n",
    "    elif best_evidence[0] == 'escore':\n",
    "        return \"experimental_evidence\"\n",
    "    elif best_evidence[0] == 'dscore':\n",
    "        return \"database_evidence\"\n",
    "    elif best_evidence[0] == 'tscore':\n",
    "        return \"literature_evidence\""
   ]
  },
  {
   "cell_type": "code",
   "execution_count": null,
   "id": "12a15c36-08d7-4a18-ac45-d17ca59c35e9",
   "metadata": {},
   "outputs": [],
   "source": [
    "for idx in range(len(all_res)):\n",
    "    all_res[idx][\"relationship\"] = return_edge_label(all_res[idx])"
   ]
  },
  {
   "cell_type": "code",
   "execution_count": null,
   "id": "dfcf538a-f28c-4de0-88fa-b79f31631ac4",
   "metadata": {},
   "outputs": [],
   "source": [
    "pd.DataFrame(all_res)[[\"Gene 1\", \"Gene 2\", \"stringId_A\", \"stringId_B\", \"preferredName_A\", \"preferredName_B\", \n",
    "                       \"relationship\"]].to_csv(\"PPI_subset.csv\", index=False)"
   ]
  },
  {
   "cell_type": "markdown",
   "id": "50ab1c20-69e8-4992-a62f-5bc2a2a7ddc4",
   "metadata": {
    "jp-MarkdownHeadingCollapsed": true
   },
   "source": [
    "#### Sanity Check the output"
   ]
  },
  {
   "cell_type": "code",
   "execution_count": null,
   "id": "c381e85c-e683-4643-9e83-280d8c7ee562",
   "metadata": {},
   "outputs": [],
   "source": [
    "ddi_subset = pd.read_csv(\"DDI_subset.csv\")\n",
    "dpi_subset = pd.read_csv(\"DPI_subset.csv\")\n",
    "ppi_subset = pd.read_csv(\"PPI_subset.csv\")\n",
    "\n",
    "all_drugs = set(ddi_subset[\"drug_1_CID\"].to_list()).union(set(ddi_subset[\"drug_2_CID\"].to_list()))\n",
    "all_drugs_with_protein_interactions = set(dpi_subset[\"cid\"].to_list())\n",
    "print(f\"All unique drugs considered: {len(all_drugs)}\")\n",
    "print(f\"All drugs with proetin interactions: {len(all_drugs_with_protein_interactions)}\")\n",
    "print(f\"Are all drugs with protein interactions ⊆ all drugs?: {all_drugs_with_protein_interactions.issubset(all_drugs)}\")\n",
    "\n",
    "all_proteins = set(dpi_subset[\"protein_number\"].to_list())\n",
    "all_ppis = set(ppi_subset[\"stringId_A\"].to_list()).union(set(ppi_subset[\"stringId_B\"].to_list()))\n",
    "print(f\"\\nAll unique proteins considered: {len(all_proteins)}\")\n",
    "print(f\"All proteins with ppis: {len(all_ppis)}\")\n",
    "print(f\"Are all proteins with ppis ⊆ all proteins?: {all_ppis.issubset(all_proteins)}\")"
   ]
  },
  {
   "cell_type": "markdown",
   "id": "66886ac7-4360-44ad-b529-32485c4aba02",
   "metadata": {
    "jp-MarkdownHeadingCollapsed": true
   },
   "source": [
    "#### Visualizing the network"
   ]
  },
  {
   "cell_type": "code",
   "execution_count": null,
   "id": "93248c8b-4f0a-47ca-a980-ddb0228a9c12",
   "metadata": {},
   "outputs": [],
   "source": [
    "ddi_subset = pd.read_csv(\"DDI_subset.csv\")\n",
    "dpi_subset = pd.read_csv(\"DPI_subset.csv\")\n",
    "ppi_subset = pd.read_csv(\"PPI_subset.csv\")"
   ]
  },
  {
   "cell_type": "code",
   "execution_count": null,
   "id": "c618f80e-fbca-4dc8-bd26-47de02a1f69c",
   "metadata": {},
   "outputs": [],
   "source": [
    "all_drugs_CID = set(ddi_subset[\"drug_1_CID\"].to_list() + ddi_subset[\"drug_2_CID\"].to_list())\n",
    "len(all_drugs_CID)"
   ]
  },
  {
   "cell_type": "code",
   "execution_count": null,
   "id": "5c604761-86f3-40d0-acff-98b3502ecc55",
   "metadata": {},
   "outputs": [],
   "source": [
    "len(set(dpi_subset[\"gene\"].to_list()))"
   ]
  },
  {
   "cell_type": "code",
   "execution_count": null,
   "id": "71b072c3-011d-4631-8dc6-40130bafa59a",
   "metadata": {},
   "outputs": [],
   "source": [
    "all_genes = set(ppi_subset[\"Gene 1\"].to_list() + ppi_subset[\"Gene 2\"].to_list())\n",
    "len(all_genes)"
   ]
  },
  {
   "cell_type": "code",
   "execution_count": null,
   "id": "8761aebf-05e6-49a5-b670-883e246b551e",
   "metadata": {},
   "outputs": [],
   "source": [
    "import networkx as nx\n",
    "import matplotlib.pyplot as plt\n",
    "\n",
    "G = nx.Graph()\n",
    "\n",
    "# Add edges to the graph\n",
    "for index, row in ddi_subset.iterrows():\n",
    "    G.add_edge(row['drug_1_name'], row['drug_2_name'], label=row['relationship'])\n",
    "\n",
    "# Draw the graph\n",
    "plt.figure(figsize=(20, 20))  # Adjust the figure size as needed\n",
    "pos = nx.spring_layout(G, k=0.15, iterations=15)\n",
    "nx.draw(G, pos, with_labels=True, node_color='skyblue', node_size=15, edge_color='black', linewidths=10, font_size=10)\n",
    "\n",
    "# Add edge labels\n",
    "edge_labels = {(u, v): d['label'] for u, v, d in G.edges(data=True)}\n",
    "nx.draw_networkx_edge_labels(G, pos, edge_labels=edge_labels, rotate=False, font_color='red')\n",
    "\n",
    "plt.show()"
   ]
  },
  {
   "cell_type": "code",
   "execution_count": null,
   "id": "e1c8cad1-aadb-4023-8eb3-e0bcad6b3fa3",
   "metadata": {},
   "outputs": [],
   "source": [
    "ddi_subset.query(\"drug_2_name == 'sotalol'\")"
   ]
  },
  {
   "cell_type": "code",
   "execution_count": null,
   "id": "0fdb3858-95b0-4100-97a8-1c87a54d79b1",
   "metadata": {},
   "outputs": [],
   "source": [
    "# Creating an interactive graph\n",
    "\n",
    "import networkx as nx\n",
    "import plotly.graph_objects as go\n",
    "\n",
    "G = nx.Graph()\n",
    "\n",
    "# Add edges to the graph\n",
    "for index, row in ddi_subset.iterrows():\n",
    "    G.add_edge(row['drug_1_name'], row['drug_2_name'], label=row['relationship'])\n",
    "\n",
    "# Add edge labels\n",
    "edge_labels = {(u, v): d['label'] for u, v, d in G.edges(data=True)}\n",
    "nx.set_edge_attributes(G, edge_labels, 'label')\n",
    "\n",
    "# Position nodes using spring layout\n",
    "pos = nx.spring_layout(G)\n",
    "\n",
    "# Extract node and edge information\n",
    "node_x = [pos[node][0] for node in G.nodes()]\n",
    "node_y = [pos[node][1] for node in G.nodes()]\n",
    "edge_x = []\n",
    "edge_y = []\n",
    "edge_text = []\n",
    "for edge in G.edges():\n",
    "    source, target = edge\n",
    "    x0, y0 = pos[source]\n",
    "    x1, y1 = pos[target]\n",
    "    edge_x.append(x0)\n",
    "    edge_x.append(x1)\n",
    "    edge_x.append(None)\n",
    "    edge_y.append(y0)\n",
    "    edge_y.append(y1)\n",
    "    edge_y.append(None)\n",
    "    edge_text.append(G.get_edge_data(*edge)['label'])  # Use existing edge labels\n",
    "\n",
    "# Create a Plotly figure\n",
    "fig = go.Figure(data=[go.Scatter(\n",
    "    x=edge_x,\n",
    "    y=edge_y,\n",
    "    mode='lines',\n",
    "    line_shape='spline',\n",
    "    opacity=0.5,\n",
    "    hoverinfo='none'\n",
    "),\n",
    "go.Scatter(\n",
    "    x=node_x,\n",
    "    y=node_y,\n",
    "    mode='markers',\n",
    "    hoverinfo='text',\n",
    "    hovertext=[f'Node {node}' for node in G.nodes()]\n",
    "),\n",
    "go.Scatter(\n",
    "    x=[(pos[edge[0]][0] + pos[edge[1]][0]) / 2 for edge in G.edges()],\n",
    "    y=[(pos[edge[0]][1] + pos[edge[1]][1]) / 2 for edge in G.edges()],\n",
    "    mode='text',\n",
    "    text=edge_text,\n",
    "    textposition='middle center',\n",
    "    hoverinfo='none'\n",
    ")])\n",
    "\n",
    "# Customize the layout\n",
    "fig.update_layout(\n",
    "    showlegend=False,\n",
    "    hovermode='x',\n",
    "    margin=dict(b=20, l=5, r=5, t=40),\n",
    "    xaxis=dict(showgrid=False, zeroline=False, showticklabels=False),\n",
    "    yaxis=dict(showgrid=False, zeroline=False, showticklabels=False))\n",
    "\n",
    "# Display the figure\n",
    "fig.show()"
   ]
  },
  {
   "cell_type": "markdown",
   "id": "dae6fe92-1d60-4aa7-881c-9f6a7e29374d",
   "metadata": {},
   "source": [
    "#### Collecting Background information"
   ]
  },
  {
   "cell_type": "code",
   "execution_count": 29,
   "id": "3f4952e9-0d36-4528-8057-9d2398ad9bd5",
   "metadata": {},
   "outputs": [],
   "source": [
    "from Bio import Entrez, Medline\n",
    "\n",
    "# Set your email address (required for NCBI API usage)\n",
    "Entrez.email = 'your_email@example.com'\n",
    "\n",
    "# Define the drug name (e.g., \"Aspirin\")\n",
    "drug_name = 'amlodipine AND hasabstract AND (pharmacology OR pharmacokinetics OR therapeutic use)'\n",
    "\n",
    "handle = Entrez.esearch(db='pubmed', term=drug_name, retmax=5, sort=\"relevance\")\n",
    "paper_list = Entrez.read(handle)[\"IdList\"]\n",
    "handle.close()\n",
    "\n",
    "handle = Entrez.efetch(db='pubmed', rettype='medline', retmode=\"text\", id=paper_list)\n",
    "d = Medline.parse(handle)\n",
    "\n",
    "s = []\n",
    "for r in d:\n",
    "    s.append(r)"
   ]
  },
  {
   "cell_type": "code",
   "execution_count": 3,
   "id": "f99714a2-320f-4515-8276-ad0f125f8fbf",
   "metadata": {},
   "outputs": [],
   "source": [
    "from Bio import Entrez, Medline\n",
    "\n",
    "# Set your email address (required for NCBI API usage)\n",
    "Entrez.email = 'your_email@example.com'\n",
    "\n",
    "# Define the drug name (e.g., \"Aspirin\")\n",
    "drug_name = 'amlodipine AND hasabstract AND (pharmacology OR pharmacokinetics OR therapeutic use)'\n",
    "\n",
    "handle = Entrez.esearch(db='pubmed', term=drug_name, retmax=5, sort=\"relevance\")\n",
    "paper_list = Entrez.read(handle)[\"IdList\"]\n",
    "handle.close()"
   ]
  },
  {
   "cell_type": "code",
   "execution_count": 11,
   "id": "74f94694-7ba7-4568-8c08-451b99e5c1da",
   "metadata": {},
   "outputs": [
    {
     "data": {
      "text/plain": [
       "['1532771', '9156957', '34862599', '35476525', '19405551']"
      ]
     },
     "execution_count": 11,
     "metadata": {},
     "output_type": "execute_result"
    }
   ],
   "source": [
    "paper_list"
   ]
  },
  {
   "cell_type": "code",
   "execution_count": 24,
   "id": "b907ba2f-11e0-44a0-8f76-5e26aaa2ed45",
   "metadata": {},
   "outputs": [],
   "source": [
    "url = f\"https://pubmed.ncbi.nlm.nih.gov/{pmid}/\""
   ]
  },
  {
   "cell_type": "code",
   "execution_count": 26,
   "id": "6c1f198a-a7af-422b-ad00-b8f938280cde",
   "metadata": {},
   "outputs": [],
   "source": [
    "handle = Entrez.efetch(db='pubmed', rettype='medline', retmode=\"text\", id=paper_list)\n",
    "d = Medline.parse(handle)\n",
    "\n",
    "s = []\n",
    "for r in d:\n",
    "    s.append(r)"
   ]
  }
 ],
 "metadata": {
  "kernelspec": {
   "display_name": "Python 3 (ipykernel)",
   "language": "python",
   "name": "python3"
  },
  "language_info": {
   "codemirror_mode": {
    "name": "ipython",
    "version": 3
   },
   "file_extension": ".py",
   "mimetype": "text/x-python",
   "name": "python",
   "nbconvert_exporter": "python",
   "pygments_lexer": "ipython3",
   "version": "3.12.3"
  }
 },
 "nbformat": 4,
 "nbformat_minor": 5
}
