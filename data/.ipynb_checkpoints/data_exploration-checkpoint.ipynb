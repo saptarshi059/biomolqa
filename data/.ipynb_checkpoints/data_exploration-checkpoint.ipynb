{
 "cells": [
  {
   "cell_type": "markdown",
   "id": "43ce5a6e-96eb-4014-b523-6e43b41dd0ac",
   "metadata": {},
   "source": [
    "#### Import Libraries"
   ]
  },
  {
   "cell_type": "code",
   "execution_count": null,
   "id": "f50c219d-d163-431f-9759-4607bb3bf7c9",
   "metadata": {},
   "outputs": [],
   "source": [
    "import pubchempy as pcp\n",
    "from Bio import Entrez\n",
    "from tqdm import tqdm\n",
    "import pandas as pd\n",
    "import numpy as np\n",
    "import requests\n",
    "import re"
   ]
  },
  {
   "cell_type": "code",
   "execution_count": null,
   "id": "b0ebd858-1986-4849-ba0c-8f21b8efd4b8",
   "metadata": {},
   "outputs": [],
   "source": [
    "def CID_information(CID: int):\n",
    "    cleaned_cid = int(re.sub(r\"CID[m|s]*0*\", \"\", CID))\n",
    "    compound = pcp.Compound.from_cid(cleaned_cid)\n",
    "    try:\n",
    "        compound_name = compound.synonyms[0]\n",
    "    except:\n",
    "        compound_name = compound.iupac_name\n",
    "    return (compound_name, compound.canonical_smiles)"
   ]
  },
  {
   "cell_type": "code",
   "execution_count": null,
   "id": "b9996c2a-129a-4b63-b689-313fa5b36a1a",
   "metadata": {},
   "outputs": [],
   "source": [
    "# Extra code - might use later. This is to retrieve info from the gene db.\n",
    "\n",
    "def get_protein_info(record):\n",
    "    return f\"{record[0]['Entrezgene_gene']['Gene-ref']['Gene-ref_locus']} ({record[0]['Entrezgene_gene']['Gene-ref']['Gene-ref_desc']})\",\\\n",
    "    record[0][\"Entrezgene_summary\"],\\\n",
    "    record[0][\"Entrezgene_prot\"]\n",
    "\n",
    "cleaned_gene_id = int(re.sub(\"9606.ENSP0*\", \"\", gene))\n",
    "Entrez.email = \"sample_email@example.org\" #Doesn't really matter\n",
    "handle = Entrez.efetch(db=\"gene\", id=cleaned_gene_id, rettype=\"gb\", retmode=\"xml\")\n",
    "record = Entrez.read(handle)\n",
    "\n",
    "try:\n",
    "    all_information[\"gene name\"], all_information[\"gene summary\"], all_information[\"proteins from gene\"] = get_protein_info(record)\n",
    "except:\n",
    "    continue\n",
    "\n",
    "Entrez.email = \"sample_email@example.org\" #Doesn't really matter\n",
    "handle = Entrez.efetch(db=\"gene\", id=7448, rettype=\"gb\", retmode=\"xml\")\n",
    "record = Entrez.read(handle)\n",
    "\n",
    "all_information = {}\n",
    "all_information[\"gene name\"] = f\"{record[0]['Entrezgene_gene']['Gene-ref']['Gene-ref_locus']} ({record[0]['Entrezgene_gene']['Gene-ref']['Gene-ref_desc']})\"\n",
    "all_information[\"gene summary\"] = record[0][\"Entrezgene_summary\"]\n",
    "all_information[\"proteins from gene\"] = record[0][\"Entrezgene_prot\"]\n",
    "all_information"
   ]
  },
  {
   "cell_type": "markdown",
   "id": "fa38b2ff-e4f7-48b9-9d5b-89419d13f298",
   "metadata": {},
   "source": [
    "#### DDI sampling"
   ]
  },
  {
   "cell_type": "code",
   "execution_count": null,
   "id": "126409d1-63e7-4d08-8111-e1a44efe4d45",
   "metadata": {},
   "outputs": [],
   "source": [
    "ddi = pd.read_csv(\"bio-decagon-combo.csv\")"
   ]
  },
  {
   "cell_type": "code",
   "execution_count": null,
   "id": "e336fb2d-05bc-4e9f-854f-0a4361bde42b",
   "metadata": {},
   "outputs": [],
   "source": [
    "drug_1_name = []\n",
    "drug_1_SMILES = []\n",
    "relationships = []\n",
    "drug_2_name = []\n",
    "drug_2_SMILES = []\n",
    "\n",
    "for _ in tqdm(range(100)):\n",
    "    while True:\n",
    "        sampled_ddi = ddi.sample(n=1)\n",
    "        drug_1_CID = sampled_ddi[\"STITCH 1\"].to_list()[0]\n",
    "        drug_2_CID = sampled_ddi[\"STITCH 2\"].to_list()[0]\n",
    "        relationship = sampled_ddi[\"Side Effect Name\"].to_list()[0]\n",
    "        \n",
    "        drug_1_info = CID_information(drug_1_CID)\n",
    "        drug_2_info = CID_information(drug_2_CID)\n",
    "    \n",
    "        # I want the drug name to not include any numbers or brackets, i.e., only keep regular words.\n",
    "        try:\n",
    "            if not (re.search(r\"[^a-zA-Z\\d\\s:]\", drug_1_info[0]) or re.search(r\"[^a-zA-Z\\d\\s:]\", drug_2_info[0])):\n",
    "                break\n",
    "        except:\n",
    "            continue\n",
    "\n",
    "    drug_1_name.append(drug_1_info[0])\n",
    "    drug_1_SMILES.append(drug_1_info[1])\n",
    "    relationships.append(relationship)\n",
    "    drug_2_name.append(drug_2_info[0])\n",
    "    drug_2_SMILES.append(drug_2_info[1])\n",
    "    \"\"\"print(f\"Natural Language Triple: {drug_1_info[0]} -- {relationship} -- {drug_2_info[0]}\")\n",
    "    print(f\"{drug_1_info[0]} SMILES: {drug_1_info[1]}\")\n",
    "    print(f\"{drug_2_info[0]} SMILES: {drug_2_info[1]}\")\"\"\""
   ]
  },
  {
   "cell_type": "code",
   "execution_count": null,
   "id": "f6bf0652-3340-4eb1-8e0f-c70e150b9a16",
   "metadata": {},
   "outputs": [],
   "source": [
    "'''\n",
    "I might see certain elements like 'ALENDRONIC ACID' appearing more than once. However, they all have different relationships with\n",
    "drug 2.\n",
    "'''\n",
    "pd.DataFrame({\"drug_1_name\": drug_1_name,\n",
    "              \"drug_1_SMILES\": drug_1_SMILES,\n",
    "              \"relationship\": relationships,\n",
    "              \"drug_2_name\": drug_2_name,\n",
    "              \"drug_2_SMILES\": drug_2_SMILES}).to_csv(\"DDI_subset.csv\", index=False)"
   ]
  },
  {
   "cell_type": "code",
   "execution_count": 131,
   "id": "ed53abe9-3eeb-4ae2-a760-0c1e1b09791c",
   "metadata": {},
   "outputs": [],
   "source": [
    "from Bio import Entrez, Medline\n",
    "\n",
    "# Set your email address (required for NCBI API usage)\n",
    "Entrez.email = 'your_email@example.com'\n",
    "\n",
    "# Define the drug name (e.g., \"Aspirin\")\n",
    "drug_name = '\"alendronic acid\" AND hasabstract'\n",
    "\n",
    "handle = Entrez.esearch(db='pubmed', term=drug_name, retmax=5)\n",
    "paper_list = Entrez.read(handle)[\"IdList\"]\n",
    "handle.close()\n",
    "\n",
    "handle = Entrez.efetch(db='pubmed', rettype='medline', retmode=\"text\", id=paper_list)\n",
    "d = Medline.parse(handle)"
   ]
  },
  {
   "cell_type": "code",
   "execution_count": 132,
   "id": "04e8d80e-2ebe-4ff3-a691-9e6dccfe3114",
   "metadata": {},
   "outputs": [],
   "source": [
    "s = []\n",
    "for r in d:\n",
    "    s.append(r)"
   ]
  },
  {
   "cell_type": "code",
   "execution_count": 133,
   "id": "d12675b1-8eed-40fd-b68a-aed7e035a43c",
   "metadata": {},
   "outputs": [
    {
     "data": {
      "text/plain": [
       "{'PMID': '39856849',\n",
       " 'OWN': 'NLM',\n",
       " 'STAT': 'PubMed-not-MEDLINE',\n",
       " 'LR': '20250130',\n",
       " 'IS': '2304-8158 (Print) 2304-8158 (Electronic) 2304-8158 (Linking)',\n",
       " 'VI': '14',\n",
       " 'IP': '2',\n",
       " 'DP': '2025 Jan 9',\n",
       " 'TI': 'An Aptamer Sensor Based on Alendronic Acid-Modified Upconversion Nanoparticles Combined with Magnetic Separation for Rapid and Sensitive Detection of Thiamethoxam.',\n",
       " 'LID': '10.3390/foods14020182 [doi] 182',\n",
       " 'AB': 'The widespread use of thiamethoxam has led to pesticide residues that have sparked global concerns regarding ecological and human health risks. A pressing requirement exists for a detection method that is both swift and sensitive. Herein, we introduced an innovative fluorescence biosensor constructed from alendronic acid (ADA)-modified upconversion nanoparticles (UCNPs) linked with magnetic nanoparticles (MNPs) via aptamer recognition for the detection of thiamethoxam. Through base pairing, thiamethoxam-specific aptamer-functionalized MNPs (apt-MNPs) were integrated with complementary DNA-functionalized UCNPs (cDNA-UCNPs) to create the MNPs@UCNPs fluorescence biosensor. Thiamethoxam specifically attached to apt-MNPs, leading to their separation from cDNA-UCNPs, which in turn led to a reduction in fluorescence intensity at 544 nm following separation by an external magnetic field. The change in fluorescence intensity (DeltaI) was directly correlated with the concentration of thiamethoxam, enabling the quantitative analysis of the pesticide. With optimized detection parameters, the biosensor was capable of quantifying thiamethoxam within a concentration span of 0.4-102.4 ng.mL(-1), and it achieved a detection limit as minute as 0.08 ng.mL(-1). Moreover, leveraging the swift magnetic concentration properties of MNPs, the assay duration could be abbreviated to 25 min. The research exhibited a swift and precise sensing platform that yielded promising results in samples of cucumber, cabbage, and apple.',\n",
       " 'FAU': ['Huang, Qian',\n",
       "  'Han, Lu',\n",
       "  'Ma, Hui',\n",
       "  'Lan, Weijie',\n",
       "  'Tu, Kang',\n",
       "  'Peng, Jing',\n",
       "  'Su, Jing',\n",
       "  'Pan, Leiqing'],\n",
       " 'AU': ['Huang Q',\n",
       "  'Han L',\n",
       "  'Ma H',\n",
       "  'Lan W',\n",
       "  'Tu K',\n",
       "  'Peng J',\n",
       "  'Su J',\n",
       "  'Pan L'],\n",
       " 'AD': ['College of Food Science and Technology, Nanjing Agricultural University, Nanjing 210095, China.',\n",
       "  'College of Food Science and Technology, Nanjing Agricultural University, Nanjing 210095, China.',\n",
       "  'College of Food Science and Technology, Nanjing Agricultural University, Nanjing 210095, China.',\n",
       "  'College of Food Science and Technology, Nanjing Agricultural University, Nanjing 210095, China.',\n",
       "  'College of Food Science and Technology, Nanjing Agricultural University, Nanjing 210095, China.',\n",
       "  'College of Food Science and Technology, Nanjing Agricultural University, Nanjing 210095, China.',\n",
       "  \"Huai'an Food and Drug Inspection Institute, Huai'an 223003, China.\",\n",
       "  'College of Food Science and Technology, Nanjing Agricultural University, Nanjing 210095, China.'],\n",
       " 'AUID': ['ORCID: 0000-0001-7997-3080',\n",
       "  'ORCID: 0000-0003-4314-2896',\n",
       "  'ORCID: 0000-0002-0300-6147',\n",
       "  'ORCID: 0000-0001-5587-3544'],\n",
       " 'LA': ['eng'],\n",
       " 'GR': ['KJ2023066/Science and Technology Project of Jiangsu Provincial Market Supervision',\n",
       "  'Administration/',\n",
       "  \"HAB202243/Natural Science Research Plan of Huai'an/\",\n",
       "  '2022YFF1100801/the National Key Research and Development Program of China/'],\n",
       " 'PT': ['Journal Article'],\n",
       " 'DEP': '20250109',\n",
       " 'PL': 'Switzerland',\n",
       " 'TA': 'Foods',\n",
       " 'JT': 'Foods (Basel, Switzerland)',\n",
       " 'JID': '101670569',\n",
       " 'PMC': 'PMC11765007',\n",
       " 'OTO': ['NOTNLM'],\n",
       " 'OT': ['aptamer',\n",
       "  'biosensor',\n",
       "  'magnetic nanoparticles',\n",
       "  'thiamethoxam',\n",
       "  'upconversion nanoparticles'],\n",
       " 'COIS': ['The authors declare no conflicts of interest.'],\n",
       " 'EDAT': '2025/01/25 13:54',\n",
       " 'MHDA': '2025/01/25 13:55',\n",
       " 'PMCR': ['2025/01/09'],\n",
       " 'CRDT': ['2025/01/25 01:02'],\n",
       " 'PHST': ['2024/12/10 00:00 [received]',\n",
       "  '2025/01/05 00:00 [revised]',\n",
       "  '2025/01/06 00:00 [accepted]',\n",
       "  '2025/01/25 13:55 [medline]',\n",
       "  '2025/01/25 13:54 [pubmed]',\n",
       "  '2025/01/25 01:02 [entrez]',\n",
       "  '2025/01/09 00:00 [pmc-release]'],\n",
       " 'AID': ['foods14020182 [pii]',\n",
       "  'foods-14-00182 [pii]',\n",
       "  '10.3390/foods14020182 [doi]'],\n",
       " 'PST': 'epublish',\n",
       " 'SO': 'Foods. 2025 Jan 9;14(2):182. doi: 10.3390/foods14020182.'}"
      ]
     },
     "execution_count": 133,
     "metadata": {},
     "output_type": "execute_result"
    }
   ],
   "source": [
    "s[0]"
   ]
  },
  {
   "cell_type": "code",
   "execution_count": 100,
   "id": "adfc82d4-68a8-42b4-a028-bcdd46f452f6",
   "metadata": {},
   "outputs": [
    {
     "data": {
      "text/plain": [
       "StringElement('Pulmonary fibrosis (PF) results in a progressive decline of lung function due to scarring. Drugs are among the most common causes of PF. The objective of our study was to reveal the structure of drugs involved in PF development.', attributes={'Label': 'BACKGROUND/OBJECTIVES', 'NlmCategory': 'OBJECTIVE'})"
      ]
     },
     "execution_count": 100,
     "metadata": {},
     "output_type": "execute_result"
    }
   ],
   "source": [
    "d[\"PubmedArticle\"][1][\"MedlineCitation\"][\"Article\"][\"Abstract\"][\"AbstractText\"][0]"
   ]
  },
  {
   "cell_type": "code",
   "execution_count": 91,
   "id": "67f6fc93-e859-4835-a704-034a0d13b057",
   "metadata": {},
   "outputs": [
    {
     "name": "stdout",
     "output_type": "stream",
     "text": [
      "Glucocorticoid-induced osteoporosis (GIOP) is the leading cause of iatrogenic osteoporosis due to the widespread clinical use of glucocorticoids (GC) as immunosuppressants. Previous research identified the proline-rich tyrosine kinase 2, Pyk2, as a critical mediator of GC-induced bone loss, and that blocking Pyk2 could protect the skeleton from adverse GC actions. However, systemic administration of current Pyk2 inhibitors causes harmful side effects, such as skin lesions. To address this, we developed bone-targeted (BT) Pyk2 inhibitors by conjugating them with bisphosphonates (BP), ensuring adherence to the bone matrix and reducing impact on noncalcified tissues. We synthesized BT-Amide by linking a derivative of TAE-226, a Pyk2 inhibitor, with alendronic acid. Oral administration (gavage) of BT-Amide prevented GC-induced bone loss in mice without causing skin lesions, or elevation of any organ toxicity markers. These findings introduce BT-Amide as the first orally effective bone-targeted Pyk2 inhibitor for preventing GC-induced bone loss while minimizing off-target effects.\n"
     ]
    }
   ],
   "source": [
    "from bs4 import BeautifulSoup\n",
    "\n",
    "abstract_text = d[\"PubmedArticle\"][3][\"MedlineCitation\"][\"Article\"][\"Abstract\"][\"AbstractText\"][0]\n",
    "soup = BeautifulSoup(abstract_text, 'html.parser')\n",
    "cleaned_text = soup.get_text()\n",
    "print(cleaned_text)"
   ]
  },
  {
   "cell_type": "markdown",
   "id": "c82166c9-c5da-44fa-bdb2-e3395b44da5d",
   "metadata": {},
   "source": [
    "#### DPI sampling"
   ]
  },
  {
   "cell_type": "code",
   "execution_count": null,
   "id": "ebf46b2d-a7b7-4796-83e3-aaab67a8e29e",
   "metadata": {},
   "outputs": [],
   "source": [
    "# I'm reading the STITCH database file directly since it already has the relationship label\n",
    "dpi = pd.read_csv(\"9606.actions.v5.0.tsv\", sep=\"\\t\", chunksize=10_000).get_chunk()"
   ]
  },
  {
   "cell_type": "code",
   "execution_count": null,
   "id": "f556177b-50d1-49eb-8c1c-c772816af2b7",
   "metadata": {},
   "outputs": [],
   "source": [
    "'''\n",
    "DPI is a directed graph. As there is a column in the dataframe that explains if A acts on B or not, I am leveraging that.\n",
    "1. I want strong DPI's, i.e., (interaction ) score > 800. - I think I need to remove this, otherwise not getting hits.\n",
    "2. I want item_a to act on item_b, i.e., a_is_acting = t.\n",
    "3. I want item_a to be a drug, i.e., item_id_a needs to have a CID.\n",
    "'''\n",
    "\n",
    "while True:\n",
    "    sampled_dpi = dpi[(dpi[\"a_is_acting\"] == \"t\") & (dpi[\"item_id_a\"].str.contains('CID'))].sample(n=1)\n",
    "    all_information = {}\n",
    "    \n",
    "    drug = sampled_dpi[\"item_id_a\"].to_list()[0]\n",
    "    protein = sampled_dpi[\"item_id_b\"].to_list()[0]\n",
    "    relationship = sampled_dpi[\"mode\"].to_list()[0]\n",
    "    \n",
    "    # Getting drug information\n",
    "    drug_info = CID_information(drug)\n",
    "\n",
    "    if re.search(r\"[^a-zA-Z\\d\\s:]\", drug_info[0]):\n",
    "        continue\n",
    "    \n",
    "    all_information[\"Drug name\"] = drug_info[0]\n",
    "    all_information[\"Drug SMILES\"] = drug_info[1]\n",
    "\n",
    "    all_information[\"relationship\"] = relationship\n",
    "    \n",
    "    # Getting protein information directly from STITCH DB since it is in a STITCH protein format.\n",
    "    url = f\"https://string-db.org/api/json/resolve?identifier={protein}&species=9606\"\n",
    "    response = requests.get(url).json()\n",
    "\n",
    "    try:\n",
    "        if len(response[0][\"annotation\"]) >= 400:\n",
    "            all_information[\"protein name\"] = response[0][\"preferredName\"]\n",
    "            all_information[\"protein info\"] = response[0][\"annotation\"]\n",
    "            break\n",
    "    except:\n",
    "        continue\n",
    "\n",
    "all_information"
   ]
  },
  {
   "cell_type": "markdown",
   "id": "a867a1cf-1a96-40fd-abc6-5cbdea5a4ca2",
   "metadata": {},
   "source": [
    "#### PPI sampling"
   ]
  },
  {
   "cell_type": "code",
   "execution_count": null,
   "id": "52ce8f1e-6073-4025-a858-7ecc57b20862",
   "metadata": {},
   "outputs": [],
   "source": [
    "ppi = pd.read_csv(\"bio-decagon-ppi.csv\")"
   ]
  },
  {
   "cell_type": "code",
   "execution_count": null,
   "id": "76bf922b-e522-4950-a489-8c0c7ffb1a37",
   "metadata": {},
   "outputs": [],
   "source": [
    "#I want strong interacting proteins. I'm passing the gene ID directly since STRING maps these ID's automatically to the gene's main protein. \n",
    "\n",
    "'''\n",
    "nscore - neighborhood score, (computed from the inter-gene nucleotide count).\n",
    "fscore - fusion score (derived from fused proteins in other species).\n",
    "pscore - cooccurence score of the phyletic profile (derived from similar absence/presence patterns of genes).\n",
    "hscore - homology score, the degree of homology of the interactors (normally not reported in STRING).\n",
    "ascore - coexpression score (derived from similar pattern of mRNA expression measured by DNA arrays and similar technologies).\n",
    "escore - experimental score (derived from experimental data, such as, affinity chromatography).\n",
    "dscore - database score (derived from curated data of various databases).\n",
    "tscore - textmining score (derived from the co-occurrence of gene/protein names in abstracts).\n",
    "'''\n",
    "\n",
    "while True:\n",
    "    sampled_ppi = ppi.sample(n=1)\n",
    "    all_information = {}\n",
    "    \n",
    "    gene_ids = [str(sampled_ppi[\"Gene 1\"].to_list()[0]), str(sampled_ppi[\"Gene 2\"].to_list()[0])]\n",
    "    species = 9606  # Human\n",
    "    \n",
    "    url = f\"https://string-db.org/api/json/network?identifiers={'%0d'.join(gene_ids)}&species={species}\"\n",
    "    response = requests.get(url).json()\n",
    "    if response != [] and response[0][\"score\"] > 0.8:\n",
    "        print(response)\n",
    "        break"
   ]
  }
 ],
 "metadata": {
  "kernelspec": {
   "display_name": "Python 3 (ipykernel)",
   "language": "python",
   "name": "python3"
  },
  "language_info": {
   "codemirror_mode": {
    "name": "ipython",
    "version": 3
   },
   "file_extension": ".py",
   "mimetype": "text/x-python",
   "name": "python",
   "nbconvert_exporter": "python",
   "pygments_lexer": "ipython3",
   "version": "3.12.3"
  }
 },
 "nbformat": 4,
 "nbformat_minor": 5
}
