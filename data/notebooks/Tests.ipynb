{
 "cells": [
  {
   "cell_type": "code",
   "execution_count": 1,
   "id": "9d7fec83-62af-491b-886f-d2d6e33fd9af",
   "metadata": {},
   "outputs": [],
   "source": [
    "import pandas as pd"
   ]
  },
  {
   "cell_type": "code",
   "execution_count": 2,
   "id": "be5b649b-920d-4683-a8be-160bfa30228b",
   "metadata": {},
   "outputs": [],
   "source": [
    "ddi_subset = pd.read_csv(\"../mined_data/DDI_subset.csv\")\n",
    "dpi_subset = pd.read_csv(\"../mined_data/DPI_subset.csv\")"
   ]
  },
  {
   "cell_type": "code",
   "execution_count": 5,
   "id": "b565b534-2d09-4476-ac42-df16404ebdfa",
   "metadata": {},
   "outputs": [
    {
     "data": {
      "text/plain": [
       "(500, 256)"
      ]
     },
     "execution_count": 5,
     "metadata": {},
     "output_type": "execute_result"
    }
   ],
   "source": [
    "len(ddi_subset), len(dpi_subset)"
   ]
  },
  {
   "cell_type": "code",
   "execution_count": 22,
   "id": "6ec0315b-31c4-41d0-b920-b82242606444",
   "metadata": {},
   "outputs": [
    {
     "data": {
      "text/plain": [
       "[('Salbutamol', 79),\n",
       " ('phenytoin', 57),\n",
       " ('fenofibrate', 52),\n",
       " ('lorazepam', 51),\n",
       " ('carisoprodol', 45),\n",
       " ('felodipine', 39),\n",
       " ('dipyridamole', 28),\n",
       " ('glimepiride', 28),\n",
       " ('leflunomide', 26),\n",
       " ('chlorthalidone', 17),\n",
       " ('meperidine', 15),\n",
       " ('Etiracetam', 13),\n",
       " ('tizanidine', 11),\n",
       " ('isoflurane', 7),\n",
       " ('minoxidil', 7),\n",
       " ('naratriptan', 7),\n",
       " ('zafirlukast', 6),\n",
       " ('Deprenyl', 5),\n",
       " ('caffeine', 2),\n",
       " ('Voriconazole', 2)]"
      ]
     },
     "execution_count": 22,
     "metadata": {},
     "output_type": "execute_result"
    }
   ],
   "source": [
    "list(filter(lambda x: x[1] > 1, ddi_subset[\"drug_1_name\"].value_counts().to_dict().items()))"
   ]
  },
  {
   "cell_type": "code",
   "execution_count": 28,
   "id": "d8c47021-1af8-463e-b5c7-608bc2e0b7ed",
   "metadata": {},
   "outputs": [],
   "source": [
    "from itertools import combinations"
   ]
  },
  {
   "cell_type": "code",
   "execution_count": 62,
   "id": "7a7a4cb8-dbb3-489a-9e97-c66a2fb88b50",
   "metadata": {},
   "outputs": [],
   "source": [
    "s = list(ddi_subset.query(\"drug_1_name == 'Salbutamol'\").itertuples(index=False))\n",
    "d = list(combinations(s, 2))"
   ]
  },
  {
   "cell_type": "code",
   "execution_count": 64,
   "id": "9478287f-fcfe-48a1-84c8-d4ea63d98a50",
   "metadata": {},
   "outputs": [
    {
     "data": {
      "text/html": [
       "<div>\n",
       "<style scoped>\n",
       "    .dataframe tbody tr th:only-of-type {\n",
       "        vertical-align: middle;\n",
       "    }\n",
       "\n",
       "    .dataframe tbody tr th {\n",
       "        vertical-align: top;\n",
       "    }\n",
       "\n",
       "    .dataframe thead th {\n",
       "        text-align: right;\n",
       "    }\n",
       "</style>\n",
       "<table border=\"1\" class=\"dataframe\">\n",
       "  <thead>\n",
       "    <tr style=\"text-align: right;\">\n",
       "      <th></th>\n",
       "      <th>drug_1_CID</th>\n",
       "      <th>drug_1_name</th>\n",
       "      <th>drug_1_SMILES</th>\n",
       "      <th>relationship</th>\n",
       "      <th>drug_2_CID</th>\n",
       "      <th>drug_2_name</th>\n",
       "      <th>drug_2_SMILES</th>\n",
       "    </tr>\n",
       "  </thead>\n",
       "  <tbody>\n",
       "    <tr>\n",
       "      <th>0</th>\n",
       "      <td>CID000002083</td>\n",
       "      <td>Salbutamol</td>\n",
       "      <td>CC(C)(C)NCC(C1=CC(=C(C=C1)O)CO)O</td>\n",
       "      <td>abnormal ECG</td>\n",
       "      <td>CID000071616</td>\n",
       "      <td>Voriconazole</td>\n",
       "      <td>CC(C1=NC=NC=C1F)C(CN2C=NC=N2)(C3=C(C=C(C=C3)F)F)O</td>\n",
       "    </tr>\n",
       "    <tr>\n",
       "      <th>1</th>\n",
       "      <td>CID000002083</td>\n",
       "      <td>Salbutamol</td>\n",
       "      <td>CC(C)(C)NCC(C1=CC(=C(C=C1)O)CO)O</td>\n",
       "      <td>loss of weight</td>\n",
       "      <td>CID006918453</td>\n",
       "      <td>AURANOFIN</td>\n",
       "      <td>CCP(CC)CC.CC(=O)OCC1C(C(C(C(O1)[S-])OC(=O)C)OC...</td>\n",
       "    </tr>\n",
       "  </tbody>\n",
       "</table>\n",
       "</div>"
      ],
      "text/plain": [
       "     drug_1_CID drug_1_name                     drug_1_SMILES    relationship  \\\n",
       "0  CID000002083  Salbutamol  CC(C)(C)NCC(C1=CC(=C(C=C1)O)CO)O    abnormal ECG   \n",
       "1  CID000002083  Salbutamol  CC(C)(C)NCC(C1=CC(=C(C=C1)O)CO)O  loss of weight   \n",
       "\n",
       "     drug_2_CID   drug_2_name  \\\n",
       "0  CID000071616  Voriconazole   \n",
       "1  CID006918453     AURANOFIN   \n",
       "\n",
       "                                       drug_2_SMILES  \n",
       "0  CC(C1=NC=NC=C1F)C(CN2C=NC=N2)(C3=C(C=C(C=C3)F)F)O  \n",
       "1  CCP(CC)CC.CC(=O)OCC1C(C(C(C(O1)[S-])OC(=O)C)OC...  "
      ]
     },
     "execution_count": 64,
     "metadata": {},
     "output_type": "execute_result"
    }
   ],
   "source": [
    "pd.DataFrame(d[0])"
   ]
  },
  {
   "cell_type": "code",
   "execution_count": 3,
   "id": "d04510cd-209f-47f1-bdab-8f77d01f1320",
   "metadata": {},
   "outputs": [],
   "source": [
    "from pathlib import Path\n",
    "drug_data_path = Path(\"../background_information_data/drug_data\")\n",
    "protein_data_path = Path(\"../background_information_data/protein_data\")"
   ]
  },
  {
   "cell_type": "code",
   "execution_count": 6,
   "id": "e40edc5c-095e-4d3d-81ee-7a82cf0f46b2",
   "metadata": {},
   "outputs": [],
   "source": [
    "prompts = []\n",
    "for row in ddi_subset.itertuples():\n",
    "    with Path(drug_data_path / f\"{row.drug_1_name}.txt\").open(\"r\") as drug_data_file:\n",
    "        drug_1_data = max(drug_data_file.readlines(), key=len)\n",
    "\n",
    "    with Path(drug_data_path / f\"{row.drug_2_name}.txt\").open(\"r\") as drug_data_file:\n",
    "        drug_2_data = max(drug_data_file.readlines(), key=len)\n",
    "\n",
    "    triple = f\"{row.drug_1_name} - {row.relationship} - {row.drug_2_name}\"\n",
    "    \n",
    "    \"\"\"if row.mode != row.action:\n",
    "        triple = f\"{row.drug_name} - {row.mode} and {row.action} - {row.protein_name}\"\n",
    "    else:\n",
    "        triple = f\"{row.drug_name} - {row.mode} - {row.protein_name}\"\n",
    "    \"\"\"\n",
    "    prompt = f\"\"\"You are given a drug-drug interaction and background information on each drug. \n",
    "I would like you to write 5 multiple-choice question-answer pairs utilizing this information. Each question must combine information about the drugs and their relationship.\n",
    "\n",
    "Please structure your output as follows,\n",
    "Question: <question text>\n",
    "Choices: <answer choices labelled as (a), (b), (c), (d)>\n",
    "Correct choice: <among (a), (b), (c) or (d)>\n",
    "\n",
    "Drug 1 name: {row.drug_1_name} \n",
    "Drug 1 information: {drug_1_data.strip()}\n",
    "\n",
    "Drug 2 name: {row.drug_2_name}\n",
    "Drug 2 information: {drug_2_data.strip()}\n",
    "\n",
    "Drug-Drug interaction triple: {triple}\n",
    "\"\"\"\n",
    "    prompts.append(prompt)"
   ]
  },
  {
   "cell_type": "code",
   "execution_count": 9,
   "id": "4ff537f4-2789-4ae1-9ec9-b63aea2674f1",
   "metadata": {},
   "outputs": [],
   "source": [
    "import tiktoken\n",
    "enc = tiktoken.encoding_for_model(\"gpt-4o\")"
   ]
  },
  {
   "cell_type": "code",
   "execution_count": 26,
   "id": "0bde9d93-3a37-4b39-a07d-7c36b6bb59fd",
   "metadata": {},
   "outputs": [
    {
     "data": {
      "text/plain": [
       "25.48134"
      ]
     },
     "execution_count": 26,
     "metadata": {},
     "output_type": "execute_result"
    }
   ],
   "source": [
    "cost = []\n",
    "for prompt in prompts:\n",
    "    input_tokens = len(enc.encode(prompt))\n",
    "    input_cost = (input_tokens * 15) / 1_000_000\n",
    "    output_cost = (60 * 1000) / 1_000_000\n",
    "    cost.append(input_cost + output_cost)\n",
    "sum(cost)"
   ]
  },
  {
   "cell_type": "code",
   "execution_count": 17,
   "id": "3f00cc82-b818-4717-9282-acc7ae25fe58",
   "metadata": {},
   "outputs": [
    {
     "data": {
      "text/plain": [
       "535"
      ]
     },
     "execution_count": 17,
     "metadata": {},
     "output_type": "execute_result"
    }
   ],
   "source": [
    "len(enc.encode(\"\"\"Question: What is the primary mechanism through which mirtazapine interacts with the HRH1 protein?\n",
    "Choices:\n",
    "(a) Activation of HRH1\n",
    "(b) Inhibition of HRH1\n",
    "(c) Enhancement of HRH1 expression\n",
    "(d) No interaction with HRH1\n",
    "Correct choice: (b) Inhibition of HRH1\n",
    "\n",
    "Question: How might the inhibition of HRH1 by mirtazapine contribute to its antidepressant effects?\n",
    "Choices:\n",
    "(a) By reducing histamine-mediated neurotransmission, which can have sedative and anxiolytic effects\n",
    "(b) By increasing serotonin reuptake, leading to greater synaptic serotonin availability\n",
    "(c) By directly stimulating dopamine receptors in the prefrontal cortex\n",
    "(d) By enhancing norepinephrine release through direct activation of adrenergic receptors\n",
    "Correct choice: (a) By reducing histamine-mediated neurotransmission, which can have sedative and anxiolytic effects\n",
    "\n",
    "Question: Given HRH1's role in histamine signaling, how might mirtazapine's inhibition of HRH1 affect side effects associated with its use?\n",
    "Choices:\n",
    "(a) Increased risk of insomnia due to reduced histamine signaling\n",
    "(b) Increased sedation and drowsiness due to reduced histamine signaling\n",
    "(c) Increased alertness and wakefulness due to enhanced histamine signaling\n",
    "(d) Decreased appetite due to inhibition of histamine receptors\n",
    "Correct choice: (b) Increased sedation and drowsiness due to reduced histamine signaling\n",
    "\n",
    "Question: Considering HRH1's involvement in immune response and biofilm formation, what potential unintended effect might mirtazapine have in bacterial infections?\n",
    "Choices:\n",
    "(a) Mirtazapine may enhance bacterial biofilm formation by stimulating HRH1\n",
    "(b) Mirtazapine may reduce bacterial biofilm formation due to HRH1 inhibition\n",
    "(c) Mirtazapine has no known effect on bacterial infections\n",
    "(d) Mirtazapine may increase bacterial resistance through HRH1 activation\n",
    "Correct choice: (b) Mirtazapine may reduce bacterial biofilm formation due to HRH1 inhibition\n",
    "\n",
    "Question: Based on the known role of HRH1 in both bacterial biofilm formation and histamine signaling, what dual benefit could mirtazapine provide in specific clinical contexts?\n",
    "Choices:\n",
    "(a) Treatment of depression while potentially reducing biofilm-associated infections\n",
    "(b) Enhanced immune response against infections and improved cognitive function\n",
    "(c) Increased neurotransmitter activity and direct bactericidal effects\n",
    "(d) Reduced risk of allergies while increasing bacterial resistance\n",
    "Correct choice: (a) Treatment of depression while potentially reducing biofilm-associated infections\n",
    "\"\"\"))"
   ]
  },
  {
   "cell_type": "code",
   "execution_count": null,
   "id": "ccbe5409-0390-4755-a724-3a3387e27fb3",
   "metadata": {},
   "outputs": [],
   "source": [
    "import transformers\n",
    "import torch\n",
    "from transformers import AutoModelForCausalLM, AutoTokenizer\n",
    "\n",
    "model_id = \"meta-llama/Llama-3.3-70B-Instruct\"\n",
    "\n",
    "tokenizer = AutoTokenizer.from_pretrained(model_id)\n",
    "model = AutoModelForCausalLM.from_pretrained(\n",
    "    model_id,\n",
    "    torch_dtype=torch.bfloat16,\n",
    "    attn_implementation=\"flash_attention_2\",\n",
    "    device_map=\"auto\",\n",
    "    pad_token_id=tokenizer.eos_token_id\n",
    ")\n",
    "\n",
    "def generate_response(messages):\n",
    "    input_text = \"\"\n",
    "    for message in messages:\n",
    "        input_text += f\"{message['role']}: {message['content']}\\n\"\n",
    "    \n",
    "    inputs = tokenizer(input_text, return_tensors=\"pt\").to(\"cuda\")\n",
    "    outputs = model.generate(**inputs, max_new_tokens=250, pad_token_id=tokenizer.eos_token_id)\n",
    "    response = tokenizer.decode(outputs[0], skip_special_tokens=True)\n",
    "    return response.strip(input_text)\n",
    "\n",
    "messages = [\n",
    "    {\"role\": \"system\", \"content\": \"You are a question answering AI assistant. I would like you to solve the following multiple-choice question. To assist you, I am providing you with the necessary background information. First, provide an explanation for your answer and then the answer as say, 'answer: a'. If there is no, please say 'answer not found'.\"},\n",
    "    {\"role\": \"user\", \"content\": \"\"\"Drug name: mirtazapine \n",
    "Drug information: BACKGROUND: Major depressive disorders have a significant impact on children and adolescents, including on educational and vocational outcomes, interpersonal relationships, and physical and mental health and well-being. There is an association between major depressive disorder and suicidal ideation, suicide attempts, and suicide. Antidepressant medication is used in moderate to severe depression; there is now a range of newer generations of these medications. OBJECTIVES: To investigate, via network meta-analysis (NMA), the comparative effectiveness and safety of different newer generation antidepressants in children and adolescents with a diagnosed major depressive disorder (MDD) in terms of depression, functioning, suicide-related outcomes and other adverse outcomes. The impact of age, treatment duration, baseline severity, and pharmaceutical industry funding was investigated on clinician-rated depression (CDRS-R) and suicide-related outcomes. SEARCH METHODS: We searched the Cochrane Common Mental Disorders Specialised Register, the Cochrane Library (Central Register of Controlled Trials (CENTRAL) and Cochrane Database of Systematic Reviews (CDSR)), together with Ovid Embase, MEDLINE and PsycINFO till March 2020. SELECTION CRITERIA: Randomised trials of six to 18 year olds of either sex and any ethnicity with clinically diagnosed major depressive disorder were included. Trials that compared the effectiveness of newer generation antidepressants with each other or with a placebo were included. Newer generation antidepressants included: selective serotonin reuptake inhibitors; selective norepinephrine reuptake inhibitors (SNRIs); norepinephrine reuptake inhibitors; norepinephrine dopamine reuptake inhibitors; norepinephrine dopamine disinhibitors (NDDIs); and tetracyclic antidepressants (TeCAs). DATA COLLECTION AND ANALYSIS: Two reviewers independently screened titles/abstracts and full texts, extracted data, and assessed risk of bias. We analysed dichotomous data as Odds Ratios (ORs), and continuous data as Mean Difference (MD) for the following outcomes: depression symptom severity (clinician rated), response or remission of depression symptoms, depression symptom severity (self-rated), functioning, suicide related outcomes and overall adverse outcomes. Random-effects network meta-analyses were conducted in a frequentist framework using multivariate meta-analysis. Certainty of evidence was assessed using Confidence in Network Meta-analysis (CINeMA). We used \"informative statements\" to standardise the interpretation and description of the results. MAIN RESULTS: Twenty-six studies were included. There were no data for the two primary outcomes (depressive disorder established via clinical diagnostic interview and suicide), therefore, the results comprise only secondary outcomes. Most antidepressants may be associated with a \"small and unimportant\" reduction in depression symptoms on the CDRS-R scale (range 17 to 113) compared with placebo (high certainty evidence: paroxetine: MD -1.43, 95% CI -3.90, 1.04; vilazodone: MD -0.84, 95% CI -3.03, 1.35; desvenlafaxine MD -0.07, 95% CI -3.51, 3.36; moderate certainty evidence: sertraline: MD -3.51, 95% CI -6.99, -0.04; fluoxetine: MD -2.84, 95% CI -4.12, -1.56; escitalopram: MD -2.62, 95% CI -5.29, 0.04; low certainty evidence: duloxetine: MD -2.70, 95% CI -5.03, -0.37; vortioxetine: MD 0.60, 95% CI -2.52, 3.72; very low certainty evidence for comparisons between other antidepressants and placebo). There were \"small and unimportant\" differences between most antidepressants in reduction of depression symptoms (high- or moderate-certainty evidence). Results were similar across other outcomes of benefit. In most studies risk of self-harm or suicide was an exclusion criterion for the study. Proportions of suicide-related outcomes were low for most included studies and 95% confidence intervals were wide for all comparisons. The evidence is very uncertain about the effects of mirtazapine (OR 0.50, 95% CI 0.03, 8.04), duloxetine (OR 1.15, 95% CI 0.72, 1.82), vilazodone (OR 1.01, 95% CI 0.68, 1.48), desvenlafaxine (OR 0.94, 95% CI 0.59, 1.52), citalopram (OR 1.72, 95% CI 0.76, 3.87) or vortioxetine (OR 1.58, 95% CI 0.29, 8.60) on suicide-related outcomes compared with placebo. There is low certainty evidence that escitalopram may \"at least slightly\" reduce odds of suicide-related outcomes compared with placebo (OR 0.89, 95% CI 0.43, 1.84). There is low certainty evidence that fluoxetine (OR 1.27, 95% CI 0.87, 1.86), paroxetine (OR 1.81, 95% CI 0.85, 3.86), sertraline (OR 3.03, 95% CI 0.60, 15.22), and venlafaxine (OR 13.84, 95% CI 1.79, 106.90) may \"at least slightly\" increase odds of suicide-related outcomes compared with placebo. There is moderate certainty evidence that venlafaxine probably results in an \"at least slightly\" increased odds of suicide-related outcomes compared with desvenlafaxine (OR 0.07, 95% CI 0.01, 0.56) and escitalopram (OR 0.06, 95% CI 0.01, 0.56). There was very low certainty evidence regarding other comparisons between antidepressants. AUTHORS' CONCLUSIONS: Overall, methodological shortcomings of the randomised trials make it difficult to interpret the findings with regard to the efficacy and safety of newer antidepressant medications. Findings suggest that most newer antidepressants may reduce depression symptoms in a small and unimportant way compared with placebo. Furthermore, there are likely to be small and unimportant differences in the reduction of depression symptoms between the majority of antidepressants. However, our findings reflect the average effects of the antidepressants, and given depression is a heterogeneous condition, some individuals may experience a greater response. Guideline developers and others making recommendations might therefore consider whether a recommendation for the use of newer generation antidepressants is warranted for some individuals in some circumstances. Our findings suggest sertraline, escitalopram, duloxetine, as well as fluoxetine (which is currently the only treatment recommended for first-line prescribing) could be considered as a first option. Children and adolescents considered at risk of suicide were frequently excluded from trials, so that we cannot be confident about the effects of these medications for these individuals. If an antidepressant is being considered for an individual, this should be done in consultation with the child/adolescent and their family/caregivers and it remains critical to ensure close monitoring of treatment effects and suicide-related outcomes (combined suicidal ideation and suicide attempt) in those treated with newer generation antidepressants, given findings that some of these medications may be associated with greater odds of these events. Consideration of psychotherapy, particularly cognitive behavioural therapy, as per guideline recommendations, remains important.\n",
    "\n",
    "Protein name: HRH1\n",
    "Protein information: Staphylococcus aureus poses a significant threat to human health due to its virulence and multidrug resistance. In addition, recalcitrant biofilm formation of S. aureus often results in chronic infection and the treatment tolerance toward the traditional antibiotics. Thus, the development of novel antimicrobial agents capable to inhibit or eradicate S. aureus biofilm formation does matter. Here, we demonstrated that clemastine showed slight bacteriostatic activity and enhanced the antibacterial activity of oxacillin against S. aureus. Moreover, the dramatic inhibition of biofilm formation was found in clinical S. aureus strains by clemastine. Clemastine inhibited the release of eDNA during the biofilm formation and decreased the S. aureus hemolytic activity. Moreover, the S. aureus SA113 treated with clemastine displayed the decreased transcriptional level of the biofilm formation relevant genes (fnbB, icaA, and icaB), virulence genes (hlg, hld, lukde, lukpvl, beta-PSM, delta-PSM, and cap5A), and the regulatory genes agrA. The proteomics analysis of SA113 treated with clemastine demonstrated the significant changes in levels of biofilm-related proteins (stress response regulators ClpB and GroS, ATP-binding proteins, and urease metabolism), virulence-related proteins (SspA, superantigen, and VWbp), and methicillin resistance-related proteins (glutamine metabolism). The genetic mutations on gdpP (cyclic di-AMP phosphodiesterase) were found in the clemastine-induced tolerant derivative isolate by whole-genome sequencing. Furthermore, the interaction between clemastine and GdpP protein was demonstrated by the molecular docking, gdpP overexpression experiment, and thermal stability assay. Conclusively, clemastine might exert its inhibitory effects against the biofilm formation and hemolysis in S. aureus through targeting GdpP protein. IMPORTANCE The biofilm formation, which protects bacteria from stresses, including antibiotics and host immune responses, can be commonly found in clinical S. aureus isolates worldwide. Treatment failure of traditional antibiotics in biofilm-associated S. aureus infections remains a serious challenge. The novel anti-biofilm drug is urgently needed to address the looming crisis. In this study, clemastine, which is a histamine receptor H1 (HRH1) antagonist, was found to have a novel role of the significant inhibition against the biofilm formation and hemolytic activity of S. aureus and enhanced antibacterial activity against S. aureus when used in combination with oxacillin by targeting the GdpP protein. The discovery of this study identified novel use and mechanism of action of clemastine as a potential anti-biofilm drug for clinical application for S. aureus infectious.\n",
    "\n",
    "Drug-Protein interaction triple: mirtazapine - inhibition - HRH1\n",
    "\n",
    "Question: Mirtazapine is known to interact with the histamine H1 receptor (HRH1) as part of its pharmacological profile. Given its role in modulating neurotransmission, which of the following best describes the nature of this interaction?\n",
    "\n",
    "Choices:\n",
    "(a) Competitive binding with HRH1, leading to receptor activation \n",
    "(b) Negative modulation of HRH1, reducing its downstream signaling effects \n",
    "(c) Allosteric enhancement of HRH1 function\n",
    "(d) No direct influence on HRH1 activity\"\"\"},\n",
    "]\n",
    "\n",
    "r = generate_response(messages)"
   ]
  }
 ],
 "metadata": {
  "kernelspec": {
   "display_name": "Python 3 (ipykernel)",
   "language": "python",
   "name": "python3"
  },
  "language_info": {
   "codemirror_mode": {
    "name": "ipython",
    "version": 3
   },
   "file_extension": ".py",
   "mimetype": "text/x-python",
   "name": "python",
   "nbconvert_exporter": "python",
   "pygments_lexer": "ipython3",
   "version": "3.12.3"
  }
 },
 "nbformat": 4,
 "nbformat_minor": 5
}
