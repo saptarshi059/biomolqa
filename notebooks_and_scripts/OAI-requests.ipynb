{
 "cells": [
  {
   "cell_type": "code",
   "execution_count": null,
   "id": "2719c3ac-afe8-49c7-b7bf-ae449b6cbbb6",
   "metadata": {},
   "outputs": [],
   "source": [
    "from openai import OpenAI\n",
    "from pathlib import Path\n",
    "from tqdm import tqdm\n",
    "from prompts import *\n",
    "import pandas as pd\n",
    "import tiktoken\n",
    "import pickle\n",
    "import json\n",
    "import time\n",
    "import re\n",
    "\n",
    "ddi_subset = pd.read_csv(\"../data/mined_data/final_DDI.csv\")\n",
    "dpi_subset = pd.read_csv(\"../data/mined_data/final_DPI.csv\")\n",
    "\n",
    "all_drugs = set(ddi_subset[\"drug_1_name\"].unique()).union(set(ddi_subset[\"drug_2_name\"].unique()))\n",
    "all_proteins = dpi_subset[\"protein_name\"].unique()\n",
    "\n",
    "client = OpenAI()\n",
    "gpt_tokenizer = tiktoken.encoding_for_model(\"gpt-4o\")"
   ]
  },
  {
   "cell_type": "markdown",
   "id": "13fd8ffe-bcdf-4a74-b608-1d08777e40d9",
   "metadata": {
    "jp-MarkdownHeadingCollapsed": true
   },
   "source": [
    "# Wiki Complexify "
   ]
  },
  {
   "cell_type": "code",
   "execution_count": null,
   "id": "cd5ea844-f029-463d-9385-e10925099284",
   "metadata": {},
   "outputs": [],
   "source": [
    "def create_text_dict(entity_list, entity_type):\n",
    "    entity_text = {}\n",
    "    for entity in entity_list:\n",
    "        with Path(f\"../data/background_information_data/{entity_type}_data/Wiki/{entity}.txt\").open(\"r\") as file:\n",
    "            text = file.read()\n",
    "            entity_text[entity] = (text, len(gpt_tokenizer.encode(text)))\n",
    "    return entity_text\n",
    "\n",
    "def create_formatted_inputs_for_complexify(entity, text):\n",
    "    return {\"custom_id\": f\"{entity}-complexify\", \n",
    "            \"method\": \"POST\", \n",
    "            \"url\": \"/v1/chat/completions\", \n",
    "            \"body\": {\"model\": \"gpt-4o\", \n",
    "                     \"messages\": [\n",
    "                                     {\"role\": \"developer\", \"content\": WIKI_COMPLEXIFY_DEVELOPER_PROMPT},\n",
    "                                     {\"role\": \"user\", \"content\": WIKI_COMPLEXIFY_USER_PROMPT.format(entity, text)}\n",
    "                                 ]\n",
    "                    }\n",
    "           }"
   ]
  },
  {
   "cell_type": "code",
   "execution_count": null,
   "id": "4078bc88-c0c8-4e2a-8c24-683183f034b5",
   "metadata": {},
   "outputs": [],
   "source": [
    "drugs_text = create_text_dict(all_drugs, \"drug\")\n",
    "\n",
    "formatted_samples = []\n",
    "for drug, text_tup in drugs_text.items():\n",
    "    if text_tup[1] >= 200:\n",
    "        formatted_samples.append(create_formatted_inputs_for_complexify(drug, text_tup[0]))"
   ]
  },
  {
   "cell_type": "code",
   "execution_count": null,
   "id": "1a8e911a-24f0-4619-b9e5-e050525eeb04",
   "metadata": {},
   "outputs": [],
   "source": [
    "total_tokens = 0\n",
    "for sample in formatted_samples:\n",
    "    total_tokens += len(gpt_tokenizer.encode(sample[\"body\"][\"messages\"][0][\"content\"]))\n",
    "    total_tokens += len(gpt_tokenizer.encode(sample[\"body\"][\"messages\"][1][\"content\"]))\n",
    "if total_tokens < 90_000:\n",
    "    print(f\"Total tokens : {total_tokens}. Fine for batching everything.\")\n",
    "    with Path(\"../data/OAI/complexify/batch_input.jsonl\").open('w') as file:\n",
    "        for sample in formatted_samples:\n",
    "            json_line = json.dumps(sample)\n",
    "            file.write(json_line + '\\n')"
   ]
  },
  {
   "cell_type": "code",
   "execution_count": null,
   "id": "89a0e197-9b5c-4eab-9555-90b33eb0b206",
   "metadata": {},
   "outputs": [],
   "source": [
    "# If I want to read the file\n",
    "with Path(\"../data/OAI/complexify/batch_input.jsonl\").open('r') as file:\n",
    "     s = [json.loads(line) for line in file]"
   ]
  },
  {
   "cell_type": "markdown",
   "id": "f41c49e8-6a1d-44be-b591-8d8b2be3e8d4",
   "metadata": {
    "jp-MarkdownHeadingCollapsed": true
   },
   "source": [
    "# Molecular Interactions"
   ]
  },
  {
   "cell_type": "code",
   "execution_count": null,
   "id": "b01104c5-2956-47af-905e-193e79313366",
   "metadata": {},
   "outputs": [],
   "source": [
    "def create_formatted_inputs_for_MI(row):\n",
    "    drug_1_name = row.drug_1_name\n",
    "    drug_2_name = row.drug_2_name\n",
    "    drug_1_SMILES = row.drug_1_SMILES\n",
    "    drug_2_SMILES = row.drug_2_SMILES\n",
    "    return {\"custom_id\": f\"{drug_1_name}-{drug_2_name}-MI\",\n",
    "            \"method\": \"POST\",\n",
    "            \"url\": \"/v1/chat/completions\",\n",
    "            \"body\": {\"model\": \"gpt-4o\",\n",
    "                     \"messages\": [\n",
    "                                     {\"role\": \"developer\", \"content\": MOLECULAR_INTERACTIONS_DEVELOPER_PROMPT},\n",
    "                                     {\"role\": \"user\", \"content\": MOLECULAR_INTERACTIONS_USER_PROMPT.format(drug_1_SMILES, drug_2_SMILES)}\n",
    "                                 ]\n",
    "                    }\n",
    "           }"
   ]
  },
  {
   "cell_type": "code",
   "execution_count": null,
   "id": "217f33b9-389a-4d35-8d59-0e224d8161ac",
   "metadata": {},
   "outputs": [],
   "source": [
    "def save_batch(batch, idx):\n",
    "    with Path(f\"../data/OAI/molecular_interactions/batch_{idx}_input.jsonl\").open('w') as file:\n",
    "        for sample in batch:\n",
    "            json_line = json.dumps(sample)\n",
    "            file.write(json_line + '\\n')"
   ]
  },
  {
   "cell_type": "code",
   "execution_count": null,
   "id": "3e00db95-c972-408f-bb6c-a22c306069d2",
   "metadata": {},
   "outputs": [],
   "source": [
    "formatted_samples = []\n",
    "for row in ddi_subset.itertuples(index=False):\n",
    "    formatted_samples.append(create_formatted_inputs_for_MI(row))"
   ]
  },
  {
   "cell_type": "code",
   "execution_count": null,
   "id": "eda55b60-140f-4186-8c54-45bf6744baff",
   "metadata": {},
   "outputs": [],
   "source": [
    "batch_tokens = 0\n",
    "batch_id = 0\n",
    "batch = []\n",
    "i = 0\n",
    "while i < len(formatted_samples):\n",
    "    sample = formatted_samples[i]\n",
    "    batch.append(sample)\n",
    "    batch_tokens = batch_tokens + \\\n",
    "                   len(gpt_tokenizer.encode(sample[\"body\"][\"messages\"][0][\"content\"])) + \\\n",
    "                   len(gpt_tokenizer.encode(sample[\"body\"][\"messages\"][1][\"content\"]))\n",
    "    if batch_tokens > 90_000:\n",
    "        batch.pop() # Removing the last sample which caused the total number of tokens to exceed the 90K limit.\n",
    "        save_batch(batch, batch_id)\n",
    "        batch_id += 1\n",
    "        batch = []\n",
    "        batch_tokens = 0\n",
    "    else:\n",
    "        i += 1\n",
    "save_batch(batch, batch_id)"
   ]
  },
  {
   "cell_type": "code",
   "execution_count": null,
   "id": "57e6174b-4531-4f01-a0b3-97fe930681a1",
   "metadata": {},
   "outputs": [],
   "source": [
    "# Sanity check output\n",
    "with Path(\"../data/OAI/molecular_interactions/batch_0_input.jsonl\").open('r') as file:\n",
    "     s = [json.loads(line) for line in file]\n",
    "\n",
    "with Path(\"../data/OAI/molecular_interactions/batch_1_input.jsonl\").open('r') as file:\n",
    "     y = [json.loads(line) for line in file]\n",
    "\n",
    "assert len(s+y) == len(formatted_samples)"
   ]
  }
 ],
 "metadata": {
  "kernelspec": {
   "display_name": "Python 3 (ipykernel)",
   "language": "python",
   "name": "python3"
  },
  "language_info": {
   "codemirror_mode": {
    "name": "ipython",
    "version": 3
   },
   "file_extension": ".py",
   "mimetype": "text/x-python",
   "name": "python",
   "nbconvert_exporter": "python",
   "pygments_lexer": "ipython3",
   "version": "3.12.3"
  }
 },
 "nbformat": 4,
 "nbformat_minor": 5
}
