{
 "cells": [
  {
   "cell_type": "code",
   "execution_count": null,
   "id": "2719c3ac-afe8-49c7-b7bf-ae449b6cbbb6",
   "metadata": {},
   "outputs": [],
   "source": [
    "from datasets import concatenate_datasets\n",
    "from datasets import load_dataset\n",
    "from openai import OpenAI\n",
    "from pathlib import Path\n",
    "from tqdm import tqdm\n",
    "from prompts import *\n",
    "import pandas as pd\n",
    "import tiktoken\n",
    "import pickle\n",
    "import json\n",
    "import time\n",
    "import re\n",
    "\n",
    "ddi_subset = pd.read_csv(\"../data/mined_data/final_DDI.csv\")\n",
    "molecular_relations_df = pd.read_csv(\"../data/OAI/molecular_interactions/molecular_interactions_df.csv\")\n",
    "dpi_subset = pd.read_csv(\"../data/mined_data/final_DPI.csv\")\n",
    "\n",
    "all_drugs = set(ddi_subset[\"drug_1_name\"].unique()).union(set(ddi_subset[\"drug_2_name\"].unique()))\n",
    "all_proteins = dpi_subset[\"protein_name\"].unique()\n",
    "\n",
    "# For use during Mol questions\n",
    "drug_smiles_mapping = {}\n",
    "for row in ddi_subset.itertuples():\n",
    "    drug_smiles_mapping[row.drug_1_name] = row.drug_1_SMILES\n",
    "    drug_smiles_mapping[row.drug_2_name] = row.drug_2_SMILES\n",
    "\n",
    "client = OpenAI()\n",
    "gpt_tokenizer = tiktoken.encoding_for_model(\"gpt-4o\")"
   ]
  },
  {
   "cell_type": "markdown",
   "id": "9b8802cb-7ced-4a41-a645-2bae65d68571",
   "metadata": {
    "jp-MarkdownHeadingCollapsed": true
   },
   "source": [
    "# Common Functions"
   ]
  },
  {
   "cell_type": "code",
   "execution_count": null,
   "id": "f5c3c651-da79-4e16-a620-24d05c10a0d5",
   "metadata": {},
   "outputs": [],
   "source": [
    "def print_sample(sample_list):\n",
    "    sample = sample_list[0]\n",
    "    print(sample[\"body\"][\"messages\"][0][\"content\"] + \"\\n\\n\" + sample[\"body\"][\"messages\"][1][\"content\"])\n",
    "\n",
    "def count_tokens(sample_list):\n",
    "    total_tokens = 0\n",
    "    for sample in sample_list:\n",
    "        total_tokens = total_tokens + len(gpt_tokenizer.encode(sample[\"body\"][\"messages\"][0][\"content\"])) + \\\n",
    "                                      len(gpt_tokenizer.encode(sample[\"body\"][\"messages\"][1][\"content\"]))\n",
    "    print(total_tokens)\n",
    "\n",
    "def retrieve_text(entity_name, entity_type):\n",
    "    complexified_path = Path(f\"../data/background_information_data/{entity_type}_data/Wiki_complexified/{entity_name}.txt\")\n",
    "    if complexified_path.exists():\n",
    "        with complexified_path.open(\"r\") as file:\n",
    "            return file.read()\n",
    "    else:\n",
    "        with Path(f\"../data/background_information_data/{entity_type}_data/Wiki/{entity_name}.txt\").open(\"r\") as file:\n",
    "            return file.read()\n",
    "\n",
    "def save_batch(batch, output_path):\n",
    "    with Path(output_path).open('w') as file:\n",
    "        for sample in batch:\n",
    "            json_line = json.dumps(sample)\n",
    "            file.write(json_line + '\\n')\n",
    "\n",
    "def create_batches(formatted_samples, base_path):\n",
    "    batch_tokens = 0\n",
    "    batch_id = 0\n",
    "    batch = []\n",
    "    i = 0\n",
    "    while i < len(formatted_samples):\n",
    "        sample = formatted_samples[i]\n",
    "        batch.append(sample)\n",
    "        batch_tokens = batch_tokens + \\\n",
    "                       len(gpt_tokenizer.encode(sample[\"body\"][\"messages\"][0][\"content\"])) + \\\n",
    "                       len(gpt_tokenizer.encode(sample[\"body\"][\"messages\"][1][\"content\"]))\n",
    "        if batch_tokens > 90_000:\n",
    "            batch.pop() # Removing the last sample which caused the total number of tokens to exceed the 90K limit.\n",
    "            save_batch(batch, f\"{base_path}/batch_{batch_id}_input.jsonl\")\n",
    "            batch_id += 1\n",
    "            batch = []\n",
    "            batch_tokens = 0\n",
    "        else:\n",
    "            i += 1\n",
    "    save_batch(batch, f\"{base_path}/batch_{batch_id}_input.jsonl\")"
   ]
  },
  {
   "cell_type": "markdown",
   "id": "13fd8ffe-bcdf-4a74-b608-1d08777e40d9",
   "metadata": {
    "jp-MarkdownHeadingCollapsed": true
   },
   "source": [
    "# Wiki Complexify "
   ]
  },
  {
   "cell_type": "code",
   "execution_count": null,
   "id": "cd5ea844-f029-463d-9385-e10925099284",
   "metadata": {},
   "outputs": [],
   "source": [
    "def create_text_dict(entity_list, entity_type):\n",
    "    entity_text = {}\n",
    "    for entity in entity_list:\n",
    "        with Path(f\"../data/background_information_data/{entity_type}_data/Wiki/{entity}.txt\").open(\"r\") as file:\n",
    "            text = file.read()\n",
    "            entity_text[entity] = (text, len(gpt_tokenizer.encode(text)))\n",
    "    return entity_text\n",
    "\n",
    "def create_formatted_inputs_for_complexify(entity, text):\n",
    "    return {\"custom_id\": f\"{entity}-complexify\", \n",
    "            \"method\": \"POST\", \n",
    "            \"url\": \"/v1/chat/completions\", \n",
    "            \"body\": {\"model\": \"gpt-4o\", \n",
    "                     \"messages\": [\n",
    "                                     {\"role\": \"developer\", \"content\": WIKI_COMPLEXIFY_DEVELOPER_PROMPT},\n",
    "                                     {\"role\": \"user\", \"content\": WIKI_COMPLEXIFY_USER_PROMPT.format(entity, text)}\n",
    "                                 ]\n",
    "                    }\n",
    "           }"
   ]
  },
  {
   "cell_type": "code",
   "execution_count": null,
   "id": "4078bc88-c0c8-4e2a-8c24-683183f034b5",
   "metadata": {},
   "outputs": [],
   "source": [
    "drugs_text = create_text_dict(all_drugs, \"drug\")\n",
    "\n",
    "formatted_samples = []\n",
    "for drug, text_tup in drugs_text.items():\n",
    "    if text_tup[1] >= 200:\n",
    "        formatted_samples.append(create_formatted_inputs_for_complexify(drug, text_tup[0]))"
   ]
  },
  {
   "cell_type": "code",
   "execution_count": null,
   "id": "1a8e911a-24f0-4619-b9e5-e050525eeb04",
   "metadata": {},
   "outputs": [],
   "source": [
    "total_tokens = 0\n",
    "for sample in formatted_samples:\n",
    "    total_tokens += len(gpt_tokenizer.encode(sample[\"body\"][\"messages\"][0][\"content\"]))\n",
    "    total_tokens += len(gpt_tokenizer.encode(sample[\"body\"][\"messages\"][1][\"content\"]))\n",
    "if total_tokens < 90_000:\n",
    "    print(f\"Total tokens : {total_tokens}. Fine for batching everything.\")\n",
    "    with Path(\"../data/OAI/complexify/batch_input.jsonl\").open('w') as file:\n",
    "        for sample in formatted_samples:\n",
    "            json_line = json.dumps(sample)\n",
    "            file.write(json_line + '\\n')"
   ]
  },
  {
   "cell_type": "code",
   "execution_count": null,
   "id": "89a0e197-9b5c-4eab-9555-90b33eb0b206",
   "metadata": {},
   "outputs": [],
   "source": [
    "# If I want to read the file\n",
    "with Path(\"../data/OAI/complexify/batch_input.jsonl\").open('r') as file:\n",
    "     s = [json.loads(line) for line in file]"
   ]
  },
  {
   "cell_type": "markdown",
   "id": "f41c49e8-6a1d-44be-b591-8d8b2be3e8d4",
   "metadata": {
    "jp-MarkdownHeadingCollapsed": true
   },
   "source": [
    "# Molecular Interactions"
   ]
  },
  {
   "cell_type": "code",
   "execution_count": null,
   "id": "b01104c5-2956-47af-905e-193e79313366",
   "metadata": {},
   "outputs": [],
   "source": [
    "def create_formatted_inputs_for_MI(row):\n",
    "    drug_1_name = row.drug_1_name\n",
    "    drug_2_name = row.drug_2_name\n",
    "    drug_1_SMILES = row.drug_1_SMILES\n",
    "    drug_2_SMILES = row.drug_2_SMILES\n",
    "    return {\"custom_id\": f\"{drug_1_name}-{drug_2_name}-MI\",\n",
    "            \"method\": \"POST\",\n",
    "            \"url\": \"/v1/chat/completions\",\n",
    "            \"body\": {\"model\": \"gpt-4o\",\n",
    "                     \"messages\": [\n",
    "                                     {\"role\": \"developer\", \"content\": MOLECULAR_INTERACTIONS_DEVELOPER_PROMPT},\n",
    "                                     {\"role\": \"user\", \"content\": MOLECULAR_INTERACTIONS_USER_PROMPT.format(drug_1_SMILES, drug_2_SMILES)}\n",
    "                                 ]\n",
    "                    }\n",
    "           }"
   ]
  },
  {
   "cell_type": "code",
   "execution_count": null,
   "id": "3e00db95-c972-408f-bb6c-a22c306069d2",
   "metadata": {},
   "outputs": [],
   "source": [
    "formatted_samples = []\n",
    "for row in ddi_subset.itertuples(index=False):\n",
    "    formatted_samples.append(create_formatted_inputs_for_MI(row))\n",
    "create_batches(formatted_samples, \"../data/OAI/molecular_interactions\")"
   ]
  },
  {
   "cell_type": "code",
   "execution_count": null,
   "id": "57e6174b-4531-4f01-a0b3-97fe930681a1",
   "metadata": {},
   "outputs": [],
   "source": [
    "# Sanity check output\n",
    "with Path(\"../data/OAI/molecular_interactions/batch_0_input.jsonl\").open('r') as file:\n",
    "     s = [json.loads(line) for line in file]\n",
    "\n",
    "with Path(\"../data/OAI/molecular_interactions/batch_1_input.jsonl\").open('r') as file:\n",
    "     y = [json.loads(line) for line in file]\n",
    "\n",
    "with Path(\"../data/OAI/molecular_interactions/batch_2_input.jsonl\").open('r') as file:\n",
    "     w = [json.loads(line) for line in file]\n",
    "\n",
    "assert (s+y+w) == (formatted_samples)"
   ]
  },
  {
   "cell_type": "code",
   "execution_count": null,
   "id": "9bd206fc-86ed-48ef-b539-a35ca2faf60e",
   "metadata": {},
   "outputs": [],
   "source": [
    "# Had to post-process batch_0 & split it into 2 halves for rate limits.\n",
    "with Path(\"../data/OAI/molecular_interactions/batch_0_input.jsonl\").open('r') as file:\n",
    "     s = [json.loads(line) for line in file]\n",
    "\n",
    "batch_0 = s[:len(s)//2]\n",
    "batch_1 = s[len(s)//2:]\n",
    "save_batch(batch_0, 0)\n",
    "save_batch(batch_1, 1)"
   ]
  },
  {
   "cell_type": "markdown",
   "id": "ae90bdb3-cfbc-492c-9351-5a1698e3ece4",
   "metadata": {
    "jp-MarkdownHeadingCollapsed": true
   },
   "source": [
    "# DDI Questions"
   ]
  },
  {
   "cell_type": "markdown",
   "id": "3900202b-f94a-49c3-9afa-0c4958f71b89",
   "metadata": {
    "jp-MarkdownHeadingCollapsed": true
   },
   "source": [
    "## Bio relationships"
   ]
  },
  {
   "cell_type": "markdown",
   "id": "b3494c58-55f9-490a-893a-3a40b25315ad",
   "metadata": {
    "jp-MarkdownHeadingCollapsed": true
   },
   "source": [
    "### 1-hop"
   ]
  },
  {
   "cell_type": "code",
   "execution_count": null,
   "id": "bef7a540-087f-400c-bddf-3e9ea20864a0",
   "metadata": {},
   "outputs": [],
   "source": [
    "def create_DDI_Bio_1_hop_samples(drug_1, drug_1_text, drug_2, drug_2_text, triple):\n",
    "    return {\"custom_id\": f\"{drug_1}-{drug_2}-DDI-Bio-1_hop\", \n",
    "            \"method\": \"POST\", \n",
    "            \"url\": \"/v1/chat/completions\", \n",
    "            \"body\": {\"model\": \"gpt-4.1\", \n",
    "                     \"messages\": [\n",
    "                                     {\"role\": \"developer\", \"content\": DDI_BIO_ONE_HOP_DEVELOPER_PROMPT},\n",
    "                                     {\"role\": \"user\", \"content\": DDI_BIO_ONE_HOP_USER_PROMPT.format(drug_1, drug_1_text,\n",
    "                                                                                                    drug_2, drug_2_text,\n",
    "                                                                                                    triple\n",
    "                                                                                                    )\n",
    "                                     }\n",
    "                                 ]\n",
    "                    }\n",
    "           }\n",
    "\n",
    "formatted_samples = []\n",
    "for row in ddi_subset.itertuples(index=False):\n",
    "    drug_1 = row.drug_1_name\n",
    "    drug_2 = row.drug_2_name\n",
    "    triple = f\"{drug_1}-{row.relationship}-{drug_2}\"\n",
    "    drug_1_text = retrieve_text(drug_1, \"drug\")\n",
    "    drug_2_text = retrieve_text(drug_2, \"drug\")\n",
    "    formatted_samples.append(create_DDI_Bio_1_hop_samples(drug_1, drug_1_text, drug_2, drug_2_text, triple))\n",
    "\n",
    "#create_batches(formatted_samples, \"../data/OAI/Questions/DDI_BIO_1_hop/\")\n",
    "save_batch(formatted_samples, \"../data/OAI/Questions/DDI_Bio/1_hop/batch_input.jsonl\")"
   ]
  },
  {
   "cell_type": "markdown",
   "id": "6146df7d-154a-4932-a0c1-95a049270150",
   "metadata": {
    "jp-MarkdownHeadingCollapsed": true
   },
   "source": [
    "### 2-hop"
   ]
  },
  {
   "cell_type": "code",
   "execution_count": null,
   "id": "39fa55da-6bad-487c-89ec-01a5e2f42fd8",
   "metadata": {},
   "outputs": [],
   "source": [
    "def create_DDI_Bio_2_hop_samples(drug_1, drug_1_text, drug_2, drug_2_text, drug_3, drug_3_text, drug_1_2_triple, drug_2_3_triple):\n",
    "    return {\"custom_id\": f\"{drug_1}-{drug_2}-{drug_3}-DDI-Bio-2_hop\", \n",
    "            \"method\": \"POST\", \n",
    "            \"url\": \"/v1/chat/completions\", \n",
    "            \"body\": {\"model\": \"gpt-4.1\", \n",
    "                     \"messages\": [\n",
    "                                     {\"role\": \"developer\", \"content\": DDI_BIO_TWO_HOP_DEVELOPER_PROMPT},\n",
    "                                     {\"role\": \"user\", \"content\": DDI_BIO_TWO_HOP_USER_PROMPT.format(drug_1, drug_1_text,\n",
    "                                                                                                    drug_2, drug_2_text,\n",
    "                                                                                                    drug_3, drug_3_text,\n",
    "                                                                                                    drug_1_2_triple, drug_2_3_triple\n",
    "                                                                                                   )\n",
    "                                     }\n",
    "                                 ]\n",
    "                    }\n",
    "           }\n",
    "\n",
    "with Path(\"../data/mined_data/DDI_Bio_two_hop_list.pkl\").open(\"rb\") as file:\n",
    "    ddi_bio_two_hop_tuples = pickle.load(file)\n",
    "\n",
    "formatted_samples = []\n",
    "for ddi_tup in ddi_bio_two_hop_tuples:   \n",
    "    drug_1 = ddi_tup[0]\n",
    "    drug_2 = ddi_tup[1]\n",
    "    drug_3 = ddi_tup[2]\n",
    "    \n",
    "    drug_1_2_rel = ddi_subset.query(\"drug_1_name == @drug_1 and drug_2_name == @drug_2\").iloc[0].relationship\n",
    "    drug_2_3_rel = ddi_subset.query(\"drug_1_name == @drug_2 and drug_2_name == @drug_3\").iloc[0].relationship\n",
    "    \n",
    "    drug_1_2_triple = f\"{drug_1}-{drug_1_2_rel}-{drug_2}\"\n",
    "    drug_2_3_triple = f\"{drug_2}-{drug_2_3_rel}-{drug_3}\"\n",
    "    \n",
    "    drug_1_text = retrieve_text(drug_1, \"drug\")\n",
    "    drug_2_text = retrieve_text(drug_2, \"drug\")\n",
    "    drug_3_text = retrieve_text(drug_3, \"drug\")\n",
    "\n",
    "    formatted_samples.append(create_DDI_Bio_2_hop_samples(drug_1, drug_1_text, drug_2, drug_2_text, drug_3, drug_3_text, \n",
    "                                                          drug_1_2_triple, drug_2_3_triple))\n",
    "\n",
    "save_batch(formatted_samples, \"../data/OAI/Questions/DDI_Bio/2_hop/batch_input.jsonl\")"
   ]
  },
  {
   "cell_type": "markdown",
   "id": "facf627a-9d28-441b-9696-8939a114dee9",
   "metadata": {
    "jp-MarkdownHeadingCollapsed": true
   },
   "source": [
    "### 3-hop"
   ]
  },
  {
   "cell_type": "code",
   "execution_count": null,
   "id": "9144140d-1f43-49b7-b030-eb738799d74f",
   "metadata": {},
   "outputs": [],
   "source": [
    "def create_DDI_Bio_3_hop_samples(drug_1, drug_1_text, drug_2, drug_2_text, drug_3, drug_3_text, drug_4, drug_4_text, \n",
    "                                 drug_1_2_triple, drug_2_3_triple, drug_3_4_triple):\n",
    "    return {\"custom_id\": f\"{drug_1}-{drug_2}-{drug_3}-{drug_4}-DDI-Bio-3_hop\", \n",
    "            \"method\": \"POST\", \n",
    "            \"url\": \"/v1/chat/completions\", \n",
    "            \"body\": {\"model\": \"gpt-4.1\", \n",
    "                     \"messages\": [\n",
    "                                     {\"role\": \"developer\", \"content\": DDI_BIO_THREE_HOP_DEVELOPER_PROMPT},\n",
    "                                     {\"role\": \"user\", \"content\": DDI_BIO_THREE_HOP_USER_PROMPT.format(drug_1, drug_1_text,\n",
    "                                                                                                      drug_2, drug_2_text,\n",
    "                                                                                                      drug_3, drug_3_text,\n",
    "                                                                                                      drug_4, drug_4_text,\n",
    "                                                                                                      drug_1_2_triple, \n",
    "                                                                                                      drug_2_3_triple,\n",
    "                                                                                                      drug_3_4_triple\n",
    "                                                                                                     )\n",
    "                                     }\n",
    "                                 ]\n",
    "                    }\n",
    "           }\n",
    "\n",
    "with Path(\"../data/mined_data/DDI_Bio_three_hop_list.pkl\").open(\"rb\") as file:\n",
    "    ddi_bio_three_hop_tuples = pickle.load(file)\n",
    "\n",
    "formatted_samples = []\n",
    "for ddi_tup in ddi_bio_three_hop_tuples:   \n",
    "    drug_1 = ddi_tup[0]\n",
    "    drug_2 = ddi_tup[1]\n",
    "    drug_3 = ddi_tup[2]\n",
    "    drug_4 = ddi_tup[3]\n",
    "    \n",
    "    drug_1_2_rel = ddi_subset.query(\"drug_1_name == @drug_1 and drug_2_name == @drug_2\").iloc[0].relationship\n",
    "    drug_2_3_rel = ddi_subset.query(\"drug_1_name == @drug_2 and drug_2_name == @drug_3\").iloc[0].relationship\n",
    "    drug_3_4_rel = ddi_subset.query(\"drug_1_name == @drug_3 and drug_2_name == @drug_4\").iloc[0].relationship\n",
    "\n",
    "    drug_1_2_triple = f\"{drug_1}-{drug_1_2_rel}-{drug_2}\"\n",
    "    drug_2_3_triple = f\"{drug_2}-{drug_2_3_rel}-{drug_3}\"\n",
    "    drug_3_4_triple = f\"{drug_3}-{drug_3_4_rel}-{drug_4}\"\n",
    "    \n",
    "    drug_1_text = retrieve_text(drug_1, \"drug\")\n",
    "    drug_2_text = retrieve_text(drug_2, \"drug\")\n",
    "    drug_3_text = retrieve_text(drug_3, \"drug\")\n",
    "    drug_4_text = retrieve_text(drug_4, \"drug\")\n",
    "\n",
    "    formatted_samples.append(create_DDI_Bio_3_hop_samples(drug_1, drug_1_text, drug_2, drug_2_text, drug_3, drug_3_text, \n",
    "                                                          drug_4, drug_4_text, drug_1_2_triple, drug_2_3_triple, drug_3_4_triple\n",
    "                                                         )\n",
    "                            )\n",
    "\n",
    "save_batch(formatted_samples, \"../data/OAI/Questions/DDI_Bio/3_hop/batch_input.jsonl\")"
   ]
  },
  {
   "cell_type": "markdown",
   "id": "6c9b770f-aa6c-4648-bb8b-63e30ab8eca4",
   "metadata": {
    "jp-MarkdownHeadingCollapsed": true
   },
   "source": [
    "## Molecular Relationships"
   ]
  },
  {
   "cell_type": "markdown",
   "id": "048fd506-81d7-4deb-8b37-243e4c3c89d2",
   "metadata": {
    "jp-MarkdownHeadingCollapsed": true
   },
   "source": [
    "### 1-hop"
   ]
  },
  {
   "cell_type": "code",
   "execution_count": null,
   "id": "ee6e6b81-83e4-4b6a-951b-5d1e36abcc57",
   "metadata": {},
   "outputs": [],
   "source": [
    "def create_DDI_Mol_1_hop_samples(drug_1, drug_1_SMILES, drug_2, drug_2_SMILES, triple):\n",
    "    return {\"custom_id\": f\"{drug_1}-{drug_2}-DDI-Mol-1_hop\", \n",
    "            \"method\": \"POST\", \n",
    "            \"url\": \"/v1/chat/completions\", \n",
    "            \"body\": {\"model\": \"gpt-4.1\", \n",
    "                     \"messages\": [\n",
    "                                     {\"role\": \"developer\", \"content\": DDI_MOL_ONE_HOP_DEVELOPER_PROMPT},\n",
    "                                     {\"role\": \"user\", \"content\": DDI_MOL_ONE_HOP_USER_PROMPT.format(drug_1, drug_1_SMILES,\n",
    "                                                                                                    drug_2, drug_2_SMILES,\n",
    "                                                                                                    triple\n",
    "                                                                                                   )\n",
    "                                     }\n",
    "                                 ]\n",
    "                    }\n",
    "           }\n",
    "\n",
    "formatted_samples = []\n",
    "for row in molecular_relations_df.itertuples(index=False):\n",
    "    drug_1 = row.drug_1_name\n",
    "    drug_2 = row.drug_2_name\n",
    "    triple = f\"{drug_1}-{row.molecular_interaction}-{drug_2}\"\n",
    "    drug_1_SMILES = row.drug_1_SMILES\n",
    "    drug_2_SMILES = row.drug_2_SMILES\n",
    "    formatted_samples.append(create_DDI_Mol_1_hop_samples(drug_1, drug_1_SMILES, drug_2, drug_2_SMILES, triple))\n",
    "\n",
    "save_batch(formatted_samples, \"../data/OAI/Questions/DDI/Mol/1_hop/batch_input.jsonl\")"
   ]
  },
  {
   "cell_type": "markdown",
   "id": "049b841b-a76d-455b-b83a-7dee2ffa9fe6",
   "metadata": {
    "jp-MarkdownHeadingCollapsed": true
   },
   "source": [
    "### 2-hop"
   ]
  },
  {
   "cell_type": "code",
   "execution_count": null,
   "id": "d1f4e33c-c1e9-4e08-bd83-5180a669a6cc",
   "metadata": {},
   "outputs": [],
   "source": [
    "def create_DDI_Mol_2_hop_samples(drug_1, drug_1_SMILES, drug_2, drug_2_SMILES, drug_3, drug_3_SMILES, drug_1_2_triple, drug_2_3_triple):\n",
    "    return {\"custom_id\": f\"{drug_1}-{drug_2}-{drug_3}-DDI-Mol-2_hop\", \n",
    "            \"method\": \"POST\", \n",
    "            \"url\": \"/v1/chat/completions\", \n",
    "            \"body\": {\"model\": \"gpt-4.1\", \n",
    "                     \"messages\": [\n",
    "                                     {\"role\": \"developer\", \"content\": DDI_MOL_TWO_HOP_DEVELOPER_PROMPT},\n",
    "                                     {\"role\": \"user\", \"content\": DDI_MOL_TWO_HOP_USER_PROMPT.format(drug_1, drug_1_SMILES,\n",
    "                                                                                                    drug_2, drug_2_SMILES,\n",
    "                                                                                                    drug_3, drug_3_SMILES,\n",
    "                                                                                                    drug_1_2_triple, drug_2_3_triple\n",
    "                                                                                                   )\n",
    "                                     }\n",
    "                                 ]\n",
    "                    }\n",
    "           }\n",
    "\n",
    "with Path(\"../data/mined_data/DDI_Mol_two_hop_list.pkl\").open(\"rb\") as file:\n",
    "    ddi_mol_two_hop_tuples = pickle.load(file)\n",
    "\n",
    "formatted_samples = []\n",
    "for ddi_tup in ddi_mol_two_hop_tuples:   \n",
    "    drug_1 = ddi_tup[0]\n",
    "    drug_2 = ddi_tup[1]\n",
    "    drug_3 = ddi_tup[2]\n",
    "    \n",
    "    drug_1_2_rel = molecular_relations_df.query(\"drug_1_name == @drug_1 and drug_2_name == @drug_2\").iloc[0].molecular_interaction\n",
    "    drug_2_3_rel = molecular_relations_df.query(\"drug_1_name == @drug_2 and drug_2_name == @drug_3\").iloc[0].molecular_interaction\n",
    "    \n",
    "    drug_1_2_triple = f\"{drug_1}-{drug_1_2_rel}-{drug_2}\"\n",
    "    drug_2_3_triple = f\"{drug_2}-{drug_2_3_rel}-{drug_3}\"\n",
    "    \n",
    "    drug_1_SMILES = drug_smiles_mapping[drug_1]\n",
    "    drug_2_SMILES = drug_smiles_mapping[drug_2]\n",
    "    drug_3_SMILES = drug_smiles_mapping[drug_3]\n",
    "\n",
    "    formatted_samples.append(create_DDI_Mol_2_hop_samples(drug_1, drug_1_SMILES, drug_2, drug_2_SMILES, drug_3, drug_3_SMILES, \n",
    "                                                          drug_1_2_triple, drug_2_3_triple))\n",
    "\n",
    "save_batch(formatted_samples, \"../data/OAI/Questions/DDI/Mol/2_hop/batch_input.jsonl\")"
   ]
  },
  {
   "cell_type": "markdown",
   "id": "48d7b8d0-da58-4a3d-b14a-b6ce8e6ed131",
   "metadata": {
    "jp-MarkdownHeadingCollapsed": true
   },
   "source": [
    "### 3-hop"
   ]
  },
  {
   "cell_type": "code",
   "execution_count": null,
   "id": "399c38f0-1511-4c68-9c32-b33feabfc11c",
   "metadata": {},
   "outputs": [],
   "source": [
    "def create_DDI_Mol_3_hop_samples(drug_1, drug_1_SMILES, drug_2, drug_2_SMILES, drug_3, drug_3_SMILES, drug_4, drug_4_SMILES, \n",
    "                                 drug_1_2_triple, drug_2_3_triple, drug_3_4_triple):\n",
    "    return {\"custom_id\": f\"{drug_1}-{drug_2}-{drug_3}-{drug_4}-DDI-Mol-3_hop\", \n",
    "            \"method\": \"POST\", \n",
    "            \"url\": \"/v1/chat/completions\", \n",
    "            \"body\": {\"model\": \"gpt-4.1\", \n",
    "                     \"messages\": [\n",
    "                                     {\"role\": \"developer\", \"content\": DDI_MOL_THREE_HOP_DEVELOPER_PROMPT},\n",
    "                                     {\"role\": \"user\", \"content\": DDI_MOL_THREE_HOP_USER_PROMPT.format(drug_1, drug_1_SMILES,\n",
    "                                                                                                      drug_2, drug_2_SMILES,\n",
    "                                                                                                      drug_3, drug_3_SMILES,\n",
    "                                                                                                      drug_4, drug_4_SMILES,\n",
    "                                                                                                      drug_1_2_triple, \n",
    "                                                                                                      drug_2_3_triple,\n",
    "                                                                                                      drug_3_4_triple\n",
    "                                                                                                     )\n",
    "                                     }\n",
    "                                 ]\n",
    "                    }\n",
    "           }\n",
    "\n",
    "with Path(\"../data/mined_data/DDI_Mol_three_hop_list.pkl\").open(\"rb\") as file:\n",
    "    ddi_mol_three_hop_tuples = pickle.load(file)\n",
    "\n",
    "formatted_samples = []\n",
    "for ddi_tup in ddi_mol_three_hop_tuples:   \n",
    "    drug_1 = ddi_tup[0]\n",
    "    drug_2 = ddi_tup[1]\n",
    "    drug_3 = ddi_tup[2]\n",
    "    drug_4 = ddi_tup[3]\n",
    "    \n",
    "    drug_1_2_rel = molecular_relations_df.query(\"drug_1_name == @drug_1 and drug_2_name == @drug_2\").iloc[0].molecular_interaction\n",
    "    drug_2_3_rel = molecular_relations_df.query(\"drug_1_name == @drug_2 and drug_2_name == @drug_3\").iloc[0].molecular_interaction\n",
    "    drug_3_4_rel = molecular_relations_df.query(\"drug_1_name == @drug_3 and drug_2_name == @drug_4\").iloc[0].molecular_interaction\n",
    "\n",
    "    drug_1_2_triple = f\"{drug_1}-{drug_1_2_rel}-{drug_2}\"\n",
    "    drug_2_3_triple = f\"{drug_2}-{drug_2_3_rel}-{drug_3}\"\n",
    "    drug_3_4_triple = f\"{drug_3}-{drug_3_4_rel}-{drug_4}\"\n",
    "    \n",
    "    drug_1_SMILES = drug_smiles_mapping[drug_1]\n",
    "    drug_2_SMILES = drug_smiles_mapping[drug_2]\n",
    "    drug_3_SMILES = drug_smiles_mapping[drug_3]\n",
    "    drug_4_SMILES = drug_smiles_mapping[drug_4]\n",
    "\n",
    "    formatted_samples.append(create_DDI_Mol_3_hop_samples(drug_1, drug_1_SMILES, drug_2, drug_2_SMILES, drug_3, drug_3_SMILES, \n",
    "                                                          drug_4, drug_4_SMILES, drug_1_2_triple, drug_2_3_triple, drug_3_4_triple\n",
    "                                                         )\n",
    "                            )\n",
    "\n",
    "save_batch(formatted_samples, \"../data/OAI/Questions/DDI/Mol/3_hop/batch_input.jsonl\")"
   ]
  },
  {
   "cell_type": "markdown",
   "id": "2f3deb77-5a75-49f3-bf13-ab3b061f0a62",
   "metadata": {
    "jp-MarkdownHeadingCollapsed": true
   },
   "source": [
    "# DPI Questions"
   ]
  },
  {
   "cell_type": "markdown",
   "id": "b2a928d6-61c2-4245-b59a-7bc6774b41ed",
   "metadata": {
    "jp-MarkdownHeadingCollapsed": true
   },
   "source": [
    "## 1-hop"
   ]
  },
  {
   "cell_type": "code",
   "execution_count": null,
   "id": "9d64363b-f63b-4ea3-997e-581823f537da",
   "metadata": {},
   "outputs": [],
   "source": [
    "def create_DPI_1_hop_samples(drug, drug_text, protein, protein_text, triple):\n",
    "    return {\"custom_id\": f\"{drug}-{protein}-DPI-1_hop\", \n",
    "            \"method\": \"POST\", \n",
    "            \"url\": \"/v1/chat/completions\", \n",
    "            \"body\": {\"model\": \"gpt-4.1\", \n",
    "                     \"messages\": [\n",
    "                                     {\"role\": \"developer\", \"content\": DPI_ONE_HOP_DEVELOPER_PROMPT},\n",
    "                                     {\"role\": \"user\", \"content\": DPI_ONE_HOP_USER_PROMPT.format(drug, drug_text, \n",
    "                                                                                                protein, protein_text, \n",
    "                                                                                                triple\n",
    "                                                                                               )\n",
    "                                     }\n",
    "                                 ]\n",
    "                    }\n",
    "           }\n",
    "\n",
    "formatted_samples = []\n",
    "for row in dpi_subset.itertuples(index=False):\n",
    "    drug = row.drug_name\n",
    "    protein = row.protein_name\n",
    "    triple = f\"{drug}-{row.relationship}-{protein}\"\n",
    "    drug_text = retrieve_text(drug, \"drug\")\n",
    "    protein_text = retrieve_text(protein, \"protein\")\n",
    "    formatted_samples.append(create_DPI_1_hop_samples(drug, drug_text, protein, protein_text, triple))\n",
    "\n",
    "save_batch(formatted_samples, \"../data/OAI/Questions/DPI/1_hop/batch_input.jsonl\")"
   ]
  },
  {
   "cell_type": "markdown",
   "id": "d41c2f86-6313-42d7-9780-53091ebe77d0",
   "metadata": {
    "jp-MarkdownHeadingCollapsed": true
   },
   "source": [
    "## 2-hop"
   ]
  },
  {
   "cell_type": "code",
   "execution_count": null,
   "id": "52119c90-8c58-475e-a023-d754285ddaad",
   "metadata": {},
   "outputs": [],
   "source": [
    "def create_DPI_2_hop_samples(drug_1, drug_1_text, drug_2, drug_2_text, protein, protein_text, triple_1_2, triple_2_3):\n",
    "    return {\"custom_id\": f\"{drug_1}-{drug_2}-{protein}-DPI-2_hop\", \n",
    "            \"method\": \"POST\", \n",
    "            \"url\": \"/v1/chat/completions\", \n",
    "            \"body\": {\"model\": \"gpt-4.1\", \n",
    "                     \"messages\": [\n",
    "                                     {\"role\": \"developer\", \"content\": DPI_TWO_HOP_DEVELOPER_PROMPT},\n",
    "                                     {\"role\": \"user\", \"content\": DPI_TWO_HOP_USER_PROMPT.format(drug_1, drug_1_text,\n",
    "                                                                                                drug_2, drug_2_text,\n",
    "                                                                                                protein, protein_text, \n",
    "                                                                                                triple_1_2, triple_2_3\n",
    "                                                                                               )\n",
    "                                     }\n",
    "                                 ]\n",
    "                    }\n",
    "           }\n",
    "\n",
    "\n",
    "with Path(\"../data/mined_data/DPI_two_hop_list.pkl\").open(\"rb\") as file:\n",
    "    dpi_two_hop_tuples = pickle.load(file)\n",
    "\n",
    "formatted_samples = []\n",
    "for dpi_tuple in dpi_two_hop_tuples:\n",
    "    drug_1 = dpi_tuple[0]\n",
    "    drug_2 = dpi_tuple[1]\n",
    "    protein = dpi_tuple[2]\n",
    "\n",
    "    rel_1_2 = ddi_subset.query(\"drug_1_name == @drug_1 and drug_2_name == @drug_2\").iloc[0].relationship\n",
    "    rel_2_3 = dpi_subset.query(\"drug_name == @drug_2 and protein_name == @protein\").iloc[0].relationship\n",
    "\n",
    "    triple_1_2 = f\"{drug_1}-{rel_1_2}-{drug_2}\"\n",
    "    triple_2_3 = f\"{drug_2}-{rel_2_3}-{protein}\"\n",
    "    \n",
    "    drug_1_text = retrieve_text(drug_1, \"drug\")\n",
    "    drug_2_text = retrieve_text(drug_2, \"drug\")\n",
    "    protein_text = retrieve_text(protein, \"protein\")\n",
    "\n",
    "    formatted_samples.append(create_DPI_2_hop_samples(drug_1, drug_1_text, \n",
    "                                                      drug_2, drug_2_text, \n",
    "                                                      protein, protein_text, \n",
    "                                                      triple_1_2, triple_2_3))\n",
    "\n",
    "save_batch(formatted_samples, \"../data/OAI/Questions/DPI/2_hop/batch_input.jsonl\")"
   ]
  },
  {
   "cell_type": "markdown",
   "id": "2c8faa0d-89b7-4254-8a09-f58f3a49faf1",
   "metadata": {
    "jp-MarkdownHeadingCollapsed": true
   },
   "source": [
    "## 3-hop"
   ]
  },
  {
   "cell_type": "code",
   "execution_count": null,
   "id": "e2b784ea-9474-4833-8c66-aee4debdb806",
   "metadata": {},
   "outputs": [],
   "source": [
    "def create_DPI_3_hop_samples(drug_1, drug_1_text, drug_2, drug_2_text, drug_3, drug_3_text, protein, protein_text, \n",
    "                             triple_1_2, triple_2_3, triple_3_4):\n",
    "    return {\"custom_id\": f\"{drug_1}-{drug_2}-{drug_3}-{protein}-DPI-3_hop\", \n",
    "            \"method\": \"POST\", \n",
    "            \"url\": \"/v1/chat/completions\", \n",
    "            \"body\": {\"model\": \"gpt-4.1\", \n",
    "                     \"messages\": [\n",
    "                                     {\"role\": \"developer\", \"content\": DPI_THREE_HOP_DEVELOPER_PROMPT},\n",
    "                                     {\"role\": \"user\", \"content\": DPI_THREE_HOP_USER_PROMPT.format(drug_1, drug_1_text,\n",
    "                                                                                                  drug_2, drug_2_text,\n",
    "                                                                                                  drug_3, drug_3_text,\n",
    "                                                                                                  protein, protein_text,\n",
    "                                                                                                  triple_1_2, triple_2_3, triple_3_4\n",
    "                                                                                                 )\n",
    "                                     }\n",
    "                                 ]\n",
    "                    }\n",
    "           }\n",
    "\n",
    "with Path(\"../data/mined_data/DPI_three_hop_list.pkl\").open(\"rb\") as file:\n",
    "    dpi_three_hop_tuples = pickle.load(file)\n",
    "\n",
    "formatted_samples = []\n",
    "for dpi_tuple in dpi_three_hop_tuples:\n",
    "    drug_1 = dpi_tuple[0]\n",
    "    drug_2 = dpi_tuple[1]\n",
    "    drug_3 = dpi_tuple[2]\n",
    "    protein = dpi_tuple[3]\n",
    "\n",
    "    rel_1_2 = ddi_subset.query(\"drug_1_name == @drug_1 and drug_2_name == @drug_2\").iloc[0].relationship\n",
    "    rel_2_3 = ddi_subset.query(\"drug_1_name == @drug_2 and drug_2_name == @drug_3\").iloc[0].relationship\n",
    "    rel_3_4 = dpi_subset.query(\"drug_name == @drug_3 and protein_name == @protein\").iloc[0].relationship\n",
    "    \n",
    "    triple_1_2 = f\"{drug_1}-{rel_1_2}-{drug_2}\"\n",
    "    triple_2_3 = f\"{drug_2}-{rel_2_3}-{drug_3}\"\n",
    "    triple_3_4 = f\"{drug_3}-{rel_3_4}-{protein}\"\n",
    "    \n",
    "    drug_1_text = retrieve_text(drug_1, \"drug\")\n",
    "    drug_2_text = retrieve_text(drug_2, \"drug\")\n",
    "    drug_3_text = retrieve_text(drug_3, \"drug\")\n",
    "    protein_text = retrieve_text(protein, \"protein\")\n",
    "\n",
    "    formatted_samples.append(create_DPI_3_hop_samples(drug_1, drug_1_text, \n",
    "                                                      drug_2, drug_2_text,\n",
    "                                                      drug_3, drug_3_text,\n",
    "                                                      protein, protein_text, \n",
    "                                                      triple_1_2, triple_2_3, triple_3_4))\n",
    "\n",
    "save_batch(formatted_samples, \"../data/OAI/Questions/DPI/3_hop/batch_input.jsonl\")"
   ]
  }
 ],
 "metadata": {
  "kernelspec": {
   "display_name": "Python 3 (ipykernel)",
   "language": "python",
   "name": "python3"
  },
  "language_info": {
   "codemirror_mode": {
    "name": "ipython",
    "version": 3
   },
   "file_extension": ".py",
   "mimetype": "text/x-python",
   "name": "python",
   "nbconvert_exporter": "python",
   "pygments_lexer": "ipython3",
   "version": "3.12.3"
  }
 },
 "nbformat": 4,
 "nbformat_minor": 5
}
