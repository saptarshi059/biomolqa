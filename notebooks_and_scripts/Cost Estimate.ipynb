{
 "cells": [
  {
   "cell_type": "code",
   "execution_count": null,
   "id": "d04510cd-209f-47f1-bdab-8f77d01f1320",
   "metadata": {},
   "outputs": [],
   "source": [
    "from pathlib import Path\n",
    "from prompts import *\n",
    "import pandas as pd\n",
    "import tiktoken\n",
    "import pickle"
   ]
  },
  {
   "cell_type": "code",
   "execution_count": null,
   "id": "ef48efef-004e-4c23-8532-da345ca19f20",
   "metadata": {},
   "outputs": [],
   "source": [
    "# Loading everything\n",
    "\n",
    "ddi_subset = pd.read_csv(\"../data/mined_data/final_DDI.csv\")\n",
    "dpi_subset = pd.read_csv(\"../data/mined_data/final_DPI.csv\")\n",
    "\n",
    "enc = tiktoken.encoding_for_model(\"gpt-4o\")"
   ]
  },
  {
   "cell_type": "code",
   "execution_count": null,
   "id": "4ff537f4-2789-4ae1-9ec9-b63aea2674f1",
   "metadata": {},
   "outputs": [],
   "source": [
    "all_drugs = set(ddi_subset[\"drug_1_name\"].unique()).union(set(ddi_subset[\"drug_2_name\"].unique()))\n",
    "all_proteins = dpi_subset[\"protein_name\"].unique()"
   ]
  },
  {
   "cell_type": "markdown",
   "id": "982ab0ab-d8d5-4a1f-b6f2-690d7aa8e0ca",
   "metadata": {},
   "source": [
    "# Summarization Cost Estimate"
   ]
  },
  {
   "cell_type": "code",
   "execution_count": null,
   "id": "2aeb8789-3977-4086-bb60-1c1c3a8ff75a",
   "metadata": {},
   "outputs": [],
   "source": [
    "def get_longest_text(entity_type, entity_list):\n",
    "    entity_folder_path = Path(f\"../data/background_information_data/{entity_type}_data/PubMed\")\n",
    "    ent_lens = {}\n",
    "    for entity in entity_list:\n",
    "        with Path(entity_folder_path / f\"{entity}.txt\").open(\"r\") as file:\n",
    "            ent_lens[entity] = len(file.read())\n",
    "    return max(ent_lens.items(), key = lambda x: x[1])\n",
    "\n",
    "def get_input_prompts(entity, entity_type):\n",
    "    abstracts_string = \"\"\n",
    "    with Path(f\"../data/background_information_data/{entity_type}_data/PubMed/{entity}.txt\").open(\"r\") as f:\n",
    "        all_abstracts = f.readlines()\n",
    "        if entity_type == \"drug\":\n",
    "            for idx, ab in enumerate(all_abstracts):\n",
    "                abstracts_string += f\"Abstract {idx + 1}: {ab}\\n\"\n",
    "            return DRUG_SUMMARIZATION_PROMPT.format(entity, abstracts_string.strip())\n",
    "        else:\n",
    "            for idx in range(1, len(all_abstracts)):\n",
    "                abstracts_string += f\"Abstract {idx}: {all_abstracts[idx]}\\n\"\n",
    "            return PROTEIN_SUMMARIZATION_PROMPT.format(entity, all_abstracts[0], abstracts_string.strip())\n",
    "\n",
    "def calculate_total_cost(input_prompt_tokens, output_prompt, total_ents):\n",
    "    output_prompt_tokens = enc.encode(output_prompt)\n",
    "    total_cost_for_one_drug = ((2.5 * len(input_prompt_tokens)) + (10 * len(output_prompt_tokens)))/1_000_000\n",
    "    return len(total_ents) * total_cost_for_one_drug"
   ]
  },
  {
   "cell_type": "code",
   "execution_count": null,
   "id": "ea38d742-2e26-4cc5-94e2-bf45ff1c948c",
   "metadata": {},
   "outputs": [],
   "source": [
    "longest_drug_text = get_longest_text(\"drug\", all_drugs)\n",
    "longest_protein_text = get_longest_text(\"protein\", all_proteins)\n",
    "\n",
    "longest_drug_input_prompt = get_input_prompts(longest_drug_text[0], \"drug\")\n",
    "longest_protein_input_prompt = get_input_prompts(longest_protein_text[0], \"protein\")\n",
    "\n",
    "longest_drug_input_prompt_tokens = enc.encode(longest_drug_input_prompt)\n",
    "longest_protein_input_prompt_tokens = enc.encode(longest_protein_input_prompt)\n",
    "\n",
    "with Path(\"../data/sample_data/longest_drug_summarization_output.txt\").open(\"r\") as file:\n",
    "    drug_output = file.read()\n",
    "\n",
    "with Path(\"../data/sample_data/longest_protein_summarization_output.txt\").open(\"r\") as file:\n",
    "    protein_output = file.read()\n",
    "\n",
    "drug_cost = calculate_total_cost(longest_drug_input_prompt_tokens, drug_output, all_drugs)\n",
    "protein_cost = calculate_total_cost(longest_protein_input_prompt_tokens, protein_output, all_proteins)\n",
    "\n",
    "print(f\"Longest drug text input tokens: {len(longest_drug_input_prompt_tokens)}\")\n",
    "print(f\"Longest protein text input tokens: {len(longest_protein_input_prompt_tokens)}\\n\")\n",
    "\n",
    "print(f\"Longest drug text output tokens: {len(drug_output)}\")\n",
    "print(f\"Longest protein text output tokens: {len(protein_output)}\\n\")\n",
    "\n",
    "print(f\"Upper limit total cost for drug summarization: {round(drug_cost, 2)}\")\n",
    "print(f\"Upper limit total cost for protein summarization: {round(protein_cost, 2)}\\n\")\n",
    "\n",
    "print(f\"Batching Upper limit total cost for drug summarization: {round(drug_cost/2, 2)}\")\n",
    "print(f\"Batching Upper limit total cost for protein summarization: {round(protein_cost/2, 2)}\")"
   ]
  }
 ],
 "metadata": {
  "kernelspec": {
   "display_name": "Python 3 (ipykernel)",
   "language": "python",
   "name": "python3"
  },
  "language_info": {
   "codemirror_mode": {
    "name": "ipython",
    "version": 3
   },
   "file_extension": ".py",
   "mimetype": "text/x-python",
   "name": "python",
   "nbconvert_exporter": "python",
   "pygments_lexer": "ipython3",
   "version": "3.12.3"
  }
 },
 "nbformat": 4,
 "nbformat_minor": 5
}
