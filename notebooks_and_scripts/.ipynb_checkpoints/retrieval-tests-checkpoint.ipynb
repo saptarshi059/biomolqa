{
 "cells": [
  {
   "cell_type": "code",
   "execution_count": 3,
   "id": "562eeb30-dfde-4652-a255-1ecbc906ac0a",
   "metadata": {},
   "outputs": [],
   "source": [
    "from pathlib import Path\n",
    "from tqdm import tqdm\n",
    "import bm25s"
   ]
  },
  {
   "cell_type": "code",
   "execution_count": 17,
   "id": "572af77b-a693-43d7-adc4-44797eb26d91",
   "metadata": {},
   "outputs": [],
   "source": [
    "drug_background_data_folder = Path(\"../data/background_information_data/drug_data\")"
   ]
  },
  {
   "cell_type": "code",
   "execution_count": 52,
   "id": "91abfff9-9313-4723-a700-9fb178bef831",
   "metadata": {},
   "outputs": [],
   "source": [
    "# Creating corpus\n",
    "corpus = {}\n",
    "for file in drug_background_data_folder.iterdir():\n",
    "    if file.suffix != \"csv\":\n",
    "        with Path(file).open(\"r\") as f:\n",
    "            corpus[f.read()] = file.stem"
   ]
  },
  {
   "cell_type": "code",
   "execution_count": 53,
   "id": "a658851b-60b2-469c-b576-458066b4fddf",
   "metadata": {},
   "outputs": [
    {
     "name": "stderr",
     "output_type": "stream",
     "text": [
      "                                                                                "
     ]
    }
   ],
   "source": [
    "# Tokenize the corpus and index it\n",
    "corpus_tokens = bm25s.tokenize(list(corpus.keys()))\n",
    "retriever = bm25s.BM25(corpus=list(corpus.keys()))\n",
    "retriever.index(corpus_tokens)"
   ]
  },
  {
   "cell_type": "code",
   "execution_count": 60,
   "id": "48b12bd1-85e8-4b1e-ad9d-b4374bfa3e0c",
   "metadata": {},
   "outputs": [
    {
     "name": "stderr",
     "output_type": "stream",
     "text": [
      "                                                                                "
     ]
    }
   ],
   "source": [
    "# You can now search the corpus with a query\n",
    "query = \"Which drug, when used alongside an SSRI known for inhibiting serotonin reuptake and increasing bleeding risk, may further amplify the likelihood of bleeding due to its interaction with Vitamin K antagonists?\"\n",
    "query_tokens = bm25s.tokenize(query)\n",
    "docs, scores = retriever.retrieve(query_tokens, k=5)\n",
    "#print(f\"Best result (score: {scores[0, 0]:.2f}): {docs[0, 0]}\")"
   ]
  },
  {
   "cell_type": "code",
   "execution_count": 73,
   "id": "1bd8649f-ea53-49cd-8058-f9178848062f",
   "metadata": {},
   "outputs": [
    {
     "name": "stdout",
     "output_type": "stream",
     "text": [
      "mirtazapine\n",
      "venlafaxine\n",
      "pindolol\n",
      "duloxetine\n",
      "dipyridamole\n"
     ]
    }
   ],
   "source": [
    "for i in docs[0]:\n",
    "    print(corpus[i])"
   ]
  }
 ],
 "metadata": {
  "kernelspec": {
   "display_name": "Python 3 (ipykernel)",
   "language": "python",
   "name": "python3"
  },
  "language_info": {
   "codemirror_mode": {
    "name": "ipython",
    "version": 3
   },
   "file_extension": ".py",
   "mimetype": "text/x-python",
   "name": "python",
   "nbconvert_exporter": "python",
   "pygments_lexer": "ipython3",
   "version": "3.12.3"
  }
 },
 "nbformat": 4,
 "nbformat_minor": 5
}
