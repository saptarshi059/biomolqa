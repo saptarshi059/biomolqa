{
 "cells": [
  {
   "cell_type": "code",
   "execution_count": 1,
   "id": "47838ed0-fbf9-479d-be25-8396416e5863",
   "metadata": {},
   "outputs": [],
   "source": [
    "# Import Libraries\n",
    "from pandas.api.types import is_numeric_dtype\n",
    "from collections import defaultdict\n",
    "import plotly.graph_objects as go\n",
    "from Bio import Entrez, Medline\n",
    "import matplotlib.pyplot as plt\n",
    "from pathlib import Path\n",
    "import pubchempy as pcp\n",
    "from tqdm import tqdm\n",
    "import networkx as nx\n",
    "import pandas as pd\n",
    "import numpy as np\n",
    "import wikipedia\n",
    "import requests\n",
    "import signal\n",
    "import pickle\n",
    "import time\n",
    "import re\n",
    "\n",
    "# Set email address (required for NCBI API usage)\n",
    "Entrez.email = 'sks6765@psu.edu'"
   ]
  },
  {
   "cell_type": "code",
   "execution_count": null,
   "id": "4ea01064-aeba-438b-b03d-260fe35fc590",
   "metadata": {},
   "outputs": [],
   "source": [
    "def create_graph_viz(dataframe, column1, column2, label=1):\n",
    "    # Creating an interactive graph\n",
    "    G = nx.Graph()\n",
    "    \n",
    "    # Add edges to the graph\n",
    "    for index, row in dataframe.iterrows():\n",
    "        G.add_edge(row[column1], row[column2], label=row[label] if label != 1 else 1)\n",
    "    \n",
    "    # Add edge labels\n",
    "    edge_labels = {(u, v): d['label'] for u, v, d in G.edges(data=True)}\n",
    "    nx.set_edge_attributes(G, edge_labels, 'label')\n",
    "    \n",
    "    # Position nodes using spring layout\n",
    "    pos = nx.spring_layout(G)\n",
    "    \n",
    "    # Extract node and edge information\n",
    "    node_x = [pos[node][0] for node in G.nodes()]\n",
    "    node_y = [pos[node][1] for node in G.nodes()]\n",
    "    edge_x = []\n",
    "    edge_y = []\n",
    "    edge_text = []\n",
    "    for edge in G.edges():\n",
    "        source, target = edge\n",
    "        x0, y0 = pos[source]\n",
    "        x1, y1 = pos[target]\n",
    "        edge_x.append(x0)\n",
    "        edge_x.append(x1)\n",
    "        edge_x.append(None)\n",
    "        edge_y.append(y0)\n",
    "        edge_y.append(y1)\n",
    "        edge_y.append(None)\n",
    "        edge_text.append(G.get_edge_data(*edge)['label'])  # Use existing edge labels\n",
    "    \n",
    "    # Create a Plotly figure\n",
    "    fig = go.Figure(data=[go.Scatter(\n",
    "        x=edge_x,\n",
    "        y=edge_y,\n",
    "        mode='lines',\n",
    "        line_shape='spline',\n",
    "        opacity=0.5,\n",
    "        hoverinfo='none'\n",
    "    ),\n",
    "    go.Scatter(\n",
    "        x=node_x,\n",
    "        y=node_y,\n",
    "        mode='markers',\n",
    "        hoverinfo='text',\n",
    "        hovertext=[f'Node {node}' for node in G.nodes()]\n",
    "    ),\n",
    "    go.Scatter(\n",
    "        x=[(pos[edge[0]][0] + pos[edge[1]][0]) / 2 for edge in G.edges()],\n",
    "        y=[(pos[edge[0]][1] + pos[edge[1]][1]) / 2 for edge in G.edges()],\n",
    "        mode='text',\n",
    "        text=edge_text,\n",
    "        textposition='middle center',\n",
    "        hoverinfo='none'\n",
    "    )])\n",
    "    \n",
    "    # Customize the layout\n",
    "    fig.update_layout(\n",
    "        showlegend=False,\n",
    "        hovermode='x',\n",
    "        margin=dict(b=20, l=5, r=5, t=40),\n",
    "        xaxis=dict(showgrid=False, zeroline=False, showticklabels=False),\n",
    "        yaxis=dict(showgrid=False, zeroline=False, showticklabels=False))\n",
    "    \n",
    "    # Display the figure\n",
    "    fig.show()"
   ]
  },
  {
   "cell_type": "markdown",
   "id": "8eb589ef-f268-4be7-81fd-dabe969a12d3",
   "metadata": {},
   "source": [
    "### DDI Sampling"
   ]
  },
  {
   "cell_type": "code",
   "execution_count": 4,
   "id": "82bb7bbc-35d7-4602-95ec-987c7ce468f0",
   "metadata": {},
   "outputs": [],
   "source": [
    "class TimeoutError(Exception):\n",
    "    pass\n",
    "\n",
    "def timeout_handler(signum, frame):\n",
    "    raise TimeoutError\n",
    "\n",
    "def CID_information(CID: int, timeout: int = 2):\n",
    "\n",
    "    # Set the signal handler\n",
    "    signal.signal(signal.SIGALRM, timeout_handler)\n",
    "\n",
    "    # Set the alarm\n",
    "    signal.alarm(timeout)\n",
    "\n",
    "    try:\n",
    "        cleaned_cid = int(re.sub(r\"CID[m|s]*0*\", \"\", CID))\n",
    "        compound = pcp.Compound.from_cid(cleaned_cid)\n",
    "        try:\n",
    "            compound_name = compound.synonyms[0]\n",
    "        except:\n",
    "            compound_name = compound.iupac_name\n",
    "        return (compound_name, compound.canonical_smiles)\n",
    "    except TimeoutError:\n",
    "        print(\"Timeout: Function took too long to complete.\")\n",
    "        return None\n",
    "    finally:\n",
    "        # Disable the alarm\n",
    "        signal.alarm(0)"
   ]
  },
  {
   "cell_type": "code",
   "execution_count": null,
   "id": "2e41a15e-93ba-4add-90c6-d568f3fd4d80",
   "metadata": {},
   "outputs": [],
   "source": [
    "# Run this cell only once! - Create and save the deterministic subgraph dataframe\n",
    "ddi = pd.read_csv(\"../data/bio-decagon-combo.csv\")\n",
    "\n",
    "random_state = 85\n",
    "np.random.seed(random_state)\n",
    "\n",
    "G = nx.from_pandas_edgelist(ddi, 'STITCH 1', 'STITCH 2')\n",
    "\n",
    "# Get the largest connected component\n",
    "largest_component = max(nx.connected_components(G), key=len)\n",
    "\n",
    "# Sample nodes from the largest component\n",
    "sample_size = 270\n",
    "sample_nodes = np.random.choice(list(largest_component), size=sample_size, replace=False)\n",
    "\n",
    "# Get the subgraph induced by the sampled nodes\n",
    "subgraph = G.subgraph(sample_nodes)\n",
    "\n",
    "# Convert the subgraph back to a DataFrame\n",
    "sampled_df = nx.to_pandas_edgelist(subgraph)\n",
    "\n",
    "sampled_df.rename(columns={\"source\": \"STITCH 1\", \"target\": \"STITCH 2\"}, inplace=True)\n",
    "\n",
    "# Merging the sampled df with base ddi to get the side effect names\n",
    "sampled_df = pd.merge(sampled_df, ddi).drop_duplicates(subset=[\"STITCH 1\", \"STITCH 2\"])\n",
    "\n",
    "sampled_df.to_csv(\"sampled_ddi.csv\", index=False)"
   ]
  },
  {
   "cell_type": "code",
   "execution_count": 2,
   "id": "52d22710-a8f4-49ff-994f-e799b66b65c3",
   "metadata": {},
   "outputs": [],
   "source": [
    "sampled_df = pd.read_csv(\"sampled_ddi.csv\")"
   ]
  },
  {
   "cell_type": "code",
   "execution_count": null,
   "id": "6781c59b-6774-449c-9fce-2d846a19b35c",
   "metadata": {},
   "outputs": [],
   "source": [
    "# Sanity Check the output\n",
    "\n",
    "# Visualizing sampled_df as a graph to see that there are no disconnected edges\n",
    "create_graph_viz(sampled_df, \"STITCH 1\", \"STITCH 2\")\n",
    "\n",
    "all_drugs_according_to_df = len(set(sampled_df['STITCH 1'].to_list()).union(set(sampled_df['STITCH 2'].to_list())))\n",
    "\n",
    "# Verify that you get the same value from the sampled_df as a graph\n",
    "G = nx.from_pandas_edgelist(sampled_df, 'STITCH 1', 'STITCH 2')\n",
    "number_of_drug_nodes = len(G.nodes())\n",
    "\n",
    "assert all_drugs_according_to_df == number_of_drug_nodes\n",
    "\n",
    "sampled_df"
   ]
  },
  {
   "cell_type": "code",
   "execution_count": 6,
   "id": "7109eb20-1e03-4d05-b0d6-56951c391fd1",
   "metadata": {},
   "outputs": [
    {
     "name": "stderr",
     "output_type": "stream",
     "text": [
      "50it [00:59,  1.27s/it]"
     ]
    },
    {
     "name": "stdout",
     "output_type": "stream",
     "text": [
      "Samples collected so far: 51 | Current idx: 50. Saving checkpoint and cooling down ...\n"
     ]
    },
    {
     "name": "stderr",
     "output_type": "stream",
     "text": [
      "100it [02:00,  1.08s/it]"
     ]
    },
    {
     "name": "stdout",
     "output_type": "stream",
     "text": [
      "Samples collected so far: 101 | Current idx: 100. Saving checkpoint and cooling down ...\n"
     ]
    },
    {
     "name": "stderr",
     "output_type": "stream",
     "text": [
      "150it [03:04,  1.09s/it]"
     ]
    },
    {
     "name": "stdout",
     "output_type": "stream",
     "text": [
      "Samples collected so far: 151 | Current idx: 150. Saving checkpoint and cooling down ...\n"
     ]
    },
    {
     "name": "stderr",
     "output_type": "stream",
     "text": [
      "200it [04:06,  1.33s/it]"
     ]
    },
    {
     "name": "stdout",
     "output_type": "stream",
     "text": [
      "Samples collected so far: 201 | Current idx: 200. Saving checkpoint and cooling down ...\n"
     ]
    },
    {
     "name": "stderr",
     "output_type": "stream",
     "text": [
      "250it [05:07,  1.06s/it]"
     ]
    },
    {
     "name": "stdout",
     "output_type": "stream",
     "text": [
      "Samples collected so far: 251 | Current idx: 250. Saving checkpoint and cooling down ...\n"
     ]
    },
    {
     "name": "stderr",
     "output_type": "stream",
     "text": [
      "300it [06:10,  1.23s/it]"
     ]
    },
    {
     "name": "stdout",
     "output_type": "stream",
     "text": [
      "Samples collected so far: 301 | Current idx: 300. Saving checkpoint and cooling down ...\n"
     ]
    },
    {
     "name": "stderr",
     "output_type": "stream",
     "text": [
      "350it [07:11,  1.11s/it]"
     ]
    },
    {
     "name": "stdout",
     "output_type": "stream",
     "text": [
      "Samples collected so far: 351 | Current idx: 350. Saving checkpoint and cooling down ...\n"
     ]
    },
    {
     "name": "stderr",
     "output_type": "stream",
     "text": [
      "400it [08:10,  1.07s/it]"
     ]
    },
    {
     "name": "stdout",
     "output_type": "stream",
     "text": [
      "Samples collected so far: 401 | Current idx: 400. Saving checkpoint and cooling down ...\n"
     ]
    },
    {
     "name": "stderr",
     "output_type": "stream",
     "text": [
      "450it [09:11,  1.11s/it]"
     ]
    },
    {
     "name": "stdout",
     "output_type": "stream",
     "text": [
      "Samples collected so far: 451 | Current idx: 450. Saving checkpoint and cooling down ...\n"
     ]
    },
    {
     "name": "stderr",
     "output_type": "stream",
     "text": [
      "500it [10:14,  1.14s/it]"
     ]
    },
    {
     "name": "stdout",
     "output_type": "stream",
     "text": [
      "Samples collected so far: 501 | Current idx: 500. Saving checkpoint and cooling down ...\n"
     ]
    },
    {
     "name": "stderr",
     "output_type": "stream",
     "text": [
      "550it [11:15,  1.10s/it]"
     ]
    },
    {
     "name": "stdout",
     "output_type": "stream",
     "text": [
      "Samples collected so far: 551 | Current idx: 550. Saving checkpoint and cooling down ...\n"
     ]
    },
    {
     "name": "stderr",
     "output_type": "stream",
     "text": [
      "600it [12:16,  1.08s/it]"
     ]
    },
    {
     "name": "stdout",
     "output_type": "stream",
     "text": [
      "Samples collected so far: 601 | Current idx: 600. Saving checkpoint and cooling down ...\n"
     ]
    },
    {
     "name": "stderr",
     "output_type": "stream",
     "text": [
      "650it [13:18,  1.06s/it]"
     ]
    },
    {
     "name": "stdout",
     "output_type": "stream",
     "text": [
      "Samples collected so far: 651 | Current idx: 650. Saving checkpoint and cooling down ...\n"
     ]
    },
    {
     "name": "stderr",
     "output_type": "stream",
     "text": [
      "700it [14:18,  1.21s/it]"
     ]
    },
    {
     "name": "stdout",
     "output_type": "stream",
     "text": [
      "Samples collected so far: 701 | Current idx: 700. Saving checkpoint and cooling down ...\n"
     ]
    },
    {
     "name": "stderr",
     "output_type": "stream",
     "text": [
      "750it [15:17,  1.04s/it]"
     ]
    },
    {
     "name": "stdout",
     "output_type": "stream",
     "text": [
      "Samples collected so far: 751 | Current idx: 750. Saving checkpoint and cooling down ...\n"
     ]
    },
    {
     "name": "stderr",
     "output_type": "stream",
     "text": [
      "800it [16:19,  1.18s/it]"
     ]
    },
    {
     "name": "stdout",
     "output_type": "stream",
     "text": [
      "Samples collected so far: 801 | Current idx: 800. Saving checkpoint and cooling down ...\n"
     ]
    },
    {
     "name": "stderr",
     "output_type": "stream",
     "text": [
      "850it [17:21,  1.01s/it]"
     ]
    },
    {
     "name": "stdout",
     "output_type": "stream",
     "text": [
      "Samples collected so far: 851 | Current idx: 850. Saving checkpoint and cooling down ...\n"
     ]
    },
    {
     "name": "stderr",
     "output_type": "stream",
     "text": [
      "900it [18:19,  1.08s/it]"
     ]
    },
    {
     "name": "stdout",
     "output_type": "stream",
     "text": [
      "Samples collected so far: 901 | Current idx: 900. Saving checkpoint and cooling down ...\n"
     ]
    },
    {
     "name": "stderr",
     "output_type": "stream",
     "text": [
      "950it [19:20,  1.25s/it]"
     ]
    },
    {
     "name": "stdout",
     "output_type": "stream",
     "text": [
      "Samples collected so far: 951 | Current idx: 950. Saving checkpoint and cooling down ...\n"
     ]
    },
    {
     "name": "stderr",
     "output_type": "stream",
     "text": [
      "953it [19:28,  1.83s/it]"
     ]
    },
    {
     "name": "stdout",
     "output_type": "stream",
     "text": [
      "Timeout: Function took too long to complete.\n"
     ]
    },
    {
     "name": "stderr",
     "output_type": "stream",
     "text": [
      "1000it [20:22,  1.01s/it]"
     ]
    },
    {
     "name": "stdout",
     "output_type": "stream",
     "text": [
      "Samples collected so far: 1000 | Current idx: 1000. Saving checkpoint and cooling down ...\n"
     ]
    },
    {
     "name": "stderr",
     "output_type": "stream",
     "text": [
      "1050it [21:23,  1.09s/it]"
     ]
    },
    {
     "name": "stdout",
     "output_type": "stream",
     "text": [
      "Samples collected so far: 1050 | Current idx: 1050. Saving checkpoint and cooling down ...\n"
     ]
    },
    {
     "name": "stderr",
     "output_type": "stream",
     "text": [
      "1100it [22:23,  1.10s/it]"
     ]
    },
    {
     "name": "stdout",
     "output_type": "stream",
     "text": [
      "Samples collected so far: 1100 | Current idx: 1100. Saving checkpoint and cooling down ...\n"
     ]
    },
    {
     "name": "stderr",
     "output_type": "stream",
     "text": [
      "1150it [23:22,  1.03s/it]"
     ]
    },
    {
     "name": "stdout",
     "output_type": "stream",
     "text": [
      "Samples collected so far: 1150 | Current idx: 1150. Saving checkpoint and cooling down ...\n"
     ]
    },
    {
     "name": "stderr",
     "output_type": "stream",
     "text": [
      "1200it [24:20,  1.00s/it]"
     ]
    },
    {
     "name": "stdout",
     "output_type": "stream",
     "text": [
      "Samples collected so far: 1200 | Current idx: 1200. Saving checkpoint and cooling down ...\n"
     ]
    },
    {
     "name": "stderr",
     "output_type": "stream",
     "text": [
      "1250it [25:21,  1.02s/it]"
     ]
    },
    {
     "name": "stdout",
     "output_type": "stream",
     "text": [
      "Samples collected so far: 1250 | Current idx: 1250. Saving checkpoint and cooling down ...\n"
     ]
    },
    {
     "name": "stderr",
     "output_type": "stream",
     "text": [
      "1300it [26:20,  1.11s/it]"
     ]
    },
    {
     "name": "stdout",
     "output_type": "stream",
     "text": [
      "Samples collected so far: 1300 | Current idx: 1300. Saving checkpoint and cooling down ...\n"
     ]
    },
    {
     "name": "stderr",
     "output_type": "stream",
     "text": [
      "1350it [27:21,  1.27s/it]"
     ]
    },
    {
     "name": "stdout",
     "output_type": "stream",
     "text": [
      "Samples collected so far: 1350 | Current idx: 1350. Saving checkpoint and cooling down ...\n"
     ]
    },
    {
     "name": "stderr",
     "output_type": "stream",
     "text": [
      "1400it [28:21,  1.05s/it]"
     ]
    },
    {
     "name": "stdout",
     "output_type": "stream",
     "text": [
      "Samples collected so far: 1400 | Current idx: 1400. Saving checkpoint and cooling down ...\n"
     ]
    },
    {
     "name": "stderr",
     "output_type": "stream",
     "text": [
      "1450it [29:22,  1.03s/it]"
     ]
    },
    {
     "name": "stdout",
     "output_type": "stream",
     "text": [
      "Samples collected so far: 1450 | Current idx: 1450. Saving checkpoint and cooling down ...\n"
     ]
    },
    {
     "name": "stderr",
     "output_type": "stream",
     "text": [
      "1500it [30:21,  1.04s/it]"
     ]
    },
    {
     "name": "stdout",
     "output_type": "stream",
     "text": [
      "Samples collected so far: 1500 | Current idx: 1500. Saving checkpoint and cooling down ...\n"
     ]
    },
    {
     "name": "stderr",
     "output_type": "stream",
     "text": [
      "1550it [31:19,  1.06s/it]"
     ]
    },
    {
     "name": "stdout",
     "output_type": "stream",
     "text": [
      "Samples collected so far: 1550 | Current idx: 1550. Saving checkpoint and cooling down ...\n"
     ]
    },
    {
     "name": "stderr",
     "output_type": "stream",
     "text": [
      "1600it [32:18,  1.05s/it]"
     ]
    },
    {
     "name": "stdout",
     "output_type": "stream",
     "text": [
      "Samples collected so far: 1600 | Current idx: 1600. Saving checkpoint and cooling down ...\n"
     ]
    },
    {
     "name": "stderr",
     "output_type": "stream",
     "text": [
      "1650it [33:17,  1.02s/it]"
     ]
    },
    {
     "name": "stdout",
     "output_type": "stream",
     "text": [
      "Samples collected so far: 1650 | Current idx: 1650. Saving checkpoint and cooling down ...\n"
     ]
    },
    {
     "name": "stderr",
     "output_type": "stream",
     "text": [
      "1700it [34:18,  1.07s/it]"
     ]
    },
    {
     "name": "stdout",
     "output_type": "stream",
     "text": [
      "Samples collected so far: 1700 | Current idx: 1700. Saving checkpoint and cooling down ...\n"
     ]
    },
    {
     "name": "stderr",
     "output_type": "stream",
     "text": [
      "1750it [35:18,  1.04s/it]"
     ]
    },
    {
     "name": "stdout",
     "output_type": "stream",
     "text": [
      "Samples collected so far: 1750 | Current idx: 1750. Saving checkpoint and cooling down ...\n"
     ]
    },
    {
     "name": "stderr",
     "output_type": "stream",
     "text": [
      "1800it [53:01, 110.20s/it]"
     ]
    },
    {
     "name": "stdout",
     "output_type": "stream",
     "text": [
      "Samples collected so far: 1800 | Current idx: 1800. Saving checkpoint and cooling down ...\n"
     ]
    },
    {
     "name": "stderr",
     "output_type": "stream",
     "text": [
      "1850it [54:07,  1.05s/it] "
     ]
    },
    {
     "name": "stdout",
     "output_type": "stream",
     "text": [
      "Samples collected so far: 1850 | Current idx: 1850. Saving checkpoint and cooling down ...\n"
     ]
    },
    {
     "name": "stderr",
     "output_type": "stream",
     "text": [
      "1900it [55:05,  1.02s/it]"
     ]
    },
    {
     "name": "stdout",
     "output_type": "stream",
     "text": [
      "Samples collected so far: 1900 | Current idx: 1900. Saving checkpoint and cooling down ...\n"
     ]
    },
    {
     "name": "stderr",
     "output_type": "stream",
     "text": [
      "1950it [56:06,  1.09s/it]"
     ]
    },
    {
     "name": "stdout",
     "output_type": "stream",
     "text": [
      "Samples collected so far: 1950 | Current idx: 1950. Saving checkpoint and cooling down ...\n"
     ]
    },
    {
     "name": "stderr",
     "output_type": "stream",
     "text": [
      "2000it [57:04,  1.01it/s]"
     ]
    },
    {
     "name": "stdout",
     "output_type": "stream",
     "text": [
      "Samples collected so far: 2000 | Current idx: 2000. Saving checkpoint and cooling down ...\n"
     ]
    },
    {
     "name": "stderr",
     "output_type": "stream",
     "text": [
      "2050it [58:05,  1.47s/it]"
     ]
    },
    {
     "name": "stdout",
     "output_type": "stream",
     "text": [
      "Samples collected so far: 2050 | Current idx: 2050. Saving checkpoint and cooling down ...\n"
     ]
    },
    {
     "name": "stderr",
     "output_type": "stream",
     "text": [
      "2100it [59:02,  1.04s/it]"
     ]
    },
    {
     "name": "stdout",
     "output_type": "stream",
     "text": [
      "Samples collected so far: 2100 | Current idx: 2100. Saving checkpoint and cooling down ...\n"
     ]
    },
    {
     "name": "stderr",
     "output_type": "stream",
     "text": [
      "2150it [1:00:04,  1.19s/it]"
     ]
    },
    {
     "name": "stdout",
     "output_type": "stream",
     "text": [
      "Samples collected so far: 2150 | Current idx: 2150. Saving checkpoint and cooling down ...\n"
     ]
    },
    {
     "name": "stderr",
     "output_type": "stream",
     "text": [
      "2200it [1:01:05,  1.03s/it]"
     ]
    },
    {
     "name": "stdout",
     "output_type": "stream",
     "text": [
      "Samples collected so far: 2200 | Current idx: 2200. Saving checkpoint and cooling down ...\n"
     ]
    },
    {
     "name": "stderr",
     "output_type": "stream",
     "text": [
      "2250it [1:02:05,  1.01s/it]"
     ]
    },
    {
     "name": "stdout",
     "output_type": "stream",
     "text": [
      "Samples collected so far: 2250 | Current idx: 2250. Saving checkpoint and cooling down ...\n"
     ]
    },
    {
     "name": "stderr",
     "output_type": "stream",
     "text": [
      "2300it [1:03:10,  1.33s/it]"
     ]
    },
    {
     "name": "stdout",
     "output_type": "stream",
     "text": [
      "Samples collected so far: 2300 | Current idx: 2300. Saving checkpoint and cooling down ...\n"
     ]
    },
    {
     "name": "stderr",
     "output_type": "stream",
     "text": [
      "2350it [1:04:12,  1.16s/it]"
     ]
    },
    {
     "name": "stdout",
     "output_type": "stream",
     "text": [
      "Samples collected so far: 2350 | Current idx: 2350. Saving checkpoint and cooling down ...\n"
     ]
    },
    {
     "name": "stderr",
     "output_type": "stream",
     "text": [
      "2400it [1:05:10,  1.02it/s]"
     ]
    },
    {
     "name": "stdout",
     "output_type": "stream",
     "text": [
      "Samples collected so far: 2400 | Current idx: 2400. Saving checkpoint and cooling down ...\n"
     ]
    },
    {
     "name": "stderr",
     "output_type": "stream",
     "text": [
      "2450it [1:06:09,  1.20s/it]"
     ]
    },
    {
     "name": "stdout",
     "output_type": "stream",
     "text": [
      "Samples collected so far: 2450 | Current idx: 2450. Saving checkpoint and cooling down ...\n"
     ]
    },
    {
     "name": "stderr",
     "output_type": "stream",
     "text": [
      "2500it [1:07:09,  1.22s/it]"
     ]
    },
    {
     "name": "stdout",
     "output_type": "stream",
     "text": [
      "Samples collected so far: 2500 | Current idx: 2500. Saving checkpoint and cooling down ...\n"
     ]
    },
    {
     "name": "stderr",
     "output_type": "stream",
     "text": [
      "2550it [1:08:08,  1.12s/it]"
     ]
    },
    {
     "name": "stdout",
     "output_type": "stream",
     "text": [
      "Samples collected so far: 2550 | Current idx: 2550. Saving checkpoint and cooling down ...\n"
     ]
    },
    {
     "name": "stderr",
     "output_type": "stream",
     "text": [
      "2600it [1:09:07,  1.01s/it]"
     ]
    },
    {
     "name": "stdout",
     "output_type": "stream",
     "text": [
      "Samples collected so far: 2600 | Current idx: 2600. Saving checkpoint and cooling down ...\n"
     ]
    },
    {
     "name": "stderr",
     "output_type": "stream",
     "text": [
      "2650it [1:10:13,  1.27s/it]"
     ]
    },
    {
     "name": "stdout",
     "output_type": "stream",
     "text": [
      "Samples collected so far: 2650 | Current idx: 2650. Saving checkpoint and cooling down ...\n"
     ]
    },
    {
     "name": "stderr",
     "output_type": "stream",
     "text": [
      "2700it [1:11:22,  1.13s/it]"
     ]
    },
    {
     "name": "stdout",
     "output_type": "stream",
     "text": [
      "Samples collected so far: 2700 | Current idx: 2700. Saving checkpoint and cooling down ...\n"
     ]
    },
    {
     "name": "stderr",
     "output_type": "stream",
     "text": [
      "2750it [1:12:27,  1.15s/it]"
     ]
    },
    {
     "name": "stdout",
     "output_type": "stream",
     "text": [
      "Samples collected so far: 2750 | Current idx: 2750. Saving checkpoint and cooling down ...\n"
     ]
    },
    {
     "name": "stderr",
     "output_type": "stream",
     "text": [
      "2800it [1:13:25,  1.13s/it]"
     ]
    },
    {
     "name": "stdout",
     "output_type": "stream",
     "text": [
      "Samples collected so far: 2800 | Current idx: 2800. Saving checkpoint and cooling down ...\n"
     ]
    },
    {
     "name": "stderr",
     "output_type": "stream",
     "text": [
      "2850it [1:14:39,  1.29s/it]"
     ]
    },
    {
     "name": "stdout",
     "output_type": "stream",
     "text": [
      "Samples collected so far: 2850 | Current idx: 2850. Saving checkpoint and cooling down ...\n"
     ]
    },
    {
     "name": "stderr",
     "output_type": "stream",
     "text": [
      "2900it [1:15:42,  1.15s/it]"
     ]
    },
    {
     "name": "stdout",
     "output_type": "stream",
     "text": [
      "Samples collected so far: 2900 | Current idx: 2900. Saving checkpoint and cooling down ...\n"
     ]
    },
    {
     "name": "stderr",
     "output_type": "stream",
     "text": [
      "2950it [1:16:40,  1.16s/it]"
     ]
    },
    {
     "name": "stdout",
     "output_type": "stream",
     "text": [
      "Samples collected so far: 2950 | Current idx: 2950. Saving checkpoint and cooling down ...\n"
     ]
    },
    {
     "name": "stderr",
     "output_type": "stream",
     "text": [
      "3000it [1:17:43,  1.49s/it]"
     ]
    },
    {
     "name": "stdout",
     "output_type": "stream",
     "text": [
      "Samples collected so far: 3000 | Current idx: 3000. Saving checkpoint and cooling down ...\n"
     ]
    },
    {
     "name": "stderr",
     "output_type": "stream",
     "text": [
      "3050it [1:18:42,  1.12s/it]"
     ]
    },
    {
     "name": "stdout",
     "output_type": "stream",
     "text": [
      "Samples collected so far: 3050 | Current idx: 3050. Saving checkpoint and cooling down ...\n"
     ]
    },
    {
     "name": "stderr",
     "output_type": "stream",
     "text": [
      "3100it [1:19:43,  1.11s/it]"
     ]
    },
    {
     "name": "stdout",
     "output_type": "stream",
     "text": [
      "Samples collected so far: 3100 | Current idx: 3100. Saving checkpoint and cooling down ...\n"
     ]
    },
    {
     "name": "stderr",
     "output_type": "stream",
     "text": [
      "3150it [1:20:47,  1.31s/it]"
     ]
    },
    {
     "name": "stdout",
     "output_type": "stream",
     "text": [
      "Samples collected so far: 3150 | Current idx: 3150. Saving checkpoint and cooling down ...\n"
     ]
    },
    {
     "name": "stderr",
     "output_type": "stream",
     "text": [
      "3200it [1:21:48,  1.07s/it]"
     ]
    },
    {
     "name": "stdout",
     "output_type": "stream",
     "text": [
      "Samples collected so far: 3200 | Current idx: 3200. Saving checkpoint and cooling down ...\n"
     ]
    },
    {
     "name": "stderr",
     "output_type": "stream",
     "text": [
      "3250it [1:22:46,  1.26s/it]"
     ]
    },
    {
     "name": "stdout",
     "output_type": "stream",
     "text": [
      "Samples collected so far: 3250 | Current idx: 3250. Saving checkpoint and cooling down ...\n"
     ]
    },
    {
     "name": "stderr",
     "output_type": "stream",
     "text": [
      "3300it [1:23:49,  1.68s/it]"
     ]
    },
    {
     "name": "stdout",
     "output_type": "stream",
     "text": [
      "Samples collected so far: 3300 | Current idx: 3300. Saving checkpoint and cooling down ...\n"
     ]
    },
    {
     "name": "stderr",
     "output_type": "stream",
     "text": [
      "3350it [1:24:57,  1.12s/it]"
     ]
    },
    {
     "name": "stdout",
     "output_type": "stream",
     "text": [
      "Samples collected so far: 3350 | Current idx: 3350. Saving checkpoint and cooling down ...\n"
     ]
    },
    {
     "name": "stderr",
     "output_type": "stream",
     "text": [
      "3400it [1:25:55,  1.06s/it]"
     ]
    },
    {
     "name": "stdout",
     "output_type": "stream",
     "text": [
      "Samples collected so far: 3400 | Current idx: 3400. Saving checkpoint and cooling down ...\n"
     ]
    },
    {
     "name": "stderr",
     "output_type": "stream",
     "text": [
      "3450it [1:26:51,  1.01s/it]"
     ]
    },
    {
     "name": "stdout",
     "output_type": "stream",
     "text": [
      "Samples collected so far: 3450 | Current idx: 3450. Saving checkpoint and cooling down ...\n"
     ]
    },
    {
     "name": "stderr",
     "output_type": "stream",
     "text": [
      "3500it [1:27:49,  1.00it/s]"
     ]
    },
    {
     "name": "stdout",
     "output_type": "stream",
     "text": [
      "Samples collected so far: 3500 | Current idx: 3500. Saving checkpoint and cooling down ...\n"
     ]
    },
    {
     "name": "stderr",
     "output_type": "stream",
     "text": [
      "3550it [1:28:49,  1.16s/it]"
     ]
    },
    {
     "name": "stdout",
     "output_type": "stream",
     "text": [
      "Samples collected so far: 3550 | Current idx: 3550. Saving checkpoint and cooling down ...\n"
     ]
    },
    {
     "name": "stderr",
     "output_type": "stream",
     "text": [
      "3600it [1:29:49,  1.03s/it]"
     ]
    },
    {
     "name": "stdout",
     "output_type": "stream",
     "text": [
      "Samples collected so far: 3600 | Current idx: 3600. Saving checkpoint and cooling down ...\n"
     ]
    },
    {
     "name": "stderr",
     "output_type": "stream",
     "text": [
      "3650it [1:30:52,  1.13s/it]"
     ]
    },
    {
     "name": "stdout",
     "output_type": "stream",
     "text": [
      "Samples collected so far: 3650 | Current idx: 3650. Saving checkpoint and cooling down ...\n"
     ]
    },
    {
     "name": "stderr",
     "output_type": "stream",
     "text": [
      "3700it [1:31:52,  1.10s/it]"
     ]
    },
    {
     "name": "stdout",
     "output_type": "stream",
     "text": [
      "Samples collected so far: 3700 | Current idx: 3700. Saving checkpoint and cooling down ...\n"
     ]
    },
    {
     "name": "stderr",
     "output_type": "stream",
     "text": [
      "3750it [1:32:51,  1.06s/it]"
     ]
    },
    {
     "name": "stdout",
     "output_type": "stream",
     "text": [
      "Samples collected so far: 3750 | Current idx: 3750. Saving checkpoint and cooling down ...\n"
     ]
    },
    {
     "name": "stderr",
     "output_type": "stream",
     "text": [
      "3800it [1:33:51,  1.04s/it]"
     ]
    },
    {
     "name": "stdout",
     "output_type": "stream",
     "text": [
      "Samples collected so far: 3800 | Current idx: 3800. Saving checkpoint and cooling down ...\n"
     ]
    },
    {
     "name": "stderr",
     "output_type": "stream",
     "text": [
      "3850it [1:34:52,  1.03s/it]"
     ]
    },
    {
     "name": "stdout",
     "output_type": "stream",
     "text": [
      "Samples collected so far: 3850 | Current idx: 3850. Saving checkpoint and cooling down ...\n"
     ]
    },
    {
     "name": "stderr",
     "output_type": "stream",
     "text": [
      "3900it [1:35:50,  1.01it/s]"
     ]
    },
    {
     "name": "stdout",
     "output_type": "stream",
     "text": [
      "Samples collected so far: 3900 | Current idx: 3900. Saving checkpoint and cooling down ...\n"
     ]
    },
    {
     "name": "stderr",
     "output_type": "stream",
     "text": [
      "3950it [1:36:50,  1.15s/it]"
     ]
    },
    {
     "name": "stdout",
     "output_type": "stream",
     "text": [
      "Samples collected so far: 3950 | Current idx: 3950. Saving checkpoint and cooling down ...\n"
     ]
    },
    {
     "name": "stderr",
     "output_type": "stream",
     "text": [
      "4000it [1:37:46,  1.00it/s]"
     ]
    },
    {
     "name": "stdout",
     "output_type": "stream",
     "text": [
      "Samples collected so far: 4000 | Current idx: 4000. Saving checkpoint and cooling down ...\n"
     ]
    },
    {
     "name": "stderr",
     "output_type": "stream",
     "text": [
      "4050it [1:38:43,  1.01s/it]"
     ]
    },
    {
     "name": "stdout",
     "output_type": "stream",
     "text": [
      "Samples collected so far: 4050 | Current idx: 4050. Saving checkpoint and cooling down ...\n"
     ]
    },
    {
     "name": "stderr",
     "output_type": "stream",
     "text": [
      "4100it [1:39:41,  1.09s/it]"
     ]
    },
    {
     "name": "stdout",
     "output_type": "stream",
     "text": [
      "Samples collected so far: 4100 | Current idx: 4100. Saving checkpoint and cooling down ...\n"
     ]
    },
    {
     "name": "stderr",
     "output_type": "stream",
     "text": [
      "4150it [1:40:39,  1.11s/it]"
     ]
    },
    {
     "name": "stdout",
     "output_type": "stream",
     "text": [
      "Samples collected so far: 4150 | Current idx: 4150. Saving checkpoint and cooling down ...\n"
     ]
    },
    {
     "name": "stderr",
     "output_type": "stream",
     "text": [
      "4200it [1:41:36,  1.03s/it]"
     ]
    },
    {
     "name": "stdout",
     "output_type": "stream",
     "text": [
      "Samples collected so far: 4200 | Current idx: 4200. Saving checkpoint and cooling down ...\n"
     ]
    },
    {
     "name": "stderr",
     "output_type": "stream",
     "text": [
      "4250it [1:42:35,  1.04s/it]"
     ]
    },
    {
     "name": "stdout",
     "output_type": "stream",
     "text": [
      "Samples collected so far: 4250 | Current idx: 4250. Saving checkpoint and cooling down ...\n"
     ]
    },
    {
     "name": "stderr",
     "output_type": "stream",
     "text": [
      "4300it [1:43:36,  1.05s/it]"
     ]
    },
    {
     "name": "stdout",
     "output_type": "stream",
     "text": [
      "Samples collected so far: 4300 | Current idx: 4300. Saving checkpoint and cooling down ...\n"
     ]
    },
    {
     "name": "stderr",
     "output_type": "stream",
     "text": [
      "4350it [1:44:54,  1.51s/it]"
     ]
    },
    {
     "name": "stdout",
     "output_type": "stream",
     "text": [
      "Samples collected so far: 4350 | Current idx: 4350. Saving checkpoint and cooling down ...\n"
     ]
    },
    {
     "name": "stderr",
     "output_type": "stream",
     "text": [
      "4400it [1:46:11,  1.16s/it]"
     ]
    },
    {
     "name": "stdout",
     "output_type": "stream",
     "text": [
      "Samples collected so far: 4400 | Current idx: 4400. Saving checkpoint and cooling down ...\n"
     ]
    },
    {
     "name": "stderr",
     "output_type": "stream",
     "text": [
      "4450it [1:47:12,  1.03s/it]"
     ]
    },
    {
     "name": "stdout",
     "output_type": "stream",
     "text": [
      "Samples collected so far: 4450 | Current idx: 4450. Saving checkpoint and cooling down ...\n"
     ]
    },
    {
     "name": "stderr",
     "output_type": "stream",
     "text": [
      "4500it [1:48:12,  1.30s/it]"
     ]
    },
    {
     "name": "stdout",
     "output_type": "stream",
     "text": [
      "Samples collected so far: 4500 | Current idx: 4500. Saving checkpoint and cooling down ...\n"
     ]
    },
    {
     "name": "stderr",
     "output_type": "stream",
     "text": [
      "4550it [1:49:23,  1.18s/it]"
     ]
    },
    {
     "name": "stdout",
     "output_type": "stream",
     "text": [
      "Samples collected so far: 4550 | Current idx: 4550. Saving checkpoint and cooling down ...\n"
     ]
    },
    {
     "name": "stderr",
     "output_type": "stream",
     "text": [
      "4600it [1:50:39,  1.53s/it]"
     ]
    },
    {
     "name": "stdout",
     "output_type": "stream",
     "text": [
      "Samples collected so far: 4600 | Current idx: 4600. Saving checkpoint and cooling down ...\n"
     ]
    },
    {
     "name": "stderr",
     "output_type": "stream",
     "text": [
      "4650it [1:51:44,  1.23s/it]"
     ]
    },
    {
     "name": "stdout",
     "output_type": "stream",
     "text": [
      "Samples collected so far: 4650 | Current idx: 4650. Saving checkpoint and cooling down ...\n"
     ]
    },
    {
     "name": "stderr",
     "output_type": "stream",
     "text": [
      "4700it [1:52:56,  1.18s/it]"
     ]
    },
    {
     "name": "stdout",
     "output_type": "stream",
     "text": [
      "Samples collected so far: 4700 | Current idx: 4700. Saving checkpoint and cooling down ...\n"
     ]
    },
    {
     "name": "stderr",
     "output_type": "stream",
     "text": [
      "4750it [1:54:13,  1.28s/it]"
     ]
    },
    {
     "name": "stdout",
     "output_type": "stream",
     "text": [
      "Samples collected so far: 4750 | Current idx: 4750. Saving checkpoint and cooling down ...\n"
     ]
    },
    {
     "name": "stderr",
     "output_type": "stream",
     "text": [
      "4800it [1:55:12,  1.14s/it]"
     ]
    },
    {
     "name": "stdout",
     "output_type": "stream",
     "text": [
      "Samples collected so far: 4800 | Current idx: 4800. Saving checkpoint and cooling down ...\n"
     ]
    },
    {
     "name": "stderr",
     "output_type": "stream",
     "text": [
      "4850it [1:56:25,  1.59s/it]"
     ]
    },
    {
     "name": "stdout",
     "output_type": "stream",
     "text": [
      "Samples collected so far: 4850 | Current idx: 4850. Saving checkpoint and cooling down ...\n"
     ]
    },
    {
     "name": "stderr",
     "output_type": "stream",
     "text": [
      "4900it [1:57:43,  1.43s/it]"
     ]
    },
    {
     "name": "stdout",
     "output_type": "stream",
     "text": [
      "Samples collected so far: 4900 | Current idx: 4900. Saving checkpoint and cooling down ...\n"
     ]
    },
    {
     "name": "stderr",
     "output_type": "stream",
     "text": [
      "4950it [1:58:42,  1.03it/s]"
     ]
    },
    {
     "name": "stdout",
     "output_type": "stream",
     "text": [
      "Samples collected so far: 4950 | Current idx: 4950. Saving checkpoint and cooling down ...\n"
     ]
    },
    {
     "name": "stderr",
     "output_type": "stream",
     "text": [
      "5000it [2:00:03,  1.91s/it]"
     ]
    },
    {
     "name": "stdout",
     "output_type": "stream",
     "text": [
      "Samples collected so far: 5000 | Current idx: 5000. Saving checkpoint and cooling down ...\n"
     ]
    },
    {
     "name": "stderr",
     "output_type": "stream",
     "text": [
      "5050it [2:01:11,  1.21s/it]"
     ]
    },
    {
     "name": "stdout",
     "output_type": "stream",
     "text": [
      "Samples collected so far: 5050 | Current idx: 5050. Saving checkpoint and cooling down ...\n"
     ]
    },
    {
     "name": "stderr",
     "output_type": "stream",
     "text": [
      "5100it [2:02:18,  1.56s/it]"
     ]
    },
    {
     "name": "stdout",
     "output_type": "stream",
     "text": [
      "Samples collected so far: 5100 | Current idx: 5100. Saving checkpoint and cooling down ...\n"
     ]
    },
    {
     "name": "stderr",
     "output_type": "stream",
     "text": [
      "5148it [2:03:29,  1.44s/it]\n"
     ]
    }
   ],
   "source": [
    "def save_dataframe(all_information):\n",
    "    pd.DataFrame(all_information, columns=[\"drug_1_CID\", \"drug_1_name\", \"drug_1_SMILES\", \"relationship\", \"drug_2_CID\", \"drug_2_name\", \n",
    "                                               \"drug_2_SMILES\"]).to_csv(\"DDI_subset.csv\", index=False)\n",
    "\n",
    "all_information = []\n",
    "\n",
    "for idx, sample in tqdm(enumerate(sampled_df.itertuples(index=False))):    \n",
    "    drug_1_CID = sample[0]\n",
    "    drug_2_CID = sample[1]\n",
    "    relationship = sample[3]\n",
    "\n",
    "    drug_1_info = CID_information(drug_1_CID)\n",
    "    drug_2_info = CID_information(drug_2_CID)\n",
    "    \n",
    "    try:\n",
    "        all_information.append((drug_1_CID, drug_1_info[0], drug_1_info[1], relationship, drug_2_CID, drug_2_info[0], drug_2_info[1]))\n",
    "    except:\n",
    "        continue\n",
    "\n",
    "    # timeout after 50 API calls.\n",
    "    if (idx % 50 == 0) and (idx != 0):\n",
    "        print(f\"Samples collected so far: {len(all_information)} | Current idx: {idx}. Saving checkpoint and cooling down ...\")\n",
    "        save_dataframe(all_information)\n",
    "        time.sleep(5)\n",
    "\n",
    "save_dataframe(all_information)"
   ]
  },
  {
   "cell_type": "markdown",
   "id": "fdecf766-2dc6-4c8a-9c41-96070eb78024",
   "metadata": {
    "jp-MarkdownHeadingCollapsed": true
   },
   "source": [
    "### DPI Sampling"
   ]
  },
  {
   "cell_type": "code",
   "execution_count": null,
   "id": "ad4cf39b-285c-43c9-ad23-8d5ac82491c9",
   "metadata": {},
   "outputs": [],
   "source": [
    "\"\"\"\n",
    "All drugs in my database: 105\n",
    "Drugs that have protein interactions: 67\n",
    "Drugs that have protein interactions according to the actions table: 52\n",
    "Total proteins found (from the interactions, i.e., dpis_needed): 563\n",
    "Total proteins I could query from STRING: 560\n",
    "\n",
    "Total DPIs obtained from all drugs (dpis_needed): 3578\n",
    "Total DPIs retained after querying STRING (annotated_dpis): 3539\n",
    "\n",
    "After merging with the actions table - which I need to do to get the Drug-Protein relationship, 72 proteins remain.\n",
    "\n",
    ">>Thus, finally, we have 105 total drugs, 52 that participate in DPI & 72 unique proteins.<<\n",
    "\"\"\""
   ]
  },
  {
   "cell_type": "code",
   "execution_count": null,
   "id": "1b8250a4-1864-458f-97de-6ec4d642f8cf",
   "metadata": {},
   "outputs": [],
   "source": [
    "# Getting all the DPIs and their annotations\n",
    "\n",
    "dpi = pd.read_csv(\"../base_data/bio-decagon-targets-all.csv\")\n",
    "ddi_subset = pd.read_csv(\"DDI_subset.csv\")\n",
    "\n",
    "all_drugs = np.unique(np.concatenate((ddi_subset[\"drug_1_CID\"].unique(), ddi_subset[\"drug_2_CID\"].unique())))\n",
    "\n",
    "# This will return less number of drugs since NOT ALL DRUGS HAVE DPIS!\n",
    "dpis_needed = dpi.query(\"STITCH in @all_drugs\")\n",
    "\n",
    "dpis = []\n",
    "for row in tqdm(dpis_needed.itertuples()):  \n",
    "    # Retrieving protein data from the given gene ID\n",
    "    url = f\"https://string-db.org/api/json/get_string_ids?identifiers={row.Gene}&species=9606\"\n",
    "    try:\n",
    "        response = requests.get(url).json()[0]\n",
    "        dpis.append((row.STITCH, response[\"stringId\"], response[\"preferredName\"], response[\"annotation\"]))  \n",
    "    except:\n",
    "        continue\n",
    "\n",
    "# Saving so that I don't have to requery STRING\n",
    "pd.DataFrame(dpis, columns=[\"item_id_a\", \"item_id_b\", \"protein_name\", \"protein_desc\"]).to_csv(\"annotated_dpis.csv\", index=False)"
   ]
  },
  {
   "cell_type": "code",
   "execution_count": null,
   "id": "bcd54df5-1c23-430d-883d-ec5b5d4b2115",
   "metadata": {},
   "outputs": [],
   "source": [
    "annotated_dpis = pd.read_csv(\"annotated_dpis.csv\")\n",
    "actions_subset = pd.read_csv(\"../base_data/actions.csv\")\n",
    "merged = pd.merge(annotated_dpis, actions_subset)\n",
    "merged.rename(columns={\"item_id_a\": \"cid\", \"item_id_b\": \"stringId\"}, inplace=True)\n",
    "\n",
    "# Adding drug names to the DPI dataframe for completeness\n",
    "d1_names = ddi_subset[[\"drug_1_CID\", \"drug_1_name\"]].set_index(\"drug_1_CID\")[\"drug_1_name\"].to_dict()\n",
    "d2_names = ddi_subset[[\"drug_2_CID\", \"drug_2_name\"]].set_index(\"drug_2_CID\")[\"drug_2_name\"].to_dict()\n",
    "drug_cid_df = pd.DataFrame({**d1_names, **d2_names}.items(), columns=[\"cid\", \"drug_name\"])\n",
    "\n",
    "pd.merge(merged, drug_cid_df).drop_duplicates().to_csv(\"DPI_subset.csv\", index=False)"
   ]
  },
  {
   "cell_type": "markdown",
   "id": "a8a9464f-4901-4e65-a0c1-8609f223b394",
   "metadata": {
    "jp-MarkdownHeadingCollapsed": true
   },
   "source": [
    "## Collecting Background information"
   ]
  },
  {
   "cell_type": "code",
   "execution_count": null,
   "id": "abb7a97b-48d3-4bec-937a-ca7827f57abb",
   "metadata": {},
   "outputs": [],
   "source": [
    "ddi_subset = pd.read_csv(\"DDI_subset.csv\")\n",
    "all_drugs = np.unique(np.concatenate((ddi_subset[\"drug_1_name\"].unique(), ddi_subset[\"drug_2_name\"].unique())))"
   ]
  },
  {
   "cell_type": "markdown",
   "id": "6240bb59-7f81-433f-9b6e-f5dc7b08936c",
   "metadata": {},
   "source": [
    "### Drug info - With PubMed (Keywords obtained from https://pubmed.ncbi.nlm.nih.gov/help/#proximity-searching)"
   ]
  },
  {
   "cell_type": "code",
   "execution_count": null,
   "id": "2d24a4f0-f9f6-4615-aace-b29120ea7877",
   "metadata": {},
   "outputs": [],
   "source": [
    "def create_drug_info(drug: str):\n",
    "    '''\n",
    "    AD - Administration and Dosage\n",
    "    AE - Adverse Effects\n",
    "    PK - Pharmacokinetics\n",
    "    PD - Pharmacology\n",
    "    CO - Complications\n",
    "    TU - Therapeutic Use\n",
    "    DE - Drug Effects\n",
    "    '''\n",
    "    drug_query = f\"{drug} AND hasabstract AND Humans AND (AD OR AE OR PK OR PD OR CO OR TU OR DE)\"\n",
    "\n",
    "    # Getting relevant papers for given drug\n",
    "    with Entrez.esearch(db='pubmed', term=drug_query, retmax=20, sort=\"relevance\") as handle:\n",
    "        paper_list = Entrez.read(handle)[\"IdList\"]\n",
    "    \n",
    "    # Getting a parsable record for each paper\n",
    "    with Entrez.efetch(db='pubmed', rettype='medline', retmode=\"text\", id=paper_list) as handle:\n",
    "        records = Medline.parse(handle)\n",
    "        record_list = []\n",
    "        for rec in records:\n",
    "            record_list.append(rec)\n",
    "\n",
    "    # Collecting relevant information\n",
    "    metadata = []\n",
    "    all_abstracts_string = \"\"\n",
    "    for paper_id, record in zip(paper_list, record_list):\n",
    "        try:\n",
    "            metadata.append((drug, paper_id, record[\"TI\"], record[\"AU\"], record[\"MH\"], f\"https://pubmed.ncbi.nlm.nih.gov/{paper_id}/\"))\n",
    "            all_abstracts_string = all_abstracts_string + record[\"AB\"] + \"\\n\"\n",
    "        except:\n",
    "            continue\n",
    "\n",
    "    with Path(f\"../background_information_data/drug_data/{drug}.txt\").open(\"w\") as output_file:\n",
    "        output_file.write(all_abstracts_string)\n",
    "    \n",
    "    return metadata\n",
    "\n",
    "# Gathering all the relevant information \n",
    "metadata = []\n",
    "for drug in tqdm(all_drugs):\n",
    "    metadata.extend(create_drug_info(drug))\n",
    "\n",
    "pd.DataFrame(metadata, columns=[\"drug_name\", \"pubmed_id\", \"title\", \"authors\", \"mesh_terms\", \"paper_url\"]).to_csv(\"../background_information_data/drug_data/metadata.csv\")"
   ]
  },
  {
   "cell_type": "code",
   "execution_count": null,
   "id": "022dca2d-fda4-4b50-b948-bcfca084b046",
   "metadata": {},
   "outputs": [],
   "source": []
  },
  {
   "cell_type": "markdown",
   "id": "ac93a1ac-d416-42de-829f-f89479b9e070",
   "metadata": {
    "jp-MarkdownHeadingCollapsed": true
   },
   "source": [
    "### Protein info"
   ]
  },
  {
   "cell_type": "code",
   "execution_count": null,
   "id": "e076b5c9-1f2b-4214-8f77-98b5def058aa",
   "metadata": {},
   "outputs": [],
   "source": [
    "dpi_subset = pd.read_csv(\"../mined_data/DPI_subset.csv\")\n",
    "all_proteins = dpi_subset[[\"protein_name\", \"protein_desc\"]].set_index(\"protein_name\")[\"protein_desc\"].to_dict()"
   ]
  },
  {
   "cell_type": "code",
   "execution_count": null,
   "id": "95612d11-0b0f-4b0f-987f-07f11332405a",
   "metadata": {},
   "outputs": [],
   "source": [
    "dpi_subset.query(\"drug_name == 'mirtazapine'\")"
   ]
  },
  {
   "cell_type": "code",
   "execution_count": null,
   "id": "eab9485a-57c3-4fc7-82d0-283040cb0998",
   "metadata": {},
   "outputs": [],
   "source": [
    "ddi_subset = pd.read_csv(\"../mined_data/DDI_subset.csv\")"
   ]
  },
  {
   "cell_type": "code",
   "execution_count": null,
   "id": "4a67fd1f-ee1e-4b1f-b671-3ed95df529ca",
   "metadata": {},
   "outputs": [],
   "source": [
    "ddi_subset.iloc[0]"
   ]
  },
  {
   "cell_type": "code",
   "execution_count": null,
   "id": "6529a726-6d91-4383-8cef-04729e30d1a8",
   "metadata": {},
   "outputs": [],
   "source": [
    "cleaned_cid = int(re.sub(r\"CID[m|s]*0*\", \"\", \"CID000003339\"))\n",
    "compound = pcp.Compound.from_cid(cleaned_cid)"
   ]
  },
  {
   "cell_type": "code",
   "execution_count": null,
   "id": "fdd9d603-80ca-4372-90a4-b40346fe590e",
   "metadata": {},
   "outputs": [],
   "source": [
    "def create_protein_info(protein: str, protein_desc: str):\n",
    "    '''\n",
    "    CH - chemistry\n",
    "    ME - metabolism\n",
    "    PH - physiology\n",
    "    GE - genetics\n",
    "    '''\n",
    "    protein_query = f\"{protein} AND hasabstract AND Humans AND (CH OR ME OR PH OR GE)\"\n",
    "\n",
    "    # Getting relevant papers for given protein\n",
    "    with Entrez.esearch(db='pubmed', term=protein_query, retmax=20, sort=\"relevance\") as handle:\n",
    "        paper_list = Entrez.read(handle)[\"IdList\"]\n",
    "    \n",
    "    # Getting a parsable record for each paper\n",
    "    with Entrez.efetch(db='pubmed', rettype='medline', retmode=\"text\", id=paper_list) as handle:\n",
    "        records = Medline.parse(handle)\n",
    "        record_list = []\n",
    "        for rec in records:\n",
    "            record_list.append(rec)\n",
    "\n",
    "    # Collecting relevant information\n",
    "    metadata = []\n",
    "    all_abstracts_string = protein_desc + \"\\n\" # Adding the annotation information from STRING\n",
    "    for paper_id, record in zip(paper_list, record_list):\n",
    "        try:\n",
    "            metadata.append((protein, paper_id, record[\"TI\"], record[\"AU\"], record[\"MH\"], f\"https://pubmed.ncbi.nlm.nih.gov/{paper_id}/\"))\n",
    "            all_abstracts_string = all_abstracts_string + record[\"AB\"] + \"\\n\"\n",
    "        except:\n",
    "            continue\n",
    "\n",
    "    with Path(f\"../background_information_data/protein_data/{protein}.txt\").open(\"w\") as output_file:\n",
    "        output_file.write(all_abstracts_string)\n",
    "    \n",
    "    return metadata"
   ]
  },
  {
   "cell_type": "code",
   "execution_count": null,
   "id": "322e67b5-b70d-4826-aabe-620dc527b1ce",
   "metadata": {},
   "outputs": [],
   "source": [
    "metadata = []\n",
    "for protein_name, protein_desc in tqdm(all_proteins.items()):\n",
    "    metadata.extend(create_protein_info(protein_name, protein_desc))\n",
    "\n",
    "pd.DataFrame(metadata, columns=[\"protein_name\", \"pubmed_id\", \"title\", \"authors\", \"mesh_terms\", \"paper_url\"]).to_csv(\"../background_information_data/protein_data/metadata.csv\")"
   ]
  }
 ],
 "metadata": {
  "kernelspec": {
   "display_name": "Python 3 (ipykernel)",
   "language": "python",
   "name": "python3"
  },
  "language_info": {
   "codemirror_mode": {
    "name": "ipython",
    "version": 3
   },
   "file_extension": ".py",
   "mimetype": "text/x-python",
   "name": "python",
   "nbconvert_exporter": "python",
   "pygments_lexer": "ipython3",
   "version": "3.9.6"
  }
 },
 "nbformat": 4,
 "nbformat_minor": 5
}
