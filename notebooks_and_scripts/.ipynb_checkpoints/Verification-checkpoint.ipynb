{
 "cells": [
  {
   "cell_type": "code",
   "execution_count": null,
   "id": "9a9e7aa9-722b-4ddc-8dfc-79bef973c718",
   "metadata": {},
   "outputs": [],
   "source": [
    "from anthropic.types.message_create_params import MessageCreateParamsNonStreaming\n",
    "from prompts import VERIFICATION_SYSTEM_PROMPT, VERIFICATION_USER_PROMPT\n",
    "from anthropic.types.messages.batch_create_params import Request\n",
    "from pathlib import Path\n",
    "import pandas as pd\n",
    "import anthropic\n",
    "import json\n",
    "import re\n",
    "\n",
    "client = anthropic.Anthropic()"
   ]
  },
  {
   "cell_type": "markdown",
   "id": "68a8a30c-c774-4786-95a5-00496bd2a266",
   "metadata": {
    "jp-MarkdownHeadingCollapsed": true
   },
   "source": [
    "# Run once to save questions for eval"
   ]
  },
  {
   "cell_type": "code",
   "execution_count": null,
   "id": "d2cf03fd-62ac-477c-b078-d7836271f0ec",
   "metadata": {},
   "outputs": [],
   "source": [
    "one_hop = all_questions_df.query(\"Label == 'DDI_Bio_1_hop'\").sample(n=40, random_state=42)\n",
    "two_hop = all_questions_df.query(\"Label == 'DDI_Bio_2_hop'\").sample(n=30, random_state=42)\n",
    "three_hop = all_questions_df.query(\"Label == 'DDI_Bio_3_hop'\").sample(n=30, random_state=42)\n",
    "\n",
    "pd.concat([one_hop, two_hop, three_hop]).to_csv(\"../data/Eval/questions_for_Paul.csv\", index=False)"
   ]
  },
  {
   "cell_type": "markdown",
   "id": "195ac147-c12e-47f1-9494-139f08730acb",
   "metadata": {
    "jp-MarkdownHeadingCollapsed": true
   },
   "source": [
    "# Automatic (Claude) Eval"
   ]
  },
  {
   "cell_type": "code",
   "execution_count": null,
   "id": "e7f67054-6f42-4afa-92e0-1e5575057b39",
   "metadata": {},
   "outputs": [],
   "source": [
    "def create_batch_request(df):\n",
    "    requests = []\n",
    "    for row in df.itertuples():\n",
    "        requests.append(Request(\n",
    "            custom_id=f\"{row.Entities.replace(\" \", \"-\")}-Evaluation\", # Have to do this - their naming convention.\n",
    "            params=MessageCreateParamsNonStreaming(\n",
    "                model=\"claude-3-7-sonnet-20250219\",\n",
    "                max_tokens=1024,\n",
    "                system= [{\"type\": \"text\", \"text\": VERIFICATION_SYSTEM_PROMPT, \"cache_control\": {\"type\": \"ephemeral\"}}],\n",
    "                messages=[{\"role\": \"user\",\n",
    "                           \"content\": VERIFICATION_USER_PROMPT.format(row.Question_Background, row.Question, row.Answer)}])))\n",
    "    return requests\n",
    "\n",
    "formatted_requests = create_batch_request(pd.read_csv(\"../data/Eval/questions_for_Paul.csv\"))\n",
    "\n",
    "message_batch = client.messages.batches.create(requests=formatted_requests)\n",
    "print(message_batch)"
   ]
  },
  {
   "cell_type": "markdown",
   "id": "4e87502e-9642-420e-86ff-0253b6ba3060",
   "metadata": {
    "jp-MarkdownHeadingCollapsed": true
   },
   "source": [
    "# Claude response processing"
   ]
  },
  {
   "cell_type": "code",
   "execution_count": null,
   "id": "aa4bff43-38bc-440a-81bd-2cdc7f29279c",
   "metadata": {},
   "outputs": [],
   "source": [
    "claude_responses = []\n",
    "with Path(\"../data/Eval/calude_eval_results.jsonl\").open(\"r\") as file:\n",
    "    for line in file.readlines():\n",
    "        claude_responses.append(json.loads(line))\n",
    "\n",
    "def parse_metric(metric, text):\n",
    "    regex = re.search(rf\"({metric} REASONING:)(.*?)({metric} SCORE: \\d)\", text, re.DOTALL)\n",
    "    reason = regex.group(2).strip()\n",
    "    score = int(regex.group(3).split(\": \")[1])\n",
    "    return (reason, score)\n",
    "\n",
    "all_response_fields = []\n",
    "for response in claude_responses:\n",
    "    idx = response[\"custom_id\"]\n",
    "    text = response[\"result\"][\"message\"][\"content\"][0][\"text\"] \n",
    "    \n",
    "    # Remove markdown headers and bold formatting\n",
    "    text = re.sub(r'[*#]+', '', text)\n",
    "\n",
    "    clarity_reason, clarity_score = parse_metric(\"CLARITY\", text)\n",
    "    coverage_reason, coverage_score = parse_metric(\"COVERAGE\", text)\n",
    "    assumptions_reason, assumptions_score = parse_metric(\"ASSUMPTIONS\", text)\n",
    "    inferable_reason, inferable_score = parse_metric(\"INFERABLE\", text)\n",
    "\n",
    "    all_response_fields.append((idx, clarity_reason, clarity_score, coverage_reason, coverage_score,\n",
    "                               assumptions_reason, assumptions_score, inferable_reason, inferable_score))\n",
    "\n",
    "pd.DataFrame(data=all_response_fields, columns=[\"ID\", \"clarity_reason\", \"clarity_score\", \"coverage_reason\", \"coverage_score\", \n",
    "                                                \"assumptions_reason\", \"assumptions_score\", \n",
    "                                                \"inferable_reason\", \n",
    "                                                \"inferable_score\"]).to_csv(\"../data/Eval/claude_eval_parsed.csv\", index=False)"
   ]
  },
  {
   "cell_type": "markdown",
   "id": "a58ca14b-a885-45f1-b163-8a3ca978d5b9",
   "metadata": {
    "jp-MarkdownHeadingCollapsed": true
   },
   "source": [
    "# Comparing both "
   ]
  },
  {
   "cell_type": "code",
   "execution_count": null,
   "id": "b5bd525e-c510-478d-976f-6539b4d1fe68",
   "metadata": {},
   "outputs": [],
   "source": [
    "original_set = pd.read_csv(\"../data/Eval/questions_for_Paul.csv\")\n",
    "original_set = original_set[[\"Entities\", \"Question\", \"Answer\", \"Label\"]]\n",
    "\n",
    "pauls_eval = pd.read_csv(\"../data/Eval/BioMolMQA - Evaluation.csv\")\n",
    "pauls_eval.drop(columns=\"Question\", inplace=True)\n",
    "\n",
    "pauls_eval_extended = pd.concat([original_set, pauls_eval], axis=1)\n",
    "pauls_eval_extended[\"Entities\"] = pauls_eval_extended[\"Entities\"].apply(lambda x: x.replace(\" \", \"-\")+\"-Evaluation\")\n",
    "pauls_eval_extended.rename(columns={\"Entities\": \"ID\"}, inplace=True)\n",
    "\n",
    "claudes_eval = pd.read_csv(\"../data/Eval/claude_eval_parsed.csv\")\n",
    "\n",
    "merged_df = pd.merge(pauls_eval_extended, claudes_eval)"
   ]
  },
  {
   "cell_type": "code",
   "execution_count": null,
   "id": "7e4e9dc7-a99b-4851-bde0-81c95c22e73f",
   "metadata": {},
   "outputs": [],
   "source": [
    "def calc_average(df, annotator):\n",
    "    if annotator == \"human\":\n",
    "        cols = [\"CLARITY\", \"COVERAGE\", \"ASSUMPTIONS\", \"INFERABLE\"]\n",
    "        for col in cols:\n",
    "            print(f\"HUMAN {col}: {df[col].mean()}\")\n",
    "    else:\n",
    "        cols = [\"clarity_score\", \"coverage_score\", \"assumptions_score\", \"inferable_score\"]\n",
    "        for col in cols:\n",
    "            print(f\"LLM {col}: {df[col].mean()}\")\n",
    "\n",
    "calc_average(merged_df, \"human\"), calc_average(merged_df, \"llm\")"
   ]
  }
 ],
 "metadata": {
  "kernelspec": {
   "display_name": "Python 3 (ipykernel)",
   "language": "python",
   "name": "python3"
  },
  "language_info": {
   "codemirror_mode": {
    "name": "ipython",
    "version": 3
   },
   "file_extension": ".py",
   "mimetype": "text/x-python",
   "name": "python",
   "nbconvert_exporter": "python",
   "pygments_lexer": "ipython3",
   "version": "3.12.3"
  }
 },
 "nbformat": 4,
 "nbformat_minor": 5
}
